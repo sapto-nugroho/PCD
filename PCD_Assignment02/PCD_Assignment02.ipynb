{
  "nbformat": 4,
  "nbformat_minor": 0,
  "metadata": {
    "colab": {
      "provenance": [],
      "authorship_tag": "ABX9TyOJJD+VSV6AZMBFcE0IAdzR",
      "include_colab_link": true
    },
    "kernelspec": {
      "name": "python3",
      "display_name": "Python 3"
    },
    "language_info": {
      "name": "python"
    }
  },
  "cells": [
    {
      "cell_type": "markdown",
      "metadata": {
        "id": "view-in-github",
        "colab_type": "text"
      },
      "source": [
        "<a href=\"https://colab.research.google.com/github/sapto-nugroho/PCD/blob/main/PCD_Assignment02/PCD_Assignment02.ipynb\" target=\"_parent\"><img src=\"https://colab.research.google.com/assets/colab-badge.svg\" alt=\"Open In Colab\"/></a>"
      ]
    },
    {
      "cell_type": "markdown",
      "source": [
        "##\n",
        "Implementing following program from scratch\n",
        "\n",
        "1. Convolution Function\n",
        "\n",
        "2. Spatial Filtering with several kernel and discuss in which image case the kernel is suitable for\n",
        "\n",
        "3. Sharpening with blurring operation\n",
        "\n",
        "4. Make discussion in the end of COLAB, in which case the filtering should be used instead of pixel-based method.\n",
        "\n",
        "Create your notebook with name as \"PCD_Assignment02\" and upload to GitHub. You need to provide your GitHub's code link to the text editor in submission form."
      ],
      "metadata": {
        "id": "8v23Bo4aC5kh"
      }
    },
    {
      "cell_type": "code",
      "execution_count": 1,
      "metadata": {
        "id": "F8QIoZVi_kI5",
        "outputId": "e8d0627b-ea42-4f3a-8475-e74c399091c6",
        "colab": {
          "base_uri": "https://localhost:8080/"
        }
      },
      "outputs": [
        {
          "output_type": "stream",
          "name": "stdout",
          "text": [
            "sample_data\n",
            "Cloning into 'PCD'...\n",
            "remote: Enumerating objects: 282, done.\u001b[K\n",
            "remote: Counting objects: 100% (82/82), done.\u001b[K\n",
            "remote: Compressing objects: 100% (77/77), done.\u001b[K\n",
            "remote: Total 282 (delta 20), reused 5 (delta 2), pack-reused 200 (from 1)\u001b[K\n",
            "Receiving objects: 100% (282/282), 9.72 MiB | 17.34 MiB/s, done.\n",
            "Resolving deltas: 100% (89/89), done.\n",
            "PCD  sample_data\n"
          ]
        }
      ],
      "source": [
        "!ls\n",
        "!git clone https://github.com/sapto-nugroho/PCD.git\n",
        "!ls"
      ]
    },
    {
      "cell_type": "code",
      "source": [
        "import matplotlib.pyplot as plt\n",
        "import cv2\n",
        "import numpy as np\n",
        "import math\n",
        "import statistics as st\n",
        "import pdb\n",
        "import copy"
      ],
      "metadata": {
        "id": "2NXFM4d3Dtcn"
      },
      "execution_count": 2,
      "outputs": []
    },
    {
      "cell_type": "markdown",
      "source": [
        "##Image"
      ],
      "metadata": {
        "id": "9hpkwfY2D5dD"
      }
    },
    {
      "cell_type": "code",
      "source": [
        "def Acquire(src,size):\n",
        "  #Image and Copy\n",
        "  img = plt.imread(src)\n",
        "  img_copy = copy.deepcopy(img)\n",
        "\n",
        "  #Plot Image dan Copy\n",
        "  fig, axs = plt.subplots(1, 2, figsize=(size, size))\n",
        "  axs[0].imshow(img)\n",
        "  axs[0].set_title(f\"Original, shape, {img.shape}\")\n",
        "  axs[1].imshow(img_copy)\n",
        "  axs[1].set_title(f\"Copy, shape {img_copy.shape}\")\n",
        "  plt.tight_layout()\n",
        "  plt.show()\n",
        "\n",
        "  return img, img_copy"
      ],
      "metadata": {
        "id": "qs28Jc6_D41s"
      },
      "execution_count": 42,
      "outputs": []
    },
    {
      "cell_type": "code",
      "source": [
        "# img_path = '/content/PCD/PCD_Assignment01/grid.jpg'\n",
        "# img_path = '/content/PCD/PCD_Assignment01/grid01.jpg'\n",
        "# img_path = '/content/PCD/PCD_Assignment01/grid02.jpg'\n",
        "# img_path = '/content/PCD/PCD_Assignment01/4x4.jpg'\n",
        "# img_path = '/content/PCD/PCD_Assignment01/4x4color.jpg'\n",
        "# img_path = '/content/PCD/PCD_Assignment01/8x8color.jpg'\n",
        "# img_path = '/content/PCD/PCD_Assignment01/8x8white.jpg'\n",
        "# img_path = '/content/PCD/PCD_Assignment01/16x16.jpg'\n",
        "# img_path = '/content/PCD/PCD_Assignment01/64x64.jpg'\n",
        "# img_path = '/content/PCD/PCD_Assignment01/128x128.jpg'\n",
        "# img_path = '/content/PCD/PCD_Assignment01/color01.jpg'\n",
        "# img_path = '/content/PCD/PCD_Assignment01/color02.jpg'\n",
        "# img_path = '/content/PCD/PCD_Assignment01/clouds.jpg'\n",
        "# img_path = '/content/PCD/PCD_Assignment01/mountain.jpg'\n",
        "\n",
        "img_path = '/content/PCD/PCD_Assignment02/4x4colour.jpg'\n",
        "# img_path = '/content/PCD/PCD_Assignment02/8x8colour.jpg'\n",
        "# img_path = '/content/PCD/PCD_Assignment02/female01.png'\n",
        "# img_path = '/content/PCD/PCD_Assignment02/pattern.png'\n",
        "\n",
        "img,img_copy = Acquire(img_path,10)\n",
        "# print(img[0][0],img_copy[-1][-1])"
      ],
      "metadata": {
        "colab": {
          "base_uri": "https://localhost:8080/",
          "height": 506
        },
        "id": "XqxhQ9KaEJ6S",
        "outputId": "a1ba8b31-e581-441c-ac94-fe7302059828"
      },
      "execution_count": 75,
      "outputs": [
        {
          "output_type": "display_data",
          "data": {
            "text/plain": [
              "<Figure size 1000x1000 with 2 Axes>"
            ],
            "image/png": "[encoded data removed]"
          },
          "metadata": {}
        }
      ]
    },
    {
      "cell_type": "code",
      "source": [
        "print(img_copy)"
      ],
      "metadata": {
        "id": "bVlN6a1tR30l",
        "outputId": "5cdb8cc1-49e1-4cd6-b090-e224bb39283a",
        "colab": {
          "base_uri": "https://localhost:8080/"
        }
      },
      "execution_count": 76,
      "outputs": [
        {
          "output_type": "stream",
          "name": "stdout",
          "text": [
            "[[[  0   0  41]\n",
            "  [ 79  86 130]\n",
            "  [252 209 156]\n",
            "  [ 36   0   0]]\n",
            "\n",
            " [[ 21  28  72]\n",
            "  [189 196 240]\n",
            "  [189 146  93]\n",
            "  [129  86  33]]\n",
            "\n",
            " [[255 221 114]\n",
            "  [118  84   0]\n",
            "  [ 25   0   5]\n",
            "  [175 138 155]]\n",
            "\n",
            " [[190 156  49]\n",
            "  [255 224 117]\n",
            "  [107  70  87]\n",
            "  [229 192 209]]]\n"
          ]
        }
      ]
    },
    {
      "cell_type": "code",
      "source": [
        "# if img_copy.dtype != np.uint8:\n",
        "#   img_copy = img_copy*255\n",
        "#   img_copy = img_copy.astype(np.uint8)\n",
        "\n",
        "img_copy = img_copy.astype(int)\n",
        "\n",
        "if img_copy.shape[2] == 4:\n",
        "  b,g,r,a = cv2.split(img_copy)\n",
        "else:\n",
        "  b,g,r = cv2.split(img_copy)\n",
        "\n",
        "bgr = []\n",
        "bgr.append(b)\n",
        "bgr.append(g)\n",
        "bgr.append(r)\n",
        "\n",
        "bgr_pad = []\n",
        "for i in range(3):\n",
        "  # bgr_pad = np.pad(b, pad_width=((1, 1), (1, 1)), mode='constant', constant_values=0)\n",
        "  bgr_pad.append(np.pad(bgr[i], pad_width=1, mode='constant', constant_values=0))\n",
        "  # print(bgr_pad)\n",
        "\n",
        "kernel1 = np.array([[0,0,0],[0,2,0],[0,0,0]])"
      ],
      "metadata": {
        "id": "OhuR82vGL3dj"
      },
      "execution_count": 103,
      "outputs": []
    },
    {
      "cell_type": "code",
      "source": [
        "# img_new = np.zeros((3,b.shape[0],b.shape[1])).astype(np.uint8)\n",
        "img_new = np.zeros((3,b.shape[0],b.shape[1])).astype(int)\n",
        "# print(img_new.shape)\n",
        "\n",
        "for h in range(3):\n",
        "  for i in range(b.shape[0]):\n",
        "    for j in range(b.shape[1]):\n",
        "      img_new[h][i][j] = (kernel1[0][0]*bgr_pad[h][i][j]+kernel1[0][1]*bgr_pad[h][i][j+1]+kernel1[0][2]*bgr_pad[h][i][j+2])+(kernel1[1][0]*bgr_pad[h][i+1][j]+kernel1[1][1]*bgr_pad[h][i+1][j+1]+kernel1[1][2]*bgr_pad[h][i+1][j+2])+(kernel1[2][0]*bgr_pad[h][i+2][j]+kernel1[2][1]*bgr_pad[h][i+2][j+1]+kernel1[2][2]*bgr_pad[h][i+2][j+2])\n",
        "\n",
        "img_co = cv2.merge([img_new[0],img_new[1],img_new[2]])\n",
        "# img_co = cv2.merge([img_new[2],img_new[1],img_new[0]])\n",
        "img_co = img_co.astype(np.uint8)\n",
        "\n",
        "plt.imshow(img_co)\n",
        "plt.show()"
      ],
      "metadata": {
        "id": "jDlIaSExGidm",
        "outputId": "4e17c34d-5d5f-4def-cef0-9c3c52bf5510",
        "colab": {
          "base_uri": "https://localhost:8080/",
          "height": 435
        }
      },
      "execution_count": 104,
      "outputs": [
        {
          "output_type": "display_data",
          "data": {
            "text/plain": [
              "<Figure size 640x480 with 1 Axes>"
            ],
            "image/png": "[encoded data removed]"
          },
          "metadata": {}
        }
      ]
    }
  ]
}
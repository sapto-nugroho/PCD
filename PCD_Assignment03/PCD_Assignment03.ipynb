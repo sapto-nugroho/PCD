{
  "nbformat": 4,
  "nbformat_minor": 0,
  "metadata": {
    "colab": {
      "provenance": [],
      "authorship_tag": "ABX9TyO2BIRU/strQeNLMjj9AcLH",
      "include_colab_link": true
    },
    "kernelspec": {
      "name": "python3",
      "display_name": "Python 3"
    },
    "language_info": {
      "name": "python"
    }
  },
  "cells": [
    {
      "cell_type": "markdown",
      "metadata": {
        "id": "view-in-github",
        "colab_type": "text"
      },
      "source": [
        "<a href=\"https://colab.research.google.com/github/sapto-nugroho/PCD/blob/main/PCD_Assignment03/PCD_Assignment03.ipynb\" target=\"_parent\"><img src=\"https://colab.research.google.com/assets/colab-badge.svg\" alt=\"Open In Colab\"/></a>"
      ]
    },
    {
      "cell_type": "markdown",
      "source": [
        "##Nama : Sapto Nugroho\n",
        "\n",
        "##NIU : 565712"
      ],
      "metadata": {
        "id": "LsG6cNIkz1tV"
      }
    },
    {
      "cell_type": "markdown",
      "source": [
        "### Import"
      ],
      "metadata": {
        "id": "HAsYfeto5k8d"
      }
    },
    {
      "cell_type": "code",
      "source": [
        "!ls\n",
        "!git clone https://github.com/sapto-nugroho/PCD.git\n",
        "!ls"
      ],
      "metadata": {
        "colab": {
          "base_uri": "https://localhost:8080/"
        },
        "id": "Tpb6x-le5ioW",
        "outputId": "3b66f83b-9041-42d4-9a8a-459f6a1db264"
      },
      "execution_count": 1,
      "outputs": [
        {
          "output_type": "stream",
          "name": "stdout",
          "text": [
            "sample_data\n",
            "Cloning into 'PCD'...\n",
            "remote: Enumerating objects: 543, done.\u001b[K\n",
            "remote: Counting objects: 100% (175/175), done.\u001b[K\n",
            "remote: Compressing objects: 100% (149/149), done.\u001b[K\n",
            "remote: Total 543 (delta 63), reused 25 (delta 20), pack-reused 368 (from 3)\u001b[K\n",
            "Receiving objects: 100% (543/543), 24.52 MiB | 26.15 MiB/s, done.\n",
            "Resolving deltas: 100% (152/152), done.\n",
            "PCD  sample_data\n"
          ]
        }
      ]
    },
    {
      "cell_type": "code",
      "source": [
        "import numpy as np\n",
        "import matplotlib.pyplot as plt\n",
        "from skimage import color, io, img_as_float\n",
        "import cv2\n",
        "import copy"
      ],
      "metadata": {
        "id": "KX5xb7Wz5iGA"
      },
      "execution_count": 2,
      "outputs": []
    },
    {
      "cell_type": "code",
      "source": [
        "# img_path = '/content/PCD/PCD_Assignment03/images/grid.jpg'\n",
        "# img_path = '/content/PCD/PCD_Assignment03/images/16x16.jpg'\n",
        "img_path = '/content/PCD/PCD_Assignment03/images/8x8.jpg'\n",
        "# img_path = '/content/PCD/PCD_Assignment03/images/4x4.jpg'\n",
        "\n",
        "img = cv2.imread(img_path)\n",
        "# img = cv2.cvtColor(img, cv2.COLOR_BGR2RGB)\n",
        "img = cv2.cvtColor(img, cv2.COLOR_RGB2GRAY)\n",
        "# img = img_as_float(img)\n",
        "\n",
        "# print(img.shape)\n",
        "# print(img)\n",
        "\n",
        "plt.figure(figsize=(10,3))\n",
        "plt.imshow(img, cmap='gray')\n",
        "plt.title(f\"Original {img.shape[0]} x {img.shape[1]}\")\n",
        "plt.axis(\"off\")\n",
        "\n",
        "plt.show()"
      ],
      "metadata": {
        "colab": {
          "base_uri": "https://localhost:8080/",
          "height": 290
        },
        "id": "P6qs2YWZ6TdC",
        "outputId": "35817a98-8ff4-4ae7-97a0-ce27f4936b72"
      },
      "execution_count": 54,
      "outputs": [
        {
          "output_type": "display_data",
          "data": {
            "text/plain": [
              "<Figure size 1000x300 with 1 Axes>"
            ],
            "image/png": "[encoded data removed]"
          },
          "metadata": {}
        }
      ]
    },
    {
      "cell_type": "code",
      "source": [
        "print(img.shape)\n",
        "print(img)\n",
        "\n",
        "img1d = img.ravel()\n",
        "\n",
        "# print(img1d.shape)\n",
        "# print(img1d)\n",
        "\n",
        "val, freq = np.unique(img1d, return_counts=True)\n",
        "\n",
        "# print(freq.shape)\n",
        "# print(val.shape)\n",
        "print(freq)\n",
        "print(val)\n",
        "\n",
        "bins = np.arange(0, 257)\n",
        "# print(bins)\n",
        "\n",
        "# Creating plot\n",
        "fig = plt.figure(figsize =(10, 7))\n",
        "\n",
        "plt.hist(img1d, bins)\n",
        "\n",
        "plt.title(\"Numpy Histogram\")\n",
        "# plt.xticks(np.arange(min(bins), max(bins)+1, 1.0))\n",
        "# plt.yticks(np.arange(min(freq), max(freq)+1, 1.0))\n",
        "\n",
        "plt.show()"
      ],
      "metadata": {
        "id": "i5-lRUUuQJNL",
        "outputId": "cdd16362-3832-485b-fa58-2a55ee259f42",
        "colab": {
          "base_uri": "https://localhost:8080/",
          "height": 865
        }
      },
      "execution_count": 62,
      "outputs": [
        {
          "output_type": "stream",
          "name": "stdout",
          "text": [
            "(8, 8)\n",
            "[[168  90 133 255 169 130 255 253]\n",
            " [ 60   0   1  64  79   3 163 135]\n",
            " [ 70   0   0  88 124 133 135   0]\n",
            " [169  96  18 157 179  34  20  80]\n",
            " [132   0 124 150  11   0   1   4]\n",
            " [167 161 254  60   2   1   0  60]\n",
            " [138   0 168  68   0 255 173 134]\n",
            " [255 169  68   3 255 254 132   0]]\n",
            "[10  3  1  2  1  1  1  1  1  3  1  2  1  1  1  1  1  1  2  1  2  2  1  2\n",
            "  1  1  1  1  1  1  2  3  1  1  1  2  5]\n",
            "[  0   1   2   3   4  11  18  20  34  60  64  68  70  79  80  88  90  96\n",
            " 124 130 132 133 134 135 138 150 157 161 163 167 168 169 173 179 253 254\n",
            " 255]\n"
          ]
        },
        {
          "output_type": "display_data",
          "data": {
            "text/plain": [
              "<Figure size 1000x700 with 1 Axes>"
            ],
            "image/png": "[encoded data removed]"
          },
          "metadata": {}
        }
      ]
    },
    {
      "cell_type": "markdown",
      "source": [
        "### **1 Segmentasi**"
      ],
      "metadata": {
        "id": "1efXEnR63RSp"
      }
    },
    {
      "cell_type": "markdown",
      "source": [
        "####  **1.1 Pixel based**\n",
        "\n"
      ],
      "metadata": {
        "id": "eshqcmxj3qL-"
      }
    },
    {
      "cell_type": "markdown",
      "source": [
        "##### Basic Thresholding"
      ],
      "metadata": {
        "id": "bqDwAu8j31nz"
      }
    },
    {
      "cell_type": "code",
      "source": [],
      "metadata": {
        "id": "5sQLzr1w4xYV"
      },
      "execution_count": null,
      "outputs": []
    },
    {
      "cell_type": "markdown",
      "source": [
        "##### Adaptive Thresholding"
      ],
      "metadata": {
        "id": "6hSUL41m31fN"
      }
    },
    {
      "cell_type": "code",
      "source": [],
      "metadata": {
        "id": "KDQyNSdz4xrD"
      },
      "execution_count": null,
      "outputs": []
    },
    {
      "cell_type": "markdown",
      "source": [
        "##### Probability Thresholding"
      ],
      "metadata": {
        "id": "Y-efccgy31Sn"
      }
    },
    {
      "cell_type": "code",
      "source": [],
      "metadata": {
        "id": "IPf5qA6o4ySH"
      },
      "execution_count": null,
      "outputs": []
    },
    {
      "cell_type": "markdown",
      "source": [
        "####  **1.2 Region based**"
      ],
      "metadata": {
        "id": "z_dIsaJ13p-6"
      }
    },
    {
      "cell_type": "markdown",
      "source": [
        "##### 1.2.1 Region Growing"
      ],
      "metadata": {
        "id": "9_qM38RK401F"
      }
    },
    {
      "cell_type": "markdown",
      "source": [
        "##### 1.2.2 Watershed / Flood fill"
      ],
      "metadata": {
        "id": "d0O_bfq240lB"
      }
    },
    {
      "cell_type": "markdown",
      "source": [
        "##### 1.2.3 Clustering"
      ],
      "metadata": {
        "id": "m4_PXS214zer"
      }
    },
    {
      "cell_type": "markdown",
      "source": [
        "#### **1.3 Feature based / Detection**"
      ],
      "metadata": {
        "id": "v7K5uJHD3pwS"
      }
    },
    {
      "cell_type": "markdown",
      "source": [
        "##### 1.3.1 Sliding Window"
      ],
      "metadata": {
        "id": "CjU-g7Cx5Ch3"
      }
    },
    {
      "cell_type": "markdown",
      "source": [
        "### **2 Morphological Process**"
      ],
      "metadata": {
        "id": "S2mwmXk55Hkw"
      }
    },
    {
      "cell_type": "code",
      "execution_count": null,
      "metadata": {
        "id": "9gLH3ZAWtFjH"
      },
      "outputs": [],
      "source": []
    }
  ]
}
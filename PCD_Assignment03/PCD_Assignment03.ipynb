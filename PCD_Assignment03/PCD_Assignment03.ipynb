{
  "nbformat": 4,
  "nbformat_minor": 0,
  "metadata": {
    "colab": {
      "provenance": [],
      "authorship_tag": "ABX9TyM0gP2iT17iKsBDrbbH3a4K",
      "include_colab_link": true
    },
    "kernelspec": {
      "name": "python3",
      "display_name": "Python 3"
    },
    "language_info": {
      "name": "python"
    }
  },
  "cells": [
    {
      "cell_type": "markdown",
      "metadata": {
        "id": "view-in-github",
        "colab_type": "text"
      },
      "source": [
        "<a href=\"https://colab.research.google.com/github/sapto-nugroho/PCD/blob/main/PCD_Assignment03/PCD_Assignment03.ipynb\" target=\"_parent\"><img src=\"https://colab.research.google.com/assets/colab-badge.svg\" alt=\"Open In Colab\"/></a>"
      ]
    },
    {
      "cell_type": "markdown",
      "source": [
        "##Nama : Sapto Nugroho\n",
        "\n",
        "##NIU : 565712"
      ],
      "metadata": {
        "id": "LsG6cNIkz1tV"
      }
    },
    {
      "cell_type": "markdown",
      "source": [
        "### Import"
      ],
      "metadata": {
        "id": "HAsYfeto5k8d"
      }
    },
    {
      "cell_type": "code",
      "source": [
        "!ls\n",
        "!git clone https://github.com/sapto-nugroho/PCD.git\n",
        "!ls"
      ],
      "metadata": {
        "id": "Tpb6x-le5ioW"
      },
      "execution_count": null,
      "outputs": []
    },
    {
      "cell_type": "code",
      "source": [
        "import numpy as np\n",
        "import matplotlib.pyplot as plt\n",
        "from skimage import color, io, img_as_float\n",
        "import cv2\n",
        "import copy"
      ],
      "metadata": {
        "id": "KX5xb7Wz5iGA"
      },
      "execution_count": null,
      "outputs": []
    },
    {
      "cell_type": "code",
      "source": [
        "img_path = '/content/PCD/PCD_Assignment03/images/moon.png'\n",
        "\n",
        "img = cv2.imread(img_path)\n",
        "# img = cv2.cvtColor(img, cv2.COLOR_BGR2RGB)\n",
        "img = cv2.cvtColor(img, cv2.COLOR_RGB2GRAY)\n",
        "img = img_as_float(img)\n",
        "\n",
        "# print(img.shape)\n",
        "# print(img)\n",
        "\n",
        "plt.figure(figsize=(10,3))\n",
        "plt.imshow(img, cmap='gray')\n",
        "plt.title(f\"Original {img.shape[0]} x {img.shape[1]}\")\n",
        "plt.axis(\"off\")\n",
        "\n",
        "plt.show()"
      ],
      "metadata": {
        "id": "P6qs2YWZ6TdC"
      },
      "execution_count": null,
      "outputs": []
    },
    {
      "cell_type": "markdown",
      "source": [
        "### **1 Segmentasi**"
      ],
      "metadata": {
        "id": "1efXEnR63RSp"
      }
    },
    {
      "cell_type": "markdown",
      "source": [
        "####  **1.1 Pixel based**\n",
        "\n"
      ],
      "metadata": {
        "id": "eshqcmxj3qL-"
      }
    },
    {
      "cell_type": "markdown",
      "source": [
        "##### 1.1.1 Basic Thresholding"
      ],
      "metadata": {
        "id": "bqDwAu8j31nz"
      }
    },
    {
      "cell_type": "code",
      "source": [],
      "metadata": {
        "id": "5sQLzr1w4xYV"
      },
      "execution_count": null,
      "outputs": []
    },
    {
      "cell_type": "markdown",
      "source": [
        "##### 1.1.2 Adaptive Thresholding"
      ],
      "metadata": {
        "id": "6hSUL41m31fN"
      }
    },
    {
      "cell_type": "code",
      "source": [],
      "metadata": {
        "id": "KDQyNSdz4xrD"
      },
      "execution_count": null,
      "outputs": []
    },
    {
      "cell_type": "markdown",
      "source": [
        "##### 1.1.3 Probability Thresholding"
      ],
      "metadata": {
        "id": "Y-efccgy31Sn"
      }
    },
    {
      "cell_type": "code",
      "source": [],
      "metadata": {
        "id": "IPf5qA6o4ySH"
      },
      "execution_count": null,
      "outputs": []
    },
    {
      "cell_type": "markdown",
      "source": [
        "####  **1.2 Region based**"
      ],
      "metadata": {
        "id": "z_dIsaJ13p-6"
      }
    },
    {
      "cell_type": "markdown",
      "source": [
        "##### 1.2.1 Region Growing"
      ],
      "metadata": {
        "id": "9_qM38RK401F"
      }
    },
    {
      "cell_type": "markdown",
      "source": [
        "##### 1.2.2 Watershed / Flood fill"
      ],
      "metadata": {
        "id": "d0O_bfq240lB"
      }
    },
    {
      "cell_type": "markdown",
      "source": [
        "##### 1.2.3 Clustering"
      ],
      "metadata": {
        "id": "m4_PXS214zer"
      }
    },
    {
      "cell_type": "markdown",
      "source": [
        "#### **1.3 Feature based / Detection**"
      ],
      "metadata": {
        "id": "v7K5uJHD3pwS"
      }
    },
    {
      "cell_type": "markdown",
      "source": [
        "##### 1.3.1 Sliding Window"
      ],
      "metadata": {
        "id": "CjU-g7Cx5Ch3"
      }
    },
    {
      "cell_type": "markdown",
      "source": [
        "### **2 Morphological Process**"
      ],
      "metadata": {
        "id": "S2mwmXk55Hkw"
      }
    },
    {
      "cell_type": "code",
      "execution_count": null,
      "metadata": {
        "id": "9gLH3ZAWtFjH"
      },
      "outputs": [],
      "source": []
    }
  ]
}
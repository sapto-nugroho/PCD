{
  "nbformat": 4,
  "nbformat_minor": 0,
  "metadata": {
    "colab": {
      "provenance": [],
      "authorship_tag": "ABX9TyP8uWfJAWsOjX3y9/gN1wT/",
      "include_colab_link": true
    },
    "kernelspec": {
      "name": "python3",
      "display_name": "Python 3"
    },
    "language_info": {
      "name": "python"
    }
  },
  "cells": [
    {
      "cell_type": "markdown",
      "metadata": {
        "id": "view-in-github",
        "colab_type": "text"
      },
      "source": [
        "<a href=\"https://colab.research.google.com/github/sapto-nugroho/PCD/blob/main/PCD_Assignment03/PCD_Assignment03.ipynb\" target=\"_parent\"><img src=\"https://colab.research.google.com/assets/colab-badge.svg\" alt=\"Open In Colab\"/></a>"
      ]
    },
    {
      "cell_type": "markdown",
      "source": [
        "##Nama : Sapto Nugroho\n",
        "\n",
        "##NIU : 565712"
      ],
      "metadata": {
        "id": "LsG6cNIkz1tV"
      }
    },
    {
      "cell_type": "markdown",
      "source": [
        "### Import"
      ],
      "metadata": {
        "id": "HAsYfeto5k8d"
      }
    },
    {
      "cell_type": "code",
      "source": [
        "!ls\n",
        "!git clone https://github.com/sapto-nugroho/PCD.git\n",
        "!ls"
      ],
      "metadata": {
        "colab": {
          "base_uri": "https://localhost:8080/"
        },
        "id": "Tpb6x-le5ioW",
        "outputId": "a5052470-6587-4e8f-d822-44a2d7f314a9"
      },
      "execution_count": 1,
      "outputs": [
        {
          "output_type": "stream",
          "name": "stdout",
          "text": [
            "sample_data\n",
            "Cloning into 'PCD'...\n",
            "remote: Enumerating objects: 589, done.\u001b[K\n",
            "remote: Counting objects: 100% (221/221), done.\u001b[K\n",
            "remote: Compressing objects: 100% (195/195), done.\u001b[K\n",
            "remote: Total 589 (delta 80), reused 25 (delta 20), pack-reused 368 (from 3)\u001b[K\n",
            "Receiving objects: 100% (589/589), 26.24 MiB | 10.98 MiB/s, done.\n",
            "Resolving deltas: 100% (169/169), done.\n",
            "PCD  sample_data\n"
          ]
        }
      ]
    },
    {
      "cell_type": "code",
      "source": [
        "import numpy as np\n",
        "import matplotlib.pyplot as plt\n",
        "from skimage import color, io, img_as_float\n",
        "import cv2\n",
        "import copy"
      ],
      "metadata": {
        "id": "KX5xb7Wz5iGA"
      },
      "execution_count": 2,
      "outputs": []
    },
    {
      "cell_type": "markdown",
      "source": [
        "### Input"
      ],
      "metadata": {
        "id": "i2HyjjBn3lrS"
      }
    },
    {
      "cell_type": "code",
      "source": [
        "# img_path = '/content/PCD/PCD_Assignment03/images/woman01.jpg'\n",
        "# img_path = '/content/PCD/PCD_Assignment03/images/script.png'\n",
        "# img_path = '/content/PCD/PCD_Assignment03/images/grid.jpg'\n",
        "# img_path = '/content/PCD/PCD_Assignment03/images/16x16.jpg'\n",
        "img_path = '/content/PCD/PCD_Assignment03/images/8x8.jpg'\n",
        "# img_path = '/content/PCD/PCD_Assignment03/images/4x4.jpg'\n",
        "#\n",
        "img0 = cv2.imread(img_path)\n",
        "# img = cv2.cvtColor(img, cv2.COLOR_BGR2RGB)\n",
        "img0 = cv2.cvtColor(img0, cv2.COLOR_RGB2GRAY)\n",
        "# img = img_as_float(img)\n",
        "\n",
        "img = copy.deepcopy(img0)\n",
        "# print(img.shape)\n",
        "# print(img)\n",
        "\n",
        "plt.figure(figsize=(10,3))\n",
        "plt.imshow(img, cmap='gray')\n",
        "plt.title(f\"Original {img.shape[0]} x {img.shape[1]}\")\n",
        "plt.axis(\"off\")\n",
        "\n",
        "plt.show()"
      ],
      "metadata": {
        "colab": {
          "base_uri": "https://localhost:8080/",
          "height": 290
        },
        "id": "P6qs2YWZ6TdC",
        "outputId": "cc6cd4cc-9a13-4876-efca-d0255874e23e"
      },
      "execution_count": 11,
      "outputs": [
        {
          "output_type": "display_data",
          "data": {
            "text/plain": [
              "<Figure size 1000x300 with 1 Axes>"
            ],
            "image/png": "[encoded data removed]"
          },
          "metadata": {}
        }
      ]
    },
    {
      "cell_type": "code",
      "source": [
        "# print(img.shape)\n",
        "# print(img)\n",
        "\n",
        "img1d = img.ravel()\n",
        "# print(img1d.shape)\n",
        "# print(img1d)\n",
        "\n",
        "val, freq = np.unique(img1d, return_counts=True)\n",
        "# print(val.shape)\n",
        "# print(freq.shape)\n",
        "# print(val)\n",
        "# print(freq)\n",
        "\n",
        "bins = np.arange(0, 257)\n",
        "# print(bins)\n",
        "\n",
        "# Creating plot\n",
        "fig = plt.figure(figsize =(10, 7))\n",
        "plt.hist(img1d, bins)\n",
        "plt.title(\"Numpy Histogram\")\n",
        "# plt.xticks(np.arange(min(bins), max(bins)+1, 1.0))\n",
        "# plt.yticks(np.arange(min(freq), max(freq)+1, 1.0))\n",
        "plt.show()"
      ],
      "metadata": {
        "colab": {
          "base_uri": "https://localhost:8080/",
          "height": 622
        },
        "id": "i5-lRUUuQJNL",
        "outputId": "ddb3f3f8-e763-4bfb-8d43-76723d8331db"
      },
      "execution_count": 22,
      "outputs": [
        {
          "output_type": "display_data",
          "data": {
            "text/plain": [
              "<Figure size 1000x700 with 1 Axes>"
            ],
            "image/png": "[encoded data removed]"
          },
          "metadata": {}
        }
      ]
    },
    {
      "cell_type": "markdown",
      "source": [
        "### **Segmentasi**"
      ],
      "metadata": {
        "id": "1efXEnR63RSp"
      }
    },
    {
      "cell_type": "markdown",
      "source": [
        "####  **Pixel based**\n",
        "\n"
      ],
      "metadata": {
        "id": "eshqcmxj3qL-"
      }
    },
    {
      "cell_type": "markdown",
      "source": [
        "##### Basic Global Thresholding"
      ],
      "metadata": {
        "id": "bqDwAu8j31nz"
      }
    },
    {
      "cell_type": "code",
      "source": [
        "T1 =np.floor(np.mean(img1d))#Nilai Threshold\n",
        "T2 = T1\n",
        "T3 = 0\n",
        "sorted = np.sort(img1d)\n",
        "output = np.zeros_like(img)\n",
        "\n",
        "while (T3-T1 != 0):\n",
        "  first = sorted[sorted <= T2]\n",
        "  second = sorted[sorted > T2]\n",
        "  T1 = T2\n",
        "  # print(first)\n",
        "  # print(second)\n",
        "  # print(np.floor(np.mean(first)))\n",
        "  # print(np.floor(np.mean(second)))\n",
        "\n",
        "  m1 = np.floor(np.mean(first))\n",
        "  m2 = np.floor(np.mean(second))\n",
        "  T3 = (m1+m2)/2\n",
        "  # print(T1)\n",
        "  # print(T3)\n",
        "  # print(T3-T1)\n",
        "  T2 = T3\n",
        "\n",
        "T3 = np.floor(T3)\n",
        "print(\"Threshold (T): \",T3)\n",
        "\n",
        "for i in range(img.shape[0]):\n",
        "  for j in range(img.shape[1]):\n",
        "    if img[i,j] > T3:\n",
        "      output[i,j] = 255\n",
        "    else:\n",
        "      output[i,j] = 0\n",
        "\n",
        "#Plot\n",
        "plt.figure(figsize=(10,3))\n",
        "plt.imshow(output, cmap='gray')\n",
        "plt.title(f\"Output (Global Thresholding) {img.shape[0]} x {img.shape[1]}\")\n",
        "plt.axis(\"off\")\n",
        "plt.show()"
      ],
      "metadata": {
        "colab": {
          "base_uri": "https://localhost:8080/",
          "height": 307
        },
        "id": "5sQLzr1w4xYV",
        "outputId": "75036066-5f1b-4b4b-ab6c-e3969f1b481f"
      },
      "execution_count": 48,
      "outputs": [
        {
          "output_type": "stream",
          "name": "stdout",
          "text": [
            "Threshold (T):  102.0\n"
          ]
        },
        {
          "output_type": "display_data",
          "data": {
            "text/plain": [
              "<Figure size 1000x300 with 1 Axes>"
            ],
            "image/png": "[encoded data removed]"
          },
          "metadata": {}
        }
      ]
    },
    {
      "cell_type": "markdown",
      "source": [
        "##### Otsu Method"
      ],
      "metadata": {
        "id": "vdH02QK53CAl"
      }
    },
    {
      "cell_type": "code",
      "source": [
        "img1d = img.ravel()\n",
        "sorted = np.sort(img1d)\n",
        "val, freq = np.unique(sorted, return_counts=True)\n",
        "# print(val)\n",
        "# print(freq)\n",
        "\n",
        "# val_freq = np.stack((val,freq), axis=1)\n",
        "# print(val_freq)\n",
        "\n",
        "var_w = np.zeros(len(val))\n",
        "\n",
        "for i in range(1,len(val)):\n",
        "  # print(i)\n",
        "  weight_b = np.sum(freq[0:i])/np.sum(freq)\n",
        "  mean_b = np.sum(val[0:i]*freq[0:i])/np.sum(freq[0:i])\n",
        "  var_b = np.sum(((val[0:i]-mean_b)**2)*freq[0:i])/np.sum(freq[0:i])\n",
        "\n",
        "  weight_f = np.sum(freq[i:])/np.sum(freq)\n",
        "  mean_f = np.sum(val[i:]*freq[i:])/np.sum(freq[i:])\n",
        "  var_f = np.sum(((val[i:]-mean_f)**2)*freq[i:])/np.sum(freq[i:])\n",
        "\n",
        "  var_w[i] = weight_b*var_b + weight_f*var_f\n",
        "\n",
        "# print(var_w.shape)\n",
        "# print(var_w)\n",
        "\n",
        "mask = (var_w != 0) & ~np.isnan(var_w)\n",
        "min_idx = np.nanargmin(np.where(mask, var_w, np.nan))\n",
        "min_val = var_w[min_idx]\n",
        "\n",
        "# print(min_idx, min_val)\n",
        "T = val[min_idx]\n",
        "print(\"Threshold (T): \",T)\n",
        "\n",
        "output = np.zeros_like(img)\n",
        "\n",
        "for i in range(img.shape[0]):\n",
        "  for j in range(img.shape[1]):\n",
        "    if img[i,j] > T:\n",
        "      output[i,j] = 255\n",
        "    else:\n",
        "      output[i,j] = 0\n",
        "\n",
        "#Plot\n",
        "plt.figure(figsize=(10,3))\n",
        "plt.imshow(output, cmap='gray')\n",
        "plt.title(f\"Output (Otsu Method) {img.shape[0]} x {img.shape[1]}\")\n",
        "plt.axis(\"off\")\n",
        "plt.show()"
      ],
      "metadata": {
        "colab": {
          "base_uri": "https://localhost:8080/",
          "height": 307
        },
        "id": "OiMjbOlZ11BK",
        "outputId": "f0bd3f00-707a-4a88-e085-e3bf86f85004"
      },
      "execution_count": 47,
      "outputs": [
        {
          "output_type": "stream",
          "name": "stdout",
          "text": [
            "Threshold (T):  124\n"
          ]
        },
        {
          "output_type": "display_data",
          "data": {
            "text/plain": [
              "<Figure size 1000x300 with 1 Axes>"
            ],
            "image/png": "[encoded data removed]"
          },
          "metadata": {}
        }
      ]
    },
    {
      "cell_type": "markdown",
      "source": [
        "##### Adaptive Thresholding"
      ],
      "metadata": {
        "id": "6hSUL41m31fN"
      }
    },
    {
      "cell_type": "code",
      "source": [],
      "metadata": {
        "id": "KDQyNSdz4xrD"
      },
      "execution_count": null,
      "outputs": []
    },
    {
      "cell_type": "markdown",
      "source": [
        "##### Probability Thresholding"
      ],
      "metadata": {
        "id": "Y-efccgy31Sn"
      }
    },
    {
      "cell_type": "code",
      "source": [],
      "metadata": {
        "id": "IPf5qA6o4ySH"
      },
      "execution_count": null,
      "outputs": []
    },
    {
      "cell_type": "markdown",
      "source": [
        "####  **Region based**"
      ],
      "metadata": {
        "id": "z_dIsaJ13p-6"
      }
    },
    {
      "cell_type": "markdown",
      "source": [
        "##### Region Growing"
      ],
      "metadata": {
        "id": "9_qM38RK401F"
      }
    },
    {
      "cell_type": "markdown",
      "source": [
        "##### Watershed / Flood fill"
      ],
      "metadata": {
        "id": "d0O_bfq240lB"
      }
    },
    {
      "cell_type": "markdown",
      "source": [
        "##### Clustering"
      ],
      "metadata": {
        "id": "m4_PXS214zer"
      }
    },
    {
      "cell_type": "markdown",
      "source": [
        "#### **Feature based / Detection**"
      ],
      "metadata": {
        "id": "v7K5uJHD3pwS"
      }
    },
    {
      "cell_type": "markdown",
      "source": [
        "##### Sliding Window"
      ],
      "metadata": {
        "id": "CjU-g7Cx5Ch3"
      }
    },
    {
      "cell_type": "markdown",
      "source": [
        "### **Morphological Process**"
      ],
      "metadata": {
        "id": "S2mwmXk55Hkw"
      }
    },
    {
      "cell_type": "code",
      "execution_count": null,
      "metadata": {
        "id": "9gLH3ZAWtFjH"
      },
      "outputs": [],
      "source": []
    }
  ]
}
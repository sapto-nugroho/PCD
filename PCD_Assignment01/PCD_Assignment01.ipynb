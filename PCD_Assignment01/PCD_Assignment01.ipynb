{
  "nbformat": 4,
  "nbformat_minor": 0,
  "metadata": {
    "colab": {
      "provenance": [],
      "authorship_tag": "ABX9TyPmgumOZKeydX83dVEw0iYK",
      "include_colab_link": true
    },
    "kernelspec": {
      "name": "python3",
      "display_name": "Python 3"
    },
    "language_info": {
      "name": "python"
    }
  },
  "cells": [
    {
      "cell_type": "markdown",
      "metadata": {
        "id": "view-in-github",
        "colab_type": "text"
      },
      "source": [
        "<a href=\"https://colab.research.google.com/github/sapto-nugroho/PCD/blob/main/PCD_Assignment01/PCD_Assignment01.ipynb\" target=\"_parent\"><img src=\"https://colab.research.google.com/assets/colab-badge.svg\" alt=\"Open In Colab\"/></a>"
      ]
    },
    {
      "cell_type": "markdown",
      "source": [
        "#\n",
        "##Nama  : Sapto Nugroho\n",
        "##NIU   : 565712"
      ],
      "metadata": {
        "id": "-Mf4H5vN-N9N"
      }
    },
    {
      "cell_type": "markdown",
      "source": [
        "###git clone"
      ],
      "metadata": {
        "id": "I0IANH0HDN7p"
      }
    },
    {
      "cell_type": "code",
      "source": [
        "!ls\n",
        "!git clone https://github.com/sapto-nugroho/PCD.git\n",
        "!ls"
      ],
      "metadata": {
        "id": "zd-wWmlqNua8",
        "collapsed": true,
        "colab": {
          "base_uri": "https://localhost:8080/"
        },
        "outputId": "6f9bf415-2728-4ea2-b9d5-1d7c5d09220c"
      },
      "execution_count": 468,
      "outputs": [
        {
          "output_type": "stream",
          "name": "stdout",
          "text": [
            "PCD  sample_data\n",
            "fatal: destination path 'PCD' already exists and is not an empty directory.\n",
            "PCD  sample_data\n"
          ]
        }
      ]
    },
    {
      "cell_type": "markdown",
      "source": [
        "##function================================================================================================================"
      ],
      "metadata": {
        "id": "AjZwhFE151Hk"
      }
    },
    {
      "cell_type": "markdown",
      "source": [
        "###Import"
      ],
      "metadata": {
        "id": "DfUwEHGwH0Dc"
      }
    },
    {
      "cell_type": "code",
      "source": [
        "import matplotlib.pyplot as plt\n",
        "import numpy as np\n",
        "import math\n",
        "import statistics as st\n",
        "import pdb\n",
        "from scipy.interpolate import CubicSpline\n"
      ],
      "metadata": {
        "id": "kcLVe3bLG_F9"
      },
      "execution_count": 470,
      "outputs": []
    },
    {
      "cell_type": "code",
      "source": [
        "img_copy = img_copy.astype(int)\n",
        "baris_lama, kolom_lama, c = img_copy.shape\n",
        "# print(img_copy)\n",
        "\n",
        "baris_baru = 8\n",
        "kolom_baru = 8\n",
        "\n",
        "img_us = np.zeros(shape=(baris_baru,kolom_baru,c))\n",
        "# print(img_us)\n",
        "\n",
        "k_baris = (baris_lama)/(baris_baru) if baris_baru != 0 else 0\n",
        "k_kolom = (kolom_lama)/(kolom_baru) if kolom_baru != 0 else 0\n",
        "\n",
        "RGB = []\n",
        "\n",
        "for i in range(c):\n",
        "  RGB.append(img_copy[:,:,i])\n",
        "\n",
        "# r = img_copy[:,:,0]\n",
        "# g = img_copy[:,:,1]\n",
        "# b = img_copy[:,:,2]\n",
        "# print(r)\n",
        "# print(r[0,:])\n",
        "# print(r[:,0])\n",
        "# print(g)\n",
        "# print(b)\n",
        "\n",
        "# RGB = np.array([r,g,b])\n",
        "# print(RGB[0,0,:])\n",
        "\n",
        "xs = np.arange(0,len(r))\n",
        "print(xs)\n",
        "\n",
        "cs = CubicSpline(xs, RGB[0][0],bc_type='natural')#kolom wise\n",
        "\n",
        "# cs = CubicSpline(xs, RGB[0,0,:])\n",
        "# print(cs)\n",
        "\n",
        "# new_xs = np.linspace(0,len(r)-1,(len(r)-1)*10)\n",
        "new_xs = np.linspace(0,len(r),(len(r))*10*2)\n",
        "new_cs = cs(new_xs)\n",
        "new_cs = new_cs.astype(int)\n",
        "print(new_cs)\n",
        "# print(new_cs.shape)\n",
        "print(len(new_cs))\n",
        "# print(new_cs[0].type)\n",
        "\n",
        "# for i in range(c):\n",
        "cs1 = new_cs.copy()\n",
        "# print(cs1)\n",
        "\n",
        "for i in range(len(cs1)):\n",
        "  if cs1[i] > 255:\n",
        "    new_cs[i] = new_cs[i-1]\n",
        "  elif cs1[i] < 0:\n",
        "    new_cs[i] = new_cs[i-1]\n",
        "\n",
        "print(new_cs)\n",
        "\n",
        "f = np.arange(0,4,0.5)\n",
        "# f = np.linspace(0,4,4*2)\n",
        "# print(f)\n",
        "\n",
        "plt.plot(f,np.ones(len(f)),'o')\n",
        "# plt.plot(f,np.linspace(0,1,10),'o')\n",
        "plt.plot(xs, RGB[0][0], 'o', label='data points')\n",
        "plt.plot(new_xs, new_cs, label='cubic spline interpolation')\n",
        "plt.show()"
      ],
      "metadata": {
        "id": "cZj3pLKWdt31"
      },
      "execution_count": null,
      "outputs": []
    },
    {
      "cell_type": "code",
      "source": [
        "print(img_copy)\n",
        "print(img_copy[:,:,0])\n",
        "# print(img_copy)"
      ],
      "metadata": {
        "colab": {
          "base_uri": "https://localhost:8080/"
        },
        "id": "aNP5Ljz6bhCu",
        "outputId": "5a5c8883-9ed1-4831-c73a-60ee81130520"
      },
      "execution_count": 495,
      "outputs": [
        {
          "output_type": "stream",
          "name": "stdout",
          "text": [
            "[[[243  27  38]\n",
            "  [240  24  35]\n",
            "  [ 37 172  80]\n",
            "  [ 42 177  85]]\n",
            "\n",
            " [[239  23  34]\n",
            "  [241  25  36]\n",
            "  [ 41 176  84]\n",
            "  [ 37 172  80]]\n",
            "\n",
            " [[255 242   2]\n",
            "  [255 241   1]\n",
            "  [  0 165 229]\n",
            "  [  0 171 235]]\n",
            "\n",
            " [[255 238   0]\n",
            "  [255 241   1]\n",
            "  [  0 168 232]\n",
            "  [  0 165 229]]]\n",
            "[[243 240  37  42]\n",
            " [239 241  41  37]\n",
            " [255 255   0   0]\n",
            " [255 255   0   0]]\n"
          ]
        }
      ]
    },
    {
      "cell_type": "code",
      "source": [
        "img_copy = img_copy.astype(int)\n",
        "baris_lama, kolom_lama, c = img_copy.shape\n",
        "# print(img_copy)\n",
        "\n",
        "baris_baru = 8\n",
        "kolom_baru = 8\n",
        "\n",
        "img_us = np.zeros(shape=(baris_baru,kolom_baru,c), dtype=int)\n",
        "# print(img_us)\n",
        "\n",
        "k_baris = (baris_lama)/(baris_baru) if baris_baru != 0 else 0\n",
        "k_kolom = (kolom_lama)/(kolom_baru) if kolom_baru != 0 else 0\n",
        "\n",
        "#RGB[channel][baris][kolom]\n",
        "RGB = []\n",
        "for i in range(c):\n",
        "  RGB.append(img_copy[:,:,i])\n",
        "\n",
        "temp_cs = []\n",
        "temp_xs = []\n",
        "\n",
        "#Divide And Conquer (kolom => baris)\n",
        "for h in range(c):\n",
        "  for i in range(len(RGB[h][:])):\n",
        "    xs = np.arange(0,len(RGB[h][i]))\n",
        "    # print(xs)\n",
        "\n",
        "    cs = CubicSpline(xs, RGB[h][i],bc_type='natural')#kolom wise\n",
        "\n",
        "    # new_xs = np.linspace(0,len(r)-1,(len(r)-1)*10)\n",
        "    new_xs = np.linspace(0,len(RGB[h][i]),len(RGB[h][i])*10*2)\n",
        "    # new_cs = cs(new_xs)\n",
        "    new_cs = new_cs.astype(int)\n",
        "    # print(len(new_cs))\n",
        "\n",
        "    # for i in range(c):\n",
        "    cs1 = new_cs.copy()\n",
        "\n",
        "    for i in range(len(cs1)):\n",
        "      if cs1[i] > 255:\n",
        "        new_cs[i] = new_cs[i-1]\n",
        "      elif cs1[i] < 0:\n",
        "        new_cs[i] = new_cs[i-1]\n",
        "\n",
        "    # print(new_cs)\n",
        "    temp_cs.append(new_cs)\n",
        "    temp_xs.append(new_xs)\n",
        "\n",
        "  f = np.arange(0,4,0.5)\n",
        "  # print(f)\n",
        "\n",
        "plt.plot(f,np.ones(len(f)),'o')\n",
        "# plt.plot(f,np.linspace(0,1,10),'o')\n",
        "plt.plot(xs, RGB[0][0], 'o', label='data points')\n",
        "plt.plot(new_xs, new_cs, label='cubic spline interpolation')\n",
        "plt.show()\n"
      ],
      "metadata": {
        "id": "opoEIHmaJOyB",
        "outputId": "bbd5c969-4208-407a-d01f-50df8c10d80d",
        "colab": {
          "base_uri": "https://localhost:8080/",
          "height": 430
        }
      },
      "execution_count": 565,
      "outputs": [
        {
          "output_type": "display_data",
          "data": {
            "text/plain": [
              "<Figure size 640x480 with 1 Axes>"
            ],
            "image/png": "[encoded data removed]"
          },
          "metadata": {}
        }
      ]
    },
    {
      "cell_type": "code",
      "source": [
        "temp_cs = np.array(temp_cs)\n",
        "# print(temp_cs)\n",
        "temp_cs = temp_cs.reshape(3,4,80)\n",
        "print(temp_cs)"
      ],
      "metadata": {
        "id": "0R1hEm-hmORU",
        "outputId": "8851785d-7bcb-459f-d094-80a4aefa6b2b",
        "colab": {
          "base_uri": "https://localhost:8080/"
        }
      },
      "execution_count": 555,
      "outputs": [
        {
          "output_type": "stream",
          "name": "stdout",
          "text": [
            "[[[255 255 255 255 255 255 255 255 255 255 255 255 255 255 255 255 255\n",
            "   255 255 255 252 243 232 220 208 194 181 166 151 136 121 106  92  77\n",
            "    63  49  37  25  14   4   4   4   4   4   4   4   4   4   4   4   4\n",
            "     4   4   4   4   4   4   4   4   4   3   7  11  15  19  22  25  28\n",
            "    30  31  32  32  32  30  28  24  20  14   7   0]\n",
            "  [255 255 255 255 255 255 255 255 255 255 255 255 255 255 255 255 255\n",
            "   255 255 255 252 243 232 220 208 194 181 166 151 136 121 106  92  77\n",
            "    63  49  37  25  14   4   4   4   4   4   4   4   4   4   4   4   4\n",
            "     4   4   4   4   4   4   4   4   4   3   7  11  15  19  22  25  28\n",
            "    30  31  32  32  32  30  28  24  20  14   7   0]\n",
            "  [255 255 255 255 255 255 255 255 255 255 255 255 255 255 255 255 255\n",
            "   255 255 255 252 243 232 220 208 194 181 166 151 136 121 106  92  77\n",
            "    63  49  37  25  14   4   4   4   4   4   4   4   4   4   4   4   4\n",
            "     4   4   4   4   4   4   4   4   4   3   7  11  15  19  22  25  28\n",
            "    30  31  32  32  32  30  28  24  20  14   7   0]\n",
            "  [255 255 255 255 255 255 255 255 255 255 255 255 255 255 255 255 255\n",
            "   255 255 255 252 243 232 220 208 194 181 166 151 136 121 106  92  77\n",
            "    63  49  37  25  14   4   4   4   4   4   4   4   4   4   4   4   4\n",
            "     4   4   4   4   4   4   4   4   4   3   7  11  15  19  22  25  28\n",
            "    30  31  32  32  32  30  28  24  20  14   7   0]]\n",
            "\n",
            " [[255 255 255 255 255 255 255 255 255 255 255 255 255 255 255 255 255\n",
            "   255 255 255 252 243 232 220 208 194 181 166 151 136 121 106  92  77\n",
            "    63  49  37  25  14   4   4   4   4   4   4   4   4   4   4   4   4\n",
            "     4   4   4   4   4   4   4   4   4   3   7  11  15  19  22  25  28\n",
            "    30  31  32  32  32  30  28  24  20  14   7   0]\n",
            "  [255 255 255 255 255 255 255 255 255 255 255 255 255 255 255 255 255\n",
            "   255 255 255 252 243 232 220 208 194 181 166 151 136 121 106  92  77\n",
            "    63  49  37  25  14   4   4   4   4   4   4   4   4   4   4   4   4\n",
            "     4   4   4   4   4   4   4   4   4   3   7  11  15  19  22  25  28\n",
            "    30  31  32  32  32  30  28  24  20  14   7   0]\n",
            "  [255 255 255 255 255 255 255 255 255 255 255 255 255 255 255 255 255\n",
            "   255 255 255 252 243 232 220 208 194 181 166 151 136 121 106  92  77\n",
            "    63  49  37  25  14   4   4   4   4   4   4   4   4   4   4   4   4\n",
            "     4   4   4   4   4   4   4   4   4   3   7  11  15  19  22  25  28\n",
            "    30  31  32  32  32  30  28  24  20  14   7   0]\n",
            "  [255 255 255 255 255 255 255 255 255 255 255 255 255 255 255 255 255\n",
            "   255 255 255 252 243 232 220 208 194 181 166 151 136 121 106  92  77\n",
            "    63  49  37  25  14   4   4   4   4   4   4   4   4   4   4   4   4\n",
            "     4   4   4   4   4   4   4   4   4   3   7  11  15  19  22  25  28\n",
            "    30  31  32  32  32  30  28  24  20  14   7   0]]\n",
            "\n",
            " [[255 255 255 255 255 255 255 255 255 255 255 255 255 255 255 255 255\n",
            "   255 255 255 252 243 232 220 208 194 181 166 151 136 121 106  92  77\n",
            "    63  49  37  25  14   4   4   4   4   4   4   4   4   4   4   4   4\n",
            "     4   4   4   4   4   4   4   4   4   3   7  11  15  19  22  25  28\n",
            "    30  31  32  32  32  30  28  24  20  14   7   0]\n",
            "  [255 255 255 255 255 255 255 255 255 255 255 255 255 255 255 255 255\n",
            "   255 255 255 252 243 232 220 208 194 181 166 151 136 121 106  92  77\n",
            "    63  49  37  25  14   4   4   4   4   4   4   4   4   4   4   4   4\n",
            "     4   4   4   4   4   4   4   4   4   3   7  11  15  19  22  25  28\n",
            "    30  31  32  32  32  30  28  24  20  14   7   0]\n",
            "  [255 255 255 255 255 255 255 255 255 255 255 255 255 255 255 255 255\n",
            "   255 255 255 252 243 232 220 208 194 181 166 151 136 121 106  92  77\n",
            "    63  49  37  25  14   4   4   4   4   4   4   4   4   4   4   4   4\n",
            "     4   4   4   4   4   4   4   4   4   3   7  11  15  19  22  25  28\n",
            "    30  31  32  32  32  30  28  24  20  14   7   0]\n",
            "  [255 255 255 255 255 255 255 255 255 255 255 255 255 255 255 255 255\n",
            "   255 255 255 252 243 232 220 208 194 181 166 151 136 121 106  92  77\n",
            "    63  49  37  25  14   4   4   4   4   4   4   4   4   4   4   4   4\n",
            "     4   4   4   4   4   4   4   4   4   3   7  11  15  19  22  25  28\n",
            "    30  31  32  32  32  30  28  24  20  14   7   0]]]\n"
          ]
        }
      ]
    },
    {
      "cell_type": "code",
      "source": [
        "print(len(temp_cs))\n",
        "print(temp_cs[2])\n",
        "# print(temp_xs)"
      ],
      "metadata": {
        "colab": {
          "base_uri": "https://localhost:8080/"
        },
        "id": "GEekBWVrf6cU",
        "outputId": "d8c4a92c-aa67-4099-dcc1-6e2e6e5a25bb"
      },
      "execution_count": 556,
      "outputs": [
        {
          "output_type": "stream",
          "name": "stdout",
          "text": [
            "3\n",
            "[[255 255 255 255 255 255 255 255 255 255 255 255 255 255 255 255 255 255\n",
            "  255 255 252 243 232 220 208 194 181 166 151 136 121 106  92  77  63  49\n",
            "   37  25  14   4   4   4   4   4   4   4   4   4   4   4   4   4   4   4\n",
            "    4   4   4   4   4   4   3   7  11  15  19  22  25  28  30  31  32  32\n",
            "   32  30  28  24  20  14   7   0]\n",
            " [255 255 255 255 255 255 255 255 255 255 255 255 255 255 255 255 255 255\n",
            "  255 255 252 243 232 220 208 194 181 166 151 136 121 106  92  77  63  49\n",
            "   37  25  14   4   4   4   4   4   4   4   4   4   4   4   4   4   4   4\n",
            "    4   4   4   4   4   4   3   7  11  15  19  22  25  28  30  31  32  32\n",
            "   32  30  28  24  20  14   7   0]\n",
            " [255 255 255 255 255 255 255 255 255 255 255 255 255 255 255 255 255 255\n",
            "  255 255 252 243 232 220 208 194 181 166 151 136 121 106  92  77  63  49\n",
            "   37  25  14   4   4   4   4   4   4   4   4   4   4   4   4   4   4   4\n",
            "    4   4   4   4   4   4   3   7  11  15  19  22  25  28  30  31  32  32\n",
            "   32  30  28  24  20  14   7   0]\n",
            " [255 255 255 255 255 255 255 255 255 255 255 255 255 255 255 255 255 255\n",
            "  255 255 252 243 232 220 208 194 181 166 151 136 121 106  92  77  63  49\n",
            "   37  25  14   4   4   4   4   4   4   4   4   4   4   4   4   4   4   4\n",
            "    4   4   4   4   4   4   3   7  11  15  19  22  25  28  30  31  32  32\n",
            "   32  30  28  24  20  14   7   0]]\n"
          ]
        }
      ]
    },
    {
      "cell_type": "code",
      "source": [
        "print(img_us[0,:,0])"
      ],
      "metadata": {
        "colab": {
          "base_uri": "https://localhost:8080/"
        },
        "id": "6A2EPh7KiWeR",
        "outputId": "f9e58cbb-d84e-4d3f-f43c-ccf6a59ba397"
      },
      "execution_count": 518,
      "outputs": [
        {
          "output_type": "stream",
          "name": "stdout",
          "text": [
            "[0 0 0 0 0 0 0 0]\n"
          ]
        }
      ]
    },
    {
      "cell_type": "code",
      "source": [
        "for h in range(c):\n",
        "  for i in range(int(len(img_us[:,0,0])/2)):\n",
        "    for j in range(len(img_us[0,:,0])):\n",
        "      img_us[i*2,j,h] = temp_cs[h,i,j*10]\n",
        "print(img_us[0,:,:])\n",
        "print(img_us)"
      ],
      "metadata": {
        "id": "LqtW8ZX8Gadc",
        "outputId": "44e10e9e-76b8-49cb-93df-84270bed2c50",
        "colab": {
          "base_uri": "https://localhost:8080/"
        }
      },
      "execution_count": 559,
      "outputs": [
        {
          "output_type": "stream",
          "name": "stdout",
          "text": [
            "[[255 255 255]\n",
            " [255 255 255]\n",
            " [252 252 252]\n",
            " [121 121 121]\n",
            " [  4   4   4]\n",
            " [  4   4   4]\n",
            " [  3   3   3]\n",
            " [ 32  32  32]]\n",
            "[[[255 255 255]\n",
            "  [255 255 255]\n",
            "  [252 252 252]\n",
            "  [121 121 121]\n",
            "  [  4   4   4]\n",
            "  [  4   4   4]\n",
            "  [  3   3   3]\n",
            "  [ 32  32  32]]\n",
            "\n",
            " [[  0   0   0]\n",
            "  [  0   0   0]\n",
            "  [  0   0   0]\n",
            "  [  0   0   0]\n",
            "  [  0   0   0]\n",
            "  [  0   0   0]\n",
            "  [  0   0   0]\n",
            "  [  0   0   0]]\n",
            "\n",
            " [[255 255 255]\n",
            "  [255 255 255]\n",
            "  [252 252 252]\n",
            "  [121 121 121]\n",
            "  [  4   4   4]\n",
            "  [  4   4   4]\n",
            "  [  3   3   3]\n",
            "  [ 32  32  32]]\n",
            "\n",
            " [[  0   0   0]\n",
            "  [  0   0   0]\n",
            "  [  0   0   0]\n",
            "  [  0   0   0]\n",
            "  [  0   0   0]\n",
            "  [  0   0   0]\n",
            "  [  0   0   0]\n",
            "  [  0   0   0]]\n",
            "\n",
            " [[255 255 255]\n",
            "  [255 255 255]\n",
            "  [252 252 252]\n",
            "  [121 121 121]\n",
            "  [  4   4   4]\n",
            "  [  4   4   4]\n",
            "  [  3   3   3]\n",
            "  [ 32  32  32]]\n",
            "\n",
            " [[  0   0   0]\n",
            "  [  0   0   0]\n",
            "  [  0   0   0]\n",
            "  [  0   0   0]\n",
            "  [  0   0   0]\n",
            "  [  0   0   0]\n",
            "  [  0   0   0]\n",
            "  [  0   0   0]]\n",
            "\n",
            " [[255 255 255]\n",
            "  [255 255 255]\n",
            "  [252 252 252]\n",
            "  [121 121 121]\n",
            "  [  4   4   4]\n",
            "  [  4   4   4]\n",
            "  [  3   3   3]\n",
            "  [ 32  32  32]]\n",
            "\n",
            " [[  0   0   0]\n",
            "  [  0   0   0]\n",
            "  [  0   0   0]\n",
            "  [  0   0   0]\n",
            "  [  0   0   0]\n",
            "  [  0   0   0]\n",
            "  [  0   0   0]\n",
            "  [  0   0   0]]]\n"
          ]
        }
      ]
    },
    {
      "cell_type": "code",
      "source": [
        "print(RGB)\n",
        "print(RGB[0][:])"
      ],
      "metadata": {
        "colab": {
          "base_uri": "https://localhost:8080/"
        },
        "id": "60x9ID2rcRoC",
        "outputId": "a64c32bc-f4b2-40cb-d834-8c7976920ea3"
      },
      "execution_count": 561,
      "outputs": [
        {
          "output_type": "stream",
          "name": "stdout",
          "text": [
            "[array([[243, 240,  37,  42],\n",
            "       [239, 241,  41,  37],\n",
            "       [255, 255,   0,   0],\n",
            "       [255, 255,   0,   0]]), array([[ 27,  24, 172, 177],\n",
            "       [ 23,  25, 176, 172],\n",
            "       [242, 241, 165, 171],\n",
            "       [238, 241, 168, 165]]), array([[ 38,  35,  80,  85],\n",
            "       [ 34,  36,  84,  80],\n",
            "       [  2,   1, 229, 235],\n",
            "       [  0,   1, 232, 229]])]\n",
            "[[243 240  37  42]\n",
            " [239 241  41  37]\n",
            " [255 255   0   0]\n",
            " [255 255   0   0]]\n"
          ]
        }
      ]
    },
    {
      "cell_type": "code",
      "source": [
        "# print(img_us[0])\n",
        "print(img_us[0,i,0])\n",
        "print(len(img_us[0,:,0]))"
      ],
      "metadata": {
        "id": "H-4okEAVH2dN",
        "outputId": "a1157d1f-fa91-4d05-afde-3ee9e7476929",
        "colab": {
          "base_uri": "https://localhost:8080/"
        }
      },
      "execution_count": null,
      "outputs": [
        {
          "output_type": "stream",
          "name": "stdout",
          "text": [
            "0\n",
            "8\n"
          ]
        }
      ]
    },
    {
      "cell_type": "code",
      "source": [
        "print(len(temp[0]))\n",
        "print(temp[0][3])\n",
        "print(len(r))\n",
        "print(r)"
      ],
      "metadata": {
        "id": "FnPe6lcRG1iW",
        "outputId": "fadfee7c-f9e3-4fdc-d0b0-9e61845e5198",
        "colab": {
          "base_uri": "https://localhost:8080/"
        }
      },
      "execution_count": null,
      "outputs": [
        {
          "output_type": "stream",
          "name": "stdout",
          "text": [
            "4\n",
            "[255 255   0   0]\n",
            "4\n",
            "[[243 240  37  42]\n",
            " [239 241  41  37]\n",
            " [255 255   0   0]\n",
            " [255 255   0   0]]\n"
          ]
        }
      ]
    },
    {
      "cell_type": "code",
      "source": [
        "print(RGB[0,0,0].shape)\n",
        "print(new_cs[0].astype)"
      ],
      "metadata": {
        "id": "YmFA-FEI20iH",
        "outputId": "05a333ee-c0be-428b-9f4a-50db7e61e708",
        "colab": {
          "base_uri": "https://localhost:8080/"
        }
      },
      "execution_count": null,
      "outputs": [
        {
          "output_type": "stream",
          "name": "stdout",
          "text": [
            "(4,)\n",
            "<built-in method astype of numpy.int64 object at 0x7e73e28427f0>\n"
          ]
        }
      ]
    },
    {
      "cell_type": "code",
      "source": [
        "a = np.array([100,23,256,265,21,-21,-21])\n",
        "# print(a)\n",
        "# for i in range(len(RGB[0,0,:])):\n",
        "#   if RGB[0,0,i] > 255:\n",
        "#     RGB[0,0,i] = 255\n",
        "#   elif RGB[0,0,i] < 0:\n",
        "#     RGB[0,0,i] = 0\n",
        "\n",
        "# print(RGB[0,0,:])\n",
        "print(RGB)\n"
      ],
      "metadata": {
        "id": "32bDPstkdQdX",
        "outputId": "48d38334-f3ed-41d6-eeac-93d0fc5371aa",
        "colab": {
          "base_uri": "https://localhost:8080/"
        }
      },
      "execution_count": null,
      "outputs": [
        {
          "output_type": "stream",
          "name": "stdout",
          "text": [
            "[array([[243, 240,  37,  42],\n",
            "       [239, 241,  41,  37],\n",
            "       [255, 255,   0,   0],\n",
            "       [255, 255,   0,   0]]), array([[ 27,  24, 172, 177],\n",
            "       [ 23,  25, 176, 172],\n",
            "       [242, 241, 165, 171],\n",
            "       [238, 241, 168, 165]]), array([[ 38,  35,  80,  85],\n",
            "       [ 34,  36,  84,  80],\n",
            "       [  2,   1, 229, 235],\n",
            "       [  0,   1, 232, 229]])]\n"
          ]
        }
      ]
    },
    {
      "cell_type": "code",
      "source": [
        "print(img_copy)\n",
        "# print(img_copy[:,:,0])\n",
        "\n",
        "ys = img_copy[:,:,0].reshape(16) #nilai RGB\n",
        "print(ys)\n",
        "xs = np.arange(0,16) #koordinat\n",
        "print(xs)\n",
        "\n",
        "cs = CubicSpline(xs, ys)\n",
        "# cs = CubicSpline(xs, ys,bc_type='natural')\n",
        "\n",
        "new_xs = np.linspace(0,16,48)\n",
        "new_cs = cs(new_xs)\n",
        "\n",
        "print(new_cs)\n",
        "\n",
        "plt.plot(xs, ys, 'o', label='data points')\n",
        "plt.plot(new_xs, new_cs, label='cubic spline interpolation')\n",
        "plt.show()\n"
      ],
      "metadata": {
        "id": "Kdr63WlTU11D",
        "outputId": "69bdaa13-ab2a-42d0-aa7b-b5852a8f6af5",
        "colab": {
          "base_uri": "https://localhost:8080/",
          "height": 1000
        }
      },
      "execution_count": null,
      "outputs": [
        {
          "output_type": "stream",
          "name": "stdout",
          "text": [
            "[[[243  27  38]\n",
            "  [240  24  35]\n",
            "  [ 37 172  80]\n",
            "  [ 42 177  85]]\n",
            "\n",
            " [[239  23  34]\n",
            "  [241  25  36]\n",
            "  [ 41 176  84]\n",
            "  [ 37 172  80]]\n",
            "\n",
            " [[255 242   2]\n",
            "  [255 241   1]\n",
            "  [  0 165 229]\n",
            "  [  0 171 235]]\n",
            "\n",
            " [[255 238   0]\n",
            "  [255 241   1]\n",
            "  [  0 168 232]\n",
            "  [  0 165 229]]]\n",
            "[243 240  37  42 239 241  41  37 255 255   0   0 255 255   0   0]\n",
            "[ 0  1  2  3  4  5  6  7  8  9 10 11 12 13 14 15]\n",
            "[ 2.43000000e+02  2.94868433e+02  2.86099129e+02  2.36026193e+02\n",
            "  1.63983730e+02  8.93058447e+01  3.13203188e+01  4.77017591e+00\n",
            "  1.17318623e+01  5.20878667e+01  1.19496445e+02  1.93232168e+02\n",
            "  2.50601953e+02  2.75920836e+02  2.67114659e+02  2.23793329e+02\n",
            "  1.53996164e+02  7.95780142e+01  2.34901696e+01  3.41000666e-01\n",
            "  1.31624811e+01  6.37447988e+01  1.41633039e+02  2.21956075e+02\n",
            "  2.79477486e+02  2.99578398e+02  2.78257487e+02  2.13002538e+02\n",
            "  1.19213818e+02  2.75064230e+01 -3.22918924e+01 -4.76054212e+01\n",
            " -1.82917239e+01  5.38686581e+01  1.49311028e+02  2.37619866e+02\n",
            "  2.90493211e+02  2.99372376e+02  2.65864366e+02  1.93637214e+02\n",
            "  1.00397861e+02  9.92828329e+00 -5.39652448e+01 -6.74764502e+01\n",
            " -6.79905949e+00  1.51873201e+02  4.32346604e+02  8.58427424e+02]\n"
          ]
        },
        {
          "output_type": "display_data",
          "data": {
            "text/plain": [
              "<Figure size 640x480 with 1 Axes>"
            ],
            "image/png": "[encoded data removed]"
          },
          "metadata": {}
        }
      ]
    },
    {
      "cell_type": "markdown",
      "source": [
        "###Image Acquisition"
      ],
      "metadata": {
        "id": "DglraIlqWYau"
      }
    },
    {
      "cell_type": "code",
      "source": [
        "def Acquire(src,size):\n",
        "  #Image and Copy\n",
        "  img = plt.imread(src)\n",
        "  img_copy = img.copy()\n",
        "\n",
        "  #Plot Image dan Copy\n",
        "  fig, axs = plt.subplots(1, 2, figsize=(size, size))\n",
        "  axs[0].imshow(img)\n",
        "  axs[0].set_title(f\"Original, shape, {img.shape}\")\n",
        "  axs[1].imshow(img_copy)\n",
        "  axs[1].set_title(f\"Copy, shape {img_copy.shape}\")\n",
        "  plt.tight_layout()\n",
        "  plt.show()\n",
        "\n",
        "  return img, img_copy\n"
      ],
      "metadata": {
        "id": "IcYZmgYYh_zQ"
      },
      "execution_count": 471,
      "outputs": []
    },
    {
      "cell_type": "markdown",
      "source": [
        "###Downsampling"
      ],
      "metadata": {
        "id": "PjnsGm7QW7pG"
      }
    },
    {
      "cell_type": "code",
      "source": [
        "def DownSample(img_copy,order,size):\n",
        "  div = 2**order\n",
        "\n",
        "  #baris\n",
        "  baris = img_copy.shape[0]//div\n",
        "  print(f\"baris = {baris}, sisa baris = {img_copy.shape[0]%div}\")\n",
        "\n",
        "  #kolom\n",
        "  kolom = img_copy.shape[1]//div\n",
        "  print(f\"kolom = {kolom}, sisa kolom = {img_copy.shape[1]%div}\")\n",
        "\n",
        "  #Matriks Image DownSample (img_ds)\n",
        "  img_ds = np.zeros(shape=(baris,kolom,3),dtype=np.uint8)\n",
        "  print(img_copy.shape,\"==>\",img_ds.shape)\n",
        "  #print(img_ds)\n",
        "\n",
        "  #DownSampling\n",
        "  for j in range(0,img_ds.shape[0]):\n",
        "    # print(\"J= \",j,j*div)\n",
        "    for i in range(0,img_ds.shape[1]):\n",
        "      # print(i, i*div)\n",
        "      img_ds[j][i] = img_copy[j*div][i*div]\n",
        "\n",
        "  fig, axs = plt.subplots(1, 2, figsize=(size, size))\n",
        "  axs[0].imshow(img_copy)\n",
        "  axs[0].set_title(f\"Before, shape, {img_copy.shape}\")\n",
        "  axs[1].imshow(img_ds)\n",
        "  axs[1].set_title(f\"After, shape {img_ds.shape}\")\n",
        "  fig.suptitle(\"Downsampling\", fontsize=16)\n",
        "  plt.tight_layout()\n",
        "  plt.show()\n",
        "\n",
        "  return img_ds\n"
      ],
      "metadata": {
        "id": "CxPeCV6bj6Ea"
      },
      "execution_count": 472,
      "outputs": []
    },
    {
      "cell_type": "markdown",
      "source": [
        "###Decimation"
      ],
      "metadata": {
        "id": "GxkzXPyMRQzF"
      }
    },
    {
      "cell_type": "code",
      "source": [
        "#new Decimate\n",
        "def Decimate(mode,img_copy,baris_baru,kolom_baru,size):\n",
        "\n",
        "  img_copy = img_copy.astype(int)\n",
        "  baris_lama, kolom_lama, c = img_copy.shape\n",
        "\n",
        "  #Matriks Image Decimation (img_dc)\n",
        "  img_dc = np.zeros(shape=(baris_baru,kolom_baru,3),dtype=int)\n",
        "\n",
        "  k_baris = (baris_lama - 1)/(baris_baru) if baris_baru != 0 else 0\n",
        "  k_kolom = (kolom_lama - 1)/(kolom_baru) if kolom_baru != 0 else 0\n",
        "\n",
        "  match mode:\n",
        "    case 'MAX':\n",
        "      mode = \"Max\"\n",
        "      for i in range(baris_baru):\n",
        "        for j in range(kolom_baru):\n",
        "\n",
        "          x1 = math.ceil(i*k_baris)\n",
        "          x2 = math.floor((i+1)*k_baris)\n",
        "          y1 = math.ceil(j*k_kolom)\n",
        "          y2 = math.floor((j+1)*k_kolom)\n",
        "          dx = x2-x1+1\n",
        "          dy = y2-y1+1\n",
        "\n",
        "          q = np.array([0,0,0])\n",
        "          if (x2 == x1) and (y2 == y1):\n",
        "            img_dc[i,j,:] = img_copy[x1, y1,:]\n",
        "\n",
        "          elif (x2 == x1):\n",
        "            for k in range(y1,y2+1):\n",
        "              img_dc[i,j,0] = max(img_dc[i,j,0],img_copy[x1,k,0])\n",
        "              img_dc[i,j,1] = max(img_dc[i,j,1],img_copy[x1,k,1])\n",
        "              img_dc[i,j,2] = max(img_dc[i,j,2],img_copy[x1,k,2])\n",
        "\n",
        "          elif (y2 == y1):\n",
        "            for k in range(x1,x2+1):\n",
        "              img_dc[i,j,0] = max(img_dc[i,j,0],img_copy[k,y1,0])\n",
        "              img_dc[i,j,1] = max(img_dc[i,j,1],img_copy[k,y1,1])\n",
        "              img_dc[i,j,2] = max(img_dc[i,j,2],img_copy[k,y1,2])\n",
        "\n",
        "          else:\n",
        "            for k in range(x1,x2+1):\n",
        "              for l in range(y1,y2+1):\n",
        "                img_dc[i,j,0] = max(img_dc[i,j,0],img_copy[k, l,0])\n",
        "                img_dc[i,j,1] = max(img_dc[i,j,1],img_copy[k, l,1])\n",
        "                img_dc[i,j,2] = max(img_dc[i,j,2],img_copy[k, l,2])\n",
        "\n",
        "    case 'MEDIAN':\n",
        "      mode = \"Median\"\n",
        "      temp = [[],[],[]]\n",
        "      for i in range(baris_baru):\n",
        "        for j in range(kolom_baru):\n",
        "\n",
        "          x1 = math.ceil(i*k_baris)\n",
        "          x2 = math.floor((i+1)*k_baris)\n",
        "          y1 = math.ceil(j*k_kolom)\n",
        "          y2 = math.floor((j+1)*k_kolom)\n",
        "          dx = x2-x1+1\n",
        "          dy = y2-y1+1\n",
        "\n",
        "          q = np.array([0,0,0])\n",
        "          if (x2 == x1) and (y2 == y1):\n",
        "            img_dc[i,j,0] = img_copy[x1, y1,0]\n",
        "            img_dc[i,j,1] = img_copy[x1, y1,1]\n",
        "            img_dc[i,j,2] = img_copy[x1, y1,2]\n",
        "\n",
        "          elif (x2 == x1):\n",
        "            for k in range(y1,y2+1):\n",
        "              temp[0].append(img_copy[x1,k,0])\n",
        "              temp[1].append(img_copy[x1,k,1])\n",
        "              temp[2].append(img_copy[x1,k,2])\n",
        "\n",
        "          elif (y2 == y1):\n",
        "            for k in range(x1,x2+1):\n",
        "              temp[0].append(img_copy[k,y1,0])\n",
        "              temp[1].append(img_copy[k,y1,1])\n",
        "              temp[2].append(img_copy[k,y1,2])\n",
        "\n",
        "          else:\n",
        "            for k in range(x1,x2+1):\n",
        "              for l in range(y1,y2+1):\n",
        "                temp[0].append(img_copy[k,l,0])\n",
        "                temp[1].append(img_copy[k,l,1])\n",
        "                temp[2].append(img_copy[k,l,2])\n",
        "\n",
        "          img_dc[i,j,0] = st.median(temp[0])\n",
        "          img_dc[i,j,1] = st.median(temp[1])\n",
        "          img_dc[i,j,2] = st.median(temp[2])\n",
        "          temp = [[],[],[]]\n",
        "\n",
        "    case 'MEAN':\n",
        "      mode = \"Mean\"\n",
        "      for i in range(baris_baru):\n",
        "        for j in range(kolom_baru):\n",
        "\n",
        "          x1 = math.ceil(i*k_baris)\n",
        "          x2 = math.floor((i+1)*k_baris)\n",
        "          y1 = math.ceil(j*k_kolom)\n",
        "          y2 = math.floor((j+1)*k_kolom)\n",
        "          dx = x2-x1+1\n",
        "          dy = y2-y1+1\n",
        "          # pdb.set_trace()\n",
        "\n",
        "          q = np.array([0,0,0])\n",
        "          if (x2 == x1) and (y2 == y1):\n",
        "            img_dc[i,j,0] = img_copy[x1, y1,0]\n",
        "            img_dc[i,j,1] = img_copy[x1, y1,1]\n",
        "            img_dc[i,j,2] = img_copy[x1, y1,2]\n",
        "\n",
        "          elif (x2 == x1):\n",
        "            for k in range(y1,y2+1):\n",
        "              img_dc[i,j,:] += img_copy[x1, k,:]\n",
        "            img_dc[i,j,:] = np.round(img_dc[i,j,:]/(dx*dy))\n",
        "\n",
        "          elif (y2 == y1):\n",
        "            for k in range(x1,x2+1):\n",
        "              img_dc[i,j,:] += img_copy[k, y1,:]\n",
        "            img_dc[i,j,:] = np.round(img_dc[i,j,:]/(dx*dy))\n",
        "\n",
        "          else:\n",
        "            for k in range(x1,x2+1):\n",
        "              for l in range(y1,y2+1):\n",
        "                img_dc[i,j,:] += img_copy[k, l,:]\n",
        "            img_dc[i,j,:] = np.round(img_dc[i,j,:]/(dx*dy))\n",
        "            # pdb.set_trace()\n",
        "\n",
        "          # img_dc[i,j,:] = q1\n",
        "\n",
        "  img_dc = img_dc.astype(np.uint8)\n",
        "\n",
        "  fig, axs = plt.subplots(1, 2, figsize=(size, size))\n",
        "  axs[0].imshow(img_copy)\n",
        "  axs[0].set_title(f\"Before, shape, {img_copy.shape}\")\n",
        "  axs[1].imshow(img_dc)\n",
        "  axs[1].set_title(f\"After, shape {img_dc.shape}\")\n",
        "\n",
        "  # fig.suptitle(f\"Upsample({mode})\", fontsize=16)\n",
        "  plt.tight_layout()\n",
        "  plt.subplots_adjust(top=1.45)\n",
        "  plt.show()\n",
        "\n",
        "  return img_dc\n"
      ],
      "metadata": {
        "id": "cGMf-eOrb95b"
      },
      "execution_count": 473,
      "outputs": []
    },
    {
      "cell_type": "markdown",
      "source": [
        "###Upsampling"
      ],
      "metadata": {
        "id": "2qlwxuyj6eId"
      }
    },
    {
      "cell_type": "markdown",
      "source": [
        "####Nearest Neighbor"
      ],
      "metadata": {
        "id": "drwtxbZGhTxx"
      }
    },
    {
      "cell_type": "code",
      "source": [
        "def up_NN(img_copy,baris_baru,kolom_baru,size):\n",
        "  img_copy = img_copy.astype(int)\n",
        "\n",
        "  baris_lama, kolom_lama, c = img_copy.shape\n",
        "  # print(baris_lama,kolom_lama,c)\n",
        "\n",
        "  # baris_baru = baris_lama*order\n",
        "  # kolom_baru = kolom_lama*order\n",
        "\n",
        "  img_us = np.zeros(shape=(baris_baru,kolom_baru,c))\n",
        "\n",
        "  k_baris = (baris_lama)/(baris_baru) if baris_baru != 0 else 0\n",
        "  k_kolom = (kolom_lama)/(kolom_baru) if kolom_baru != 0 else 0\n",
        "\n",
        "  for i in range(baris_baru):\n",
        "    for j in range(kolom_baru):\n",
        "\n",
        "      #pemetaan koordinat baru ke lama (koordinat lama = koordinat baru * skala)\n",
        "      x = i*k_baris\n",
        "      y = j*k_kolom\n",
        "\n",
        "      #4-Neighborhood dari (x,y)\n",
        "      x1 = math.floor(x)\n",
        "      x2 = min(baris_lama - 1, math.ceil(x))\n",
        "      y1 = math.floor(y)\n",
        "      y2 = min(kolom_lama - 1, math.ceil(y))\n",
        "\n",
        "      if (x2 == x1) and (y2 == y1):\n",
        "        q = img_copy[int(x), int(y), :]\n",
        "      elif (x2 == x1):\n",
        "        for k in range(c):\n",
        "          q[k] = min(img_copy[int(x), int(y1), k],img_copy[int(x), int(y2), k])\n",
        "      elif (y2 == y1):\n",
        "\n",
        "        for k in range(c):\n",
        "          q[k] = min(img_copy[int(x1), int(y), k],img_copy[int(x2), int(y), k])\n",
        "      else:\n",
        "        v1 = img_copy[x1, y1, :]\n",
        "        v2 = img_copy[x2, y1, :]\n",
        "        v3 = img_copy[x1, y2, :]\n",
        "        v4 = img_copy[x2, y2, :]\n",
        "        for k in range(c):\n",
        "          q[k] = min(v1[k],v2[k],v3[k],v4[k])\n",
        "\n",
        "      img_us[i,j,:] = q\n",
        "\n",
        "  img_us = img_us.astype(np.uint8)\n",
        "  fig, axs = plt.subplots(1, 2, figsize=(size, size))\n",
        "  axs[0].imshow(img_copy)\n",
        "  axs[0].set_title(f\"Before, shape, {img_copy.shape}\")\n",
        "  axs[1].imshow(img_us)\n",
        "  axs[1].set_title(f\"After, shape {img_us.shape}\")\n",
        "\n",
        "  # fig.suptitle(f\"Upsample({mode})\", fontsize=16)\n",
        "  plt.tight_layout()\n",
        "  plt.subplots_adjust(top=1.45)\n",
        "  plt.show()\n",
        "\n",
        "  return img_us"
      ],
      "metadata": {
        "id": "k8W2DNk-hTWk"
      },
      "execution_count": null,
      "outputs": []
    },
    {
      "cell_type": "markdown",
      "source": [
        "####Bilinear"
      ],
      "metadata": {
        "id": "BkL_OT-Sb3Ft"
      }
    },
    {
      "cell_type": "code",
      "source": [
        "def up_Bilinear(img_copy,baris_baru,kolom_baru,size):\n",
        "\n",
        "  img_copy = img_copy.astype(int)\n",
        "\n",
        "  baris_lama, kolom_lama, c = img_copy.shape\n",
        "  # print(baris_lama,kolom_lama,c)\n",
        "\n",
        "  img_us = np.zeros(shape=(baris_baru,kolom_baru,c))\n",
        "\n",
        "  k_baris = (baris_lama)/(baris_baru) if baris_baru != 0 else 0\n",
        "  k_kolom = (kolom_lama)/(kolom_baru) if kolom_baru != 0 else 0\n",
        "\n",
        "  for i in range(baris_baru):\n",
        "    for j in range(kolom_baru):\n",
        "\n",
        "      #pemetaan koordinat baru ke lama (koordinat lama = koordinat baru * skala)\n",
        "      x = i*k_baris\n",
        "      y = j*k_kolom\n",
        "\n",
        "      #4-Neighborhood dari (x,y)\n",
        "      x1 = math.floor(x)\n",
        "      x2 = min(baris_lama - 1, math.ceil(x))\n",
        "      y1 = math.floor(y)\n",
        "      y2 = min(kolom_lama - 1, math.ceil(y))\n",
        "\n",
        "      if (x2 == x1) and (y2 == y1):\n",
        "        q = img_copy[int(x), int(y), :]\n",
        "      elif (x2 == x1):\n",
        "        q1 = img_copy[int(x), int(y1), :]\n",
        "        q2 = img_copy[int(x), int(y2), :]\n",
        "        q = q1 * (y2 - y) + q2 * (y - y1)\n",
        "      elif (y2 == y1):\n",
        "        q1 = img_copy[int(x1), int(y), :]\n",
        "        q2 = img_copy[int(x2), int(y), :]\n",
        "        q = (q1 * (x2 - x)) + (q2\t * (x - x1))\n",
        "      else:\n",
        "        v1 = img_copy[x1, y1, :]\n",
        "        v2 = img_copy[x2, y1, :]\n",
        "        v3 = img_copy[x1, y2, :]\n",
        "        v4 = img_copy[x2, y2, :]\n",
        "\n",
        "        q1 = v1 * (x2 - x) + v2 * (x - x1)\n",
        "        q2 = v3 * (x2 - x) + v4 * (x - x1)\n",
        "        q = q1 * (y2 - y) + q2 * (y - y1)\n",
        "\n",
        "      img_us[i,j,:] = q\n",
        "\n",
        "  img_us = img_us.astype(np.uint8)\n",
        "  fig, axs = plt.subplots(1, 2, figsize=(size, size))\n",
        "  axs[0].imshow(img_copy)\n",
        "  axs[0].set_title(f\"Before, shape, {img_copy.shape}\")\n",
        "  axs[1].imshow(img_us)\n",
        "  axs[1].set_title(f\"After, shape {img_us.shape}\")\n",
        "\n",
        "  # fig.suptitle(f\"Upsample({mode})\", fontsize=16)\n",
        "  plt.tight_layout()\n",
        "  plt.subplots_adjust(top=1.45)\n",
        "  plt.show()\n",
        "\n",
        "  return img_us"
      ],
      "metadata": {
        "id": "SIGyzqwAMtVu"
      },
      "execution_count": null,
      "outputs": []
    },
    {
      "cell_type": "markdown",
      "source": [
        "####Bicubic"
      ],
      "metadata": {
        "id": "FH6F1kcusxzU"
      }
    },
    {
      "cell_type": "code",
      "source": [
        "def up_Bicubic(img_copy,baris_baru,kolom_baru,size):\n",
        "\n",
        "  img_copy = img_copy.astype(int)\n",
        "\n",
        "  baris_lama, kolom_lama, c = img_copy.shape\n",
        "  print(baris_lama,kolom_lama,c)\n",
        "\n",
        "  img_us = np.zeros(shape=(baris_baru,kolom_baru,c))\n",
        "\n",
        "  k_baris = (baris_lama)/(baris_baru) if baris_baru != 0 else 0\n",
        "  k_kolom = (kolom_lama)/(kolom_baru) if kolom_baru != 0 else 0\n",
        "\n",
        "  for i in range(baris_baru):\n",
        "    for j in range(kolom_baru):\n",
        "\n",
        "      #pemetaan koordinat baru ke lama (koordinat lama = koordinat baru * skala)\n",
        "      x = i*k_baris\n",
        "      y = j*k_kolom\n",
        "\n",
        "      #4-Neighborhood dari (x,y)\n",
        "      x1 = math.floor(x)\n",
        "      x2 = min(baris_lama - 1, math.ceil(x))\n",
        "      y1 = math.floor(y)\n",
        "      y2 = min(kolom_lama - 1, math.ceil(y))\n",
        "\n",
        "      if (x2 == x1) and (y2 == y1):\n",
        "        q = img_copy[int(x), int(y), :]\n",
        "      elif (x2 == x1):\n",
        "        q1 = img_copy[int(x), int(y1), :]\n",
        "        q2 = img_copy[int(x), int(y2), :]\n",
        "        q = q1 * (y2 - y) + q2 * (y - y1)\n",
        "      elif (y2 == y1):\n",
        "        q1 = img_copy[int(x1), int(y), :]\n",
        "        q2 = img_copy[int(x2), int(y), :]\n",
        "        q = (q1 * (x2 - x)) + (q2\t * (x - x1))\n",
        "      else:\n",
        "        v1 = img_copy[x1, y1, :]\n",
        "        v2 = img_copy[x2, y1, :]\n",
        "        v3 = img_copy[x1, y2, :]\n",
        "        v4 = img_copy[x2, y2, :]\n",
        "\n",
        "        q1 = v1 * (x2 - x) + v2 * (x - x1)\n",
        "        q2 = v3 * (x2 - x) + v4 * (x - x1)\n",
        "        q = q1 * (y2 - y) + q2 * (y - y1)\n",
        "\n",
        "      img_us[i,j,:] = q\n",
        "\n",
        "  img_us = img_us.astype(np.uint8)\n",
        "  fig, axs = plt.subplots(1, 2, figsize=(size, size))\n",
        "  axs[0].imshow(img_copy)\n",
        "  axs[0].set_title(f\"Before, shape, {img_copy.shape}\")\n",
        "  axs[1].imshow(img_us)\n",
        "  axs[1].set_title(f\"After, shape {img_us.shape}\")\n",
        "\n",
        "  # fig.suptitle(f\"Upsample({mode})\", fontsize=16)\n",
        "  plt.tight_layout()\n",
        "  plt.subplots_adjust(top=1.45)\n",
        "  plt.show()\n",
        "\n",
        "  return img_us"
      ],
      "metadata": {
        "id": "hnTByYyzsxTv"
      },
      "execution_count": null,
      "outputs": []
    },
    {
      "cell_type": "markdown",
      "source": [
        "##main()=================================================================================================================="
      ],
      "metadata": {
        "id": "2TAXF7BcKBP5"
      }
    },
    {
      "cell_type": "code",
      "source": [
        "# img_path = '/content/PCD/PCD_Assignment01/grid.jpg'\n",
        "# img_path = '/content/PCD/PCD_Assignment01/grid01.jpg'\n",
        "# img_path = '/content/PCD/PCD_Assignment01/grid02.jpg'\n",
        "# img_path = '/content/PCD/PCD_Assignment01/4x4.jpg'\n",
        "img_path = '/content/PCD/PCD_Assignment01/4x4color.jpg'\n",
        "# img_path = '/content/PCD/PCD_Assignment01/8x8color.jpg'\n",
        "# img_path = '/content/PCD/PCD_Assignment01/8x8white.jpg'\n",
        "# img_path = '/content/PCD/PCD_Assignment01/16x16.jpg'\n",
        "# img_path = '/content/PCD/PCD_Assignment01/64x64.jpg'\n",
        "# img_path = '/content/PCD/PCD_Assignment01/128x128.jpg'\n",
        "# img_path = '/content/PCD/PCD_Assignment01/color01.jpg'\n",
        "# img_path = '/content/PCD/PCD_Assignment01/color02.jpg'\n",
        "# img_path = '/content/PCD/PCD_Assignment01/clouds.jpg'\n",
        "# img_path = '/content/PCD/PCD_Assignment01/mountain.jpg'\n",
        "# img_path = '/content/thunder16x16.jpg'\n",
        "\n",
        "img,img_copy = Acquire(img_path,10)\n",
        "# print(img[0][0],img_copy[-1][-1])"
      ],
      "metadata": {
        "colab": {
          "base_uri": "https://localhost:8080/",
          "height": 506
        },
        "id": "wRhXImsnU7_0",
        "outputId": "9dac967a-289c-4c46-8b18-5acb76f73969"
      },
      "execution_count": 474,
      "outputs": [
        {
          "output_type": "display_data",
          "data": {
            "text/plain": [
              "<Figure size 1000x1000 with 2 Axes>"
            ],
            "image/png": "[encoded data removed]"
          },
          "metadata": {}
        }
      ]
    },
    {
      "cell_type": "code",
      "source": [
        "p locals()"
      ],
      "metadata": {
        "id": "62OyJP2jLi2S"
      },
      "execution_count": null,
      "outputs": []
    },
    {
      "cell_type": "code",
      "source": [
        "# DownSample(img_copy,order,size)\n",
        "# Decimate(mode,img_copy,order,baris_baru,kolom_baru,size)\n",
        "# up_Bilinear(img_copy,baris_baru,kolom_baru,size)\n",
        "# up_NN(img_copy,baris_baru,kolom_baru,size)\n",
        "# up_Bicubic(img_copy,baris_baru,kolom_baru,size)\n",
        "\n",
        "# img_ds = DownSample(img_copy,1,8)\n",
        "\n",
        "img_dc = Decimate('MEAN',img_copy,2,2,10)\n",
        "\n",
        "# img_us = up_NN(img_copy,600,600,10)\n",
        "\n",
        "# img_us = up_Bilinear(img_copy,700,700,10)\n",
        "\n",
        "# img_us = up_Bicubic(img_copy,600,600,10)"
      ],
      "metadata": {
        "id": "DuRVKz6QJ_4o",
        "outputId": "403e0869-4123-4234-9791-21f9e71e1e13",
        "colab": {
          "base_uri": "https://localhost:8080/",
          "height": 499
        }
      },
      "execution_count": null,
      "outputs": [
        {
          "output_type": "display_data",
          "data": {
            "text/plain": [
              "<Figure size 1000x1000 with 2 Axes>"
            ],
            "image/png": "[encoded data removed]"
          },
          "metadata": {}
        }
      ]
    },
    {
      "cell_type": "markdown",
      "source": [
        "##junk=================================================================================================================="
      ],
      "metadata": {
        "id": "PihBCOx9pfyZ"
      }
    },
    {
      "cell_type": "code",
      "source": [
        "#scipy\n",
        "\n",
        "# xs = np.linspace(0, 2 * np.pi, num=10)\n",
        "xs = np.linspace(0,10,10)\n",
        "# xs = np.arange(0,10)\n",
        "ys = np.sin(xs)\n",
        "cs = CubicSpline(xs, ys)\n",
        "\n",
        "new_xs = np.linspace(0,10,100)\n",
        "# new_xs = np.arange(0,10,0.1)\n",
        "new_cs = cs(new_xs)\n",
        "\n",
        "# print(newarr)\n",
        "# print(interp_func(xs))\n",
        "# plt.plot(interp_func(xs))\n",
        "\n",
        "plt.plot(xs, ys, 'o', label='data points')\n",
        "plt.plot(new_xs, np.sin(new_xs), label='true sine wave')\n",
        "plt.plot(new_xs, new_cs, label='cubic spline interpolation')\n",
        "plt.legend()\n",
        "plt.xlabel('x')\n",
        "plt.ylabel('y')\n",
        "plt.title('Cubic Spline Interpolation of Sine Wave')\n",
        "plt.grid(True)\n",
        "plt.show()"
      ],
      "metadata": {
        "id": "_CB-Bc7lbViW"
      },
      "execution_count": null,
      "outputs": []
    },
    {
      "cell_type": "code",
      "source": [
        "baris_lama = 5\n",
        "kolom_lama = 4\n",
        "\n",
        "baris_baru = 2\n",
        "kolom_baru = 2\n",
        "k_baris = (baris_lama - 1)/(baris_baru)\n",
        "k_kolom = (kolom_lama - 1)/(kolom_baru)\n",
        "\n",
        "for i in range(baris_baru):\n",
        "    for j in range(kolom_baru):\n",
        "      # print(f\"i={i}, j={j}\")\n",
        "      # print(\"==============\")\n",
        "      x1 = math.ceil(i*k_baris)\n",
        "      x2 = math.floor((i+1)*k_baris)\n",
        "      y1 = math.ceil(j*k_kolom)\n",
        "      y2 = math.floor((j+1)*k_kolom)\n",
        "\n",
        "      print(f\"baris: {x1}-{x2}  kolom: {y1}-{y2}\")"
      ],
      "metadata": {
        "colab": {
          "base_uri": "https://localhost:8080/"
        },
        "id": "mbVMfkA-0C2P",
        "outputId": "f6d38b81-b3ce-49cf-dfdf-8db7d021943e"
      },
      "execution_count": null,
      "outputs": [
        {
          "output_type": "stream",
          "name": "stdout",
          "text": [
            "baris: 0-2  kolom: 0-1\n",
            "baris: 0-2  kolom: 2-3\n",
            "baris: 2-4  kolom: 0-1\n",
            "baris: 2-4  kolom: 2-3\n"
          ]
        }
      ]
    },
    {
      "cell_type": "code",
      "source": [
        "def Upsample(img_copy,order,mode,size):\n",
        "  #baris\n",
        "  baris = img_copy.shape[0]*order\n",
        "  # print(f\"baris = {baris}\")\n",
        "\n",
        "  #kolom\n",
        "  kolom = img_copy.shape[1]*order\n",
        "  # print(f\"kolom = {kolom}\")\n",
        "\n",
        "  #Matriks Image Upsample (img_us)\n",
        "  # img_us = np.zeros(shape=(baris,kolom,3),dtype=np.uint8)\n",
        "  img_us = np.zeros(shape=(baris,kolom,3),dtype=int)\n",
        "  img_copy = img_copy.astype(int)\n",
        "  print(img_copy.shape,\"==>\",img_us.shape)\n",
        "  # print(img_us)\n",
        "\n",
        "  for i in range(0,img_copy.shape[0]):\n",
        "    for j in range(0,img_copy.shape[1]):\n",
        "      img_us[i*order][j*order] = img_copy[i][j]\n",
        "\n",
        "  #Upsampling\n",
        "  match mode:\n",
        "\n",
        "    case 0:#Nearest Neighbor (NN)\n",
        "      mode = \"Nearest Neighbor (NN)\"\n",
        "      for h in range(0,img_copy.shape[0]):\n",
        "        for i in range(0,img_copy.shape[1]):\n",
        "          for j in range(h*order,(h+1)*order):\n",
        "            for k in range(i*order,(i+1)*order):\n",
        "              img_us[j][k] = img_copy[h][i]\n",
        "              # img_us[j][k][0] = min(img_us[h][i][0],img_copy[j][k][0])\n",
        "              # img_us[j][k][1] = min(img_us[h][i][1],img_copy[j][k][1])\n",
        "              # img_us[j][k][2] = min(img_us[h][i][2],img_copy[j][k][2])\n",
        "\n",
        "    case 1:#Bilinear\n",
        "      mode = \"Bilinear\"\n",
        "      temp = [[],[],[]]\n",
        "\n",
        "      for h in range(0,img_dc.shape[0]):\n",
        "        for i in range(0,img_dc.shape[1]):\n",
        "          for j in range(h*div,(h+1)*div):\n",
        "            for k in range(i*div,(i+1)*div):\n",
        "              temp[0].append(img_copy[j][k][0])\n",
        "              temp[1].append(img_copy[j][k][1])\n",
        "              temp[2].append(img_copy[j][k][2])\n",
        "          img_dc[h][i][0] = st.median(temp[0])\n",
        "          img_dc[h][i][1] = st.median(temp[1])\n",
        "          img_dc[h][i][2] = st.median(temp[2])\n",
        "          temp = [[],[],[]]\n",
        "      img_dc = img_dc.astype(np.uint8)\n",
        "\n",
        "    case 2:#Bicubic\n",
        "      mode = \"Bicubic\"\n",
        "      for h in range(0,img_dc.shape[0]):\n",
        "        for i in range(0,img_dc.shape[1]):\n",
        "          for j in range(h*div,(h+1)*div):\n",
        "            for k in range(i*div,(i+1)*div):\n",
        "              img_dc[h][i] += img_copy[j][k]\n",
        "              # print(f\"B[{h}][{i}]<==A[{j}][{k}]\")\n",
        "              # print(\"A:\",img_copy[j][k])\n",
        "              # print(\"B:\\n\",img_dc)\n",
        "          img_dc[h][i] = np.round(img_dc[h][i]/(div*div))\n",
        "      # print(img_dc)\n",
        "      img_dc = img_dc.astype(np.uint8)\n",
        "\n",
        "  fig, axs = plt.subplots(1, 2, figsize=(size, size))\n",
        "  axs[0].imshow(img_copy)\n",
        "  axs[0].set_title(f\"Before, shape, {img_copy.shape}\")\n",
        "  axs[1].imshow(img_us)\n",
        "  axs[1].set_title(f\"After, shape {img_us.shape}\")\n",
        "\n",
        "  fig.suptitle(f\"Upsample({mode})\", fontsize=16)\n",
        "  plt.tight_layout()\n",
        "  plt.subplots_adjust(top=1.45)\n",
        "  plt.show()\n",
        "\n",
        "  return img_us\n",
        "\n",
        "#Upsample(img_copy,order,mode,size)\n",
        "# A = Upsample(img_copy,10,0,14)"
      ],
      "metadata": {
        "id": "tDBlZTHa6apd"
      },
      "execution_count": null,
      "outputs": []
    },
    {
      "cell_type": "code",
      "source": [
        "# img2 = mpimg.imread(img02_path)\n",
        "# plt.imshow(img2)\n",
        "# plt.axis('off')\n",
        "# plt.show()"
      ],
      "metadata": {
        "id": "ikLBjsGuIUoB"
      },
      "execution_count": null,
      "outputs": []
    },
    {
      "cell_type": "code",
      "source": [
        "A = np.random.randint(0, 10, size=(8, 8))\n",
        "print(A)\n",
        "\n",
        "B = np.zeros(shape=(2,2))\n",
        "print(B)\n",
        "\n",
        "div = 2**2\n",
        "\n",
        "for h in range(0,B.shape[0]):\n",
        "  for i in range(0,B.shape[1]):\n",
        "    for j in range(h*div,(h+1)*div):\n",
        "      for k in range(i*div,(i+1)*div):\n",
        "        print(f\"B[{h}][{i}]<==A[{j}][{k}]\")\n",
        "        print(\"A:\",A[j][k])\n",
        "        B[h][i] += A[j][k]\n",
        "        print(\"B:\\n\",B)\n",
        "    B[h][i] = round((B[h][i])/div)\n",
        "\n",
        "print(type(B[0][0]))\n"
      ],
      "metadata": {
        "id": "hhONPTbsWxZH"
      },
      "execution_count": null,
      "outputs": []
    },
    {
      "cell_type": "code",
      "source": [
        "# print(img02_copy[-1][-1])\n",
        "print(MDS)\n",
        "print(\"===============================\")\n",
        "M = np.array([1,2,3])\n",
        "print(M.shape)\n",
        "print(M)\n",
        "M = M.reshape(1,3)\n",
        "print(M.shape)\n",
        "print(M)\n",
        "print(\"===============================\")\n",
        "print(MDS[0].shape)\n",
        "# MDS = np.append(M_DS,M)\n",
        "MDS[0] = np.concatenate((MDS[0],M),axis=1)\n",
        "# C = np.concatenate((M,MDS[0][0]),axis=0)\n",
        "print(MDS[0][0].shape)\n",
        "print(MDS)\n"
      ],
      "metadata": {
        "id": "CsPIE6S3Zb0G"
      },
      "execution_count": null,
      "outputs": []
    },
    {
      "cell_type": "code",
      "source": [
        "# pd.Series(img01.flatten()).plot(kind=\"hist\",\n",
        "#                                bins=25,\n",
        "#                                title='Pixel Values')\n",
        "# plt.show()\n",
        "\n",
        "flat = img02.flatten()\n",
        "# print(flat.shape)\n",
        "# print(flat)\n",
        "\n",
        "A = []\n",
        "\n",
        "for i in range(len(flat)):\n",
        "  if i%3==0:\n",
        "    A.append(int(flat[i]))\n",
        "\n",
        "A = np.array(A)\n",
        "print(A[0].dtype)\n",
        "\n",
        "# pd.Series(img02.flatten()).plot(kind=\"hist\",\n",
        "#                                bins=25,\n",
        "#                                title='Pixel Values')\n",
        "# plt.show()"
      ],
      "metadata": {
        "colab": {
          "base_uri": "https://localhost:8080/"
        },
        "id": "KfoAsaACMtXP",
        "outputId": "28ee06cc-9d58-4431-fde0-1b30646be2a6"
      },
      "execution_count": null,
      "outputs": [
        {
          "output_type": "stream",
          "name": "stdout",
          "text": [
            "int64\n"
          ]
        }
      ]
    },
    {
      "cell_type": "code",
      "source": [
        "A = np.zeros( (2, 3, 5) )\n",
        "print(\"A = {}\\n\".format(A))\n",
        "## 1rst term => depth\n",
        "## 2 other terms => (i,j)\n",
        "\n",
        "## basic 2D array\n",
        "B = np.ones( (1,3, 5) )\n",
        "print(\"B = {}\\n\".format(B))\n",
        "\n",
        "## 2D array reshaped into 3D one prior to be concatenated\n",
        "# Bprime = B.reshape(1,3,5)\n",
        "# print(\"Bprime = {}\\n\".format(Bprime))\n",
        "\n",
        "## C is created and suppoed to be A expanded by B\n",
        "# C = np.concatenate( (A, Bprime) )\n",
        "C = np.concatenate( (A, B), axis = 0)\n",
        "print(\"C = {}\\n\".format(C))"
      ],
      "metadata": {
        "id": "PgRnEsEEpQgy"
      },
      "execution_count": null,
      "outputs": []
    },
    {
      "cell_type": "code",
      "source": [
        "# length = len(flat)/3\n",
        "# length = int(length)\n",
        "\n",
        "# empty02 = np.zeros(shape=(length),dtype=np.uint8)\n",
        "# print(empty02)"
      ],
      "metadata": {
        "id": "Ui8JJWXApfiT"
      },
      "execution_count": null,
      "outputs": []
    },
    {
      "cell_type": "markdown",
      "source": [
        "###oldDecimation"
      ],
      "metadata": {
        "id": "WJV2ny3BDU35"
      }
    },
    {
      "cell_type": "code",
      "source": [
        "# def Decimate(img_copy,order,mode,size):\n",
        "#   div = 2**order\n",
        "\n",
        "#   #baris\n",
        "#   baris = img_copy.shape[0]//div\n",
        "#   print(f\"baris = {baris}, sisa baris = {img_copy.shape[0]%div}\")\n",
        "\n",
        "#   #kolom\n",
        "#   kolom = img_copy.shape[1]//div\n",
        "#   print(f\"kolom = {kolom}, sisa kolom = {img_copy.shape[1]%div}\")\n",
        "\n",
        "#   #Matriks Image Decimation (img_dc)\n",
        "#   # img_dc = np.zeros(shape=(baris,kolom,3),dtype=np.uint8)\n",
        "#   img_dc = np.zeros(shape=(baris,kolom,3),dtype=int)\n",
        "#   print(img_copy.shape,\"==>\",img_dc.shape)\n",
        "#   # print(img_dc)\n",
        "\n",
        "#   #Decimation\n",
        "#   match mode:\n",
        "\n",
        "#     case 0:#Max\n",
        "#       mode = \"Max\"\n",
        "#       for h in range(0,img_dc.shape[0]):\n",
        "#         for i in range(0,img_dc.shape[1]):\n",
        "#           for j in range(h*div,(h+1)*div):\n",
        "#             for k in range(i*div,(i+1)*div):\n",
        "#               img_dc[h][i][0] = max(img_dc[h][i][0],img_copy[j][k][0])\n",
        "#               img_dc[h][i][1] = max(img_dc[h][i][1],img_copy[j][k][1])\n",
        "#               img_dc[h][i][2] = max(img_dc[h][i][2],img_copy[j][k][2])\n",
        "\n",
        "#     case 1:#Median\n",
        "#       mode = \"Median\"\n",
        "#       temp = [[],[],[]]\n",
        "#       img_copy = img_copy.astype(int)\n",
        "#       for h in range(0,img_dc.shape[0]):\n",
        "#         for i in range(0,img_dc.shape[1]):\n",
        "#           for j in range(h*div,(h+1)*div):\n",
        "#             for k in range(i*div,(i+1)*div):\n",
        "#               temp[0].append(img_copy[j][k][0])\n",
        "#               temp[1].append(img_copy[j][k][1])\n",
        "#               temp[2].append(img_copy[j][k][2])\n",
        "#           img_dc[h][i][0] = st.median(temp[0])\n",
        "#           img_dc[h][i][1] = st.median(temp[1])\n",
        "#           img_dc[h][i][2] = st.median(temp[2])\n",
        "#           temp = [[],[],[]]\n",
        "#       img_dc = img_dc.astype(np.uint8)\n",
        "\n",
        "#     case 2:#Mean\n",
        "#       mode = \"Mean\"\n",
        "#       for h in range(0,img_dc.shape[0]):\n",
        "#         for i in range(0,img_dc.shape[1]):\n",
        "#           for j in range(h*div,(h+1)*div):\n",
        "#             for k in range(i*div,(i+1)*div):\n",
        "#               img_dc[h][i] += img_copy[j][k]\n",
        "#               # print(f\"B[{h}][{i}]<==A[{j}][{k}]\")\n",
        "#               # print(\"A:\",img_copy[j][k])\n",
        "#               # print(\"B:\\n\",img_dc)\n",
        "#           img_dc[h][i] = np.round(img_dc[h][i]/(div*div))\n",
        "#       # print(img_dc)\n",
        "#       img_dc = img_dc.astype(np.uint8)\n",
        "\n",
        "\n",
        "\n",
        "#   fig, axs = plt.subplots(1, 2, figsize=(size, size))\n",
        "#   axs[0].imshow(img_copy)\n",
        "#   axs[0].set_title(f\"Before, shape, {img_copy.shape}\")\n",
        "#   axs[1].imshow(img_dc)\n",
        "#   axs[1].set_title(f\"After, shape {img_dc.shape}\")\n",
        "\n",
        "#   fig.suptitle(f\"Decimation({mode})\", fontsize=16)\n",
        "#   plt.tight_layout()\n",
        "#   plt.subplots_adjust(top=1.45)\n",
        "#   plt.show()\n",
        "\n",
        "#   return img_dc\n"
      ],
      "metadata": {
        "id": "M7eU-TFkDSjS"
      },
      "execution_count": null,
      "outputs": []
    }
  ]
}
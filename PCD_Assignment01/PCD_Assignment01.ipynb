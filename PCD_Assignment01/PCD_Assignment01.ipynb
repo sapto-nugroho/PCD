{
  "nbformat": 4,
  "nbformat_minor": 0,
  "metadata": {
    "colab": {
      "provenance": [],
      "authorship_tag": "ABX9TyN/Oqltrxj7SsWQwFKSrC/Y",
      "include_colab_link": true
    },
    "kernelspec": {
      "name": "python3",
      "display_name": "Python 3"
    },
    "language_info": {
      "name": "python"
    }
  },
  "cells": [
    {
      "cell_type": "markdown",
      "metadata": {
        "id": "view-in-github",
        "colab_type": "text"
      },
      "source": [
        "<a href=\"https://colab.research.google.com/github/sapto-nugroho/PCD/blob/main/PCD_Assignment01/PCD_Assignment01.ipynb\" target=\"_parent\"><img src=\"https://colab.research.google.com/assets/colab-badge.svg\" alt=\"Open In Colab\"/></a>"
      ]
    },
    {
      "cell_type": "markdown",
      "source": [
        "#\n",
        "##Nama  : Sapto Nugroho\n",
        "##NIU   : 565712"
      ],
      "metadata": {
        "id": "-Mf4H5vN-N9N"
      }
    },
    {
      "cell_type": "markdown",
      "source": [
        "###git clone"
      ],
      "metadata": {
        "id": "I0IANH0HDN7p"
      }
    },
    {
      "cell_type": "code",
      "source": [
        "!ls\n",
        "!git clone https://github.com/sapto-nugroho/PCD.git\n",
        "!ls"
      ],
      "metadata": {
        "id": "zd-wWmlqNua8",
        "collapsed": true,
        "colab": {
          "base_uri": "https://localhost:8080/"
        },
        "outputId": "7e5486f2-92d6-41c0-bac4-9e3d58cfccca"
      },
      "execution_count": 51,
      "outputs": [
        {
          "output_type": "stream",
          "name": "stdout",
          "text": [
            "sample_data\n",
            "Cloning into 'PCD'...\n",
            "remote: Enumerating objects: 135, done.\u001b[K\n",
            "remote: Counting objects: 100% (135/135), done.\u001b[K\n",
            "remote: Compressing objects: 100% (125/125), done.\u001b[K\n",
            "remote: Total 135 (delta 40), reused 37 (delta 7), pack-reused 0 (from 0)\u001b[K\n",
            "Receiving objects: 100% (135/135), 4.50 MiB | 12.03 MiB/s, done.\n",
            "Resolving deltas: 100% (40/40), done.\n",
            "PCD  sample_data\n"
          ]
        }
      ]
    },
    {
      "cell_type": "markdown",
      "source": [
        "##function================================================================================================================"
      ],
      "metadata": {
        "id": "AjZwhFE151Hk"
      }
    },
    {
      "cell_type": "markdown",
      "source": [
        "###Import"
      ],
      "metadata": {
        "id": "DfUwEHGwH0Dc"
      }
    },
    {
      "cell_type": "code",
      "source": [
        "import cv2\n",
        "import pandas as pd\n",
        "import numpy as np\n",
        "# import matplotlib.pylab as plt\n",
        "import matplotlib.pyplot as plt\n",
        "import matplotlib.image as mpimg\n",
        "from PIL import Image\n",
        "import statistics as st\n",
        "import math"
      ],
      "metadata": {
        "id": "kcLVe3bLG_F9"
      },
      "execution_count": 49,
      "outputs": []
    },
    {
      "cell_type": "markdown",
      "source": [
        "###Image Acquisition"
      ],
      "metadata": {
        "id": "DglraIlqWYau"
      }
    },
    {
      "cell_type": "code",
      "source": [
        "def Acquire(src,size):\n",
        "  #Image and Copy\n",
        "  img = plt.imread(src)\n",
        "  img_copy = img.copy()\n",
        "\n",
        "  #Plot Image dan Copy\n",
        "  fig, axs = plt.subplots(1, 2, figsize=(size, size))\n",
        "  axs[0].imshow(img)\n",
        "  axs[0].set_title(f\"Original, shape, {img.shape}\")\n",
        "  axs[1].imshow(img_copy)\n",
        "  axs[1].set_title(f\"Copy, shape {img_copy.shape}\")\n",
        "  plt.tight_layout()\n",
        "  plt.show()\n",
        "\n",
        "  return img, img_copy\n"
      ],
      "metadata": {
        "id": "IcYZmgYYh_zQ"
      },
      "execution_count": 50,
      "outputs": []
    },
    {
      "cell_type": "markdown",
      "source": [
        "###Downsampling"
      ],
      "metadata": {
        "id": "PjnsGm7QW7pG"
      }
    },
    {
      "cell_type": "code",
      "source": [
        "def DownSample(img_copy,order,size):\n",
        "  div = 2**order\n",
        "\n",
        "  #baris\n",
        "  baris = img_copy.shape[0]//div\n",
        "  print(f\"baris = {baris}, sisa baris = {img_copy.shape[0]%div}\")\n",
        "\n",
        "  #kolom\n",
        "  kolom = img_copy.shape[1]//div\n",
        "  print(f\"kolom = {kolom}, sisa kolom = {img_copy.shape[1]%div}\")\n",
        "\n",
        "  #Matriks Image DownSample (img_ds)\n",
        "  img_ds = np.zeros(shape=(baris,kolom,3),dtype=np.uint8)\n",
        "  print(img_copy.shape,\"==>\",img_ds.shape)\n",
        "  #print(img_ds)\n",
        "\n",
        "  #DownSampling\n",
        "  for j in range(0,img_ds.shape[0]):\n",
        "    # print(\"J= \",j,j*div)\n",
        "    for i in range(0,img_ds.shape[1]):\n",
        "      # print(i, i*div)\n",
        "      img_ds[j][i] = img_copy[j*div][i*div]\n",
        "\n",
        "  fig, axs = plt.subplots(1, 2, figsize=(size, size))\n",
        "  axs[0].imshow(img_copy)\n",
        "  axs[0].set_title(f\"Before, shape, {img_copy.shape}\")\n",
        "  axs[1].imshow(img_ds)\n",
        "  axs[1].set_title(f\"After, shape {img_ds.shape}\")\n",
        "  fig.suptitle(\"Downsampling\", fontsize=16)\n",
        "  plt.tight_layout()\n",
        "  plt.show()\n",
        "\n",
        "  return img_ds\n"
      ],
      "metadata": {
        "id": "CxPeCV6bj6Ea"
      },
      "execution_count": 19,
      "outputs": []
    },
    {
      "cell_type": "markdown",
      "source": [
        "###Decimation"
      ],
      "metadata": {
        "id": "WJV2ny3BDU35"
      }
    },
    {
      "cell_type": "code",
      "source": [
        "def Decimate(img_copy,order,mode,size):\n",
        "  div = 2**order\n",
        "\n",
        "  #baris\n",
        "  baris = img_copy.shape[0]//div\n",
        "  print(f\"baris = {baris}, sisa baris = {img_copy.shape[0]%div}\")\n",
        "\n",
        "  #kolom\n",
        "  kolom = img_copy.shape[1]//div\n",
        "  print(f\"kolom = {kolom}, sisa kolom = {img_copy.shape[1]%div}\")\n",
        "\n",
        "  #Matriks Image Decimation (img_dc)\n",
        "  # img_dc = np.zeros(shape=(baris,kolom,3),dtype=np.uint8)\n",
        "  img_dc = np.zeros(shape=(baris,kolom,3),dtype=int)\n",
        "  print(img_copy.shape,\"==>\",img_dc.shape)\n",
        "  # print(img_dc)\n",
        "\n",
        "  #Decimation\n",
        "  match mode:\n",
        "\n",
        "    case 0:#Max\n",
        "      mode = \"Max\"\n",
        "      for h in range(0,img_dc.shape[0]):\n",
        "        for i in range(0,img_dc.shape[1]):\n",
        "          for j in range(h*div,(h+1)*div):\n",
        "            for k in range(i*div,(i+1)*div):\n",
        "              img_dc[h][i][0] = max(img_dc[h][i][0],img_copy[j][k][0])\n",
        "              img_dc[h][i][1] = max(img_dc[h][i][1],img_copy[j][k][1])\n",
        "              img_dc[h][i][2] = max(img_dc[h][i][2],img_copy[j][k][2])\n",
        "\n",
        "    case 1:#Median\n",
        "      mode = \"Median\"\n",
        "      temp = [[],[],[]]\n",
        "      img_copy = img_copy.astype(int)\n",
        "      for h in range(0,img_dc.shape[0]):\n",
        "        for i in range(0,img_dc.shape[1]):\n",
        "          for j in range(h*div,(h+1)*div):\n",
        "            for k in range(i*div,(i+1)*div):\n",
        "              temp[0].append(img_copy[j][k][0])\n",
        "              temp[1].append(img_copy[j][k][1])\n",
        "              temp[2].append(img_copy[j][k][2])\n",
        "          img_dc[h][i][0] = st.median(temp[0])\n",
        "          img_dc[h][i][1] = st.median(temp[1])\n",
        "          img_dc[h][i][2] = st.median(temp[2])\n",
        "          temp = [[],[],[]]\n",
        "      img_dc = img_dc.astype(np.uint8)\n",
        "\n",
        "    case 2:#Mean\n",
        "      mode = \"Mean\"\n",
        "      for h in range(0,img_dc.shape[0]):\n",
        "        for i in range(0,img_dc.shape[1]):\n",
        "          for j in range(h*div,(h+1)*div):\n",
        "            for k in range(i*div,(i+1)*div):\n",
        "              img_dc[h][i] += img_copy[j][k]\n",
        "              # print(f\"B[{h}][{i}]<==A[{j}][{k}]\")\n",
        "              # print(\"A:\",img_copy[j][k])\n",
        "              # print(\"B:\\n\",img_dc)\n",
        "          img_dc[h][i] = np.round(img_dc[h][i]/(div*div))\n",
        "      # print(img_dc)\n",
        "      img_dc = img_dc.astype(np.uint8)\n",
        "\n",
        "\n",
        "\n",
        "  fig, axs = plt.subplots(1, 2, figsize=(size, size))\n",
        "  axs[0].imshow(img_copy)\n",
        "  axs[0].set_title(f\"Before, shape, {img_copy.shape}\")\n",
        "  axs[1].imshow(img_dc)\n",
        "  axs[1].set_title(f\"After, shape {img_dc.shape}\")\n",
        "\n",
        "  fig.suptitle(f\"Decimation({mode})\", fontsize=16)\n",
        "  plt.tight_layout()\n",
        "  plt.subplots_adjust(top=1.45)\n",
        "  plt.show()\n",
        "\n",
        "  return img_dc\n"
      ],
      "metadata": {
        "id": "M7eU-TFkDSjS"
      },
      "execution_count": 20,
      "outputs": []
    },
    {
      "cell_type": "code",
      "source": [
        "baris_lama = 5\n",
        "kolom_lama = 4\n",
        "\n",
        "baris_baru = 2\n",
        "kolom_baru = 2\n",
        "k_baris = (baris_lama - 1)/(baris_baru)\n",
        "k_kolom = (kolom_lama - 1)/(kolom_baru)\n",
        "\n",
        "for i in range(baris_baru):\n",
        "    for j in range(kolom_baru):\n",
        "      # print(f\"i={i}, j={j}\")\n",
        "      # print(\"==============\")\n",
        "      x1 = math.ceil(i*k_baris)\n",
        "      x2 = math.floor((i+1)*k_baris)\n",
        "      y1 = math.ceil(j*k_kolom)\n",
        "      y2 = math.floor((j+1)*k_kolom)\n",
        "\n",
        "      print(f\"baris: {x1}-{x2}  kolom: {y1}-{y2}\")"
      ],
      "metadata": {
        "colab": {
          "base_uri": "https://localhost:8080/"
        },
        "id": "mbVMfkA-0C2P",
        "outputId": "f6d38b81-b3ce-49cf-dfdf-8db7d021943e"
      },
      "execution_count": 45,
      "outputs": [
        {
          "output_type": "stream",
          "name": "stdout",
          "text": [
            "baris: 0-2  kolom: 0-1\n",
            "baris: 0-2  kolom: 2-3\n",
            "baris: 2-4  kolom: 0-1\n",
            "baris: 2-4  kolom: 2-3\n"
          ]
        }
      ]
    },
    {
      "cell_type": "code",
      "source": [
        "#new Decimate\n",
        "def Decimate(img_copy,baris_baru,kolom_baru,size):\n",
        "\n",
        "  img_copy = img_copy.astype(int)\n",
        "  baris_lama, kolom_lama, c = img_copy.shape\n",
        "\n",
        "  #Matriks Image Decimation (img_dc)\n",
        "  img_dc = np.zeros(shape=(baris_baru,kolom_baru,3),dtype=int)\n",
        "\n",
        "  k_baris = (baris_lama - 1)/(baris_baru) if baris_baru != 0 else 0\n",
        "  k_kolom = (kolom_lama - 1)/(kolom_baru) if kolom_baru != 0 else 0\n",
        "\n",
        "  for i in range(baris_baru):\n",
        "    for j in range(kolom_baru):\n",
        "\n",
        "      x1 = math.ceil(i*k_baris)\n",
        "      x2 = math.floor((i+1)*k_baris)\n",
        "      y1 = math.ceil(j*k_kolom)\n",
        "      y2 = math.floor((j+1)*k_kolom)\n",
        "\n",
        "      q = np.array([0,0,0])\n",
        "      if (x2 == x1) and (y2 == y1):\n",
        "        q = img_copy[int(x1), int(y1), :]\n",
        "\n",
        "      elif (x2 == x1):\n",
        "        for k in range(y1,y2+1):\n",
        "          q += img_copy[int(x1), int(k), :]\n",
        "        q = q/(y2-y1)\n",
        "\n",
        "      elif (y2 == y1):\n",
        "        for k in range(x1,x2+1):\n",
        "          q += img_copy[int(y1), int(k), :]\n",
        "        q = q/(x2-x1)\n",
        "\n",
        "      else:\n",
        "        for k in range(x1,x2+1):\n",
        "          for l in range(y1,y2+1):\n",
        "            q += img_copy[k, l, :]\n",
        "        q = q/(x2-x1)*(y2-y1)\n",
        "\n",
        "      img_dc[i,j,:] = q\n",
        "\n",
        "  img_dc = img_dc.astype(np.uint8)\n",
        "  fig, axs = plt.subplots(1, 2, figsize=(size, size))\n",
        "  axs[0].imshow(img_copy)\n",
        "  axs[0].set_title(f\"Before, shape, {img_copy.shape}\")\n",
        "  axs[1].imshow(img_dc)\n",
        "  axs[1].set_title(f\"After, shape {img_dc.shape}\")\n",
        "\n",
        "  # fig.suptitle(f\"Upsample({mode})\", fontsize=16)\n",
        "  plt.tight_layout()\n",
        "  plt.subplots_adjust(top=1.45)\n",
        "  plt.show()\n",
        "\n",
        "  return img_dc\n",
        "\n"
      ],
      "metadata": {
        "id": "cGMf-eOrb95b"
      },
      "execution_count": 87,
      "outputs": []
    },
    {
      "cell_type": "markdown",
      "source": [
        "###Upsampling"
      ],
      "metadata": {
        "id": "2qlwxuyj6eId"
      }
    },
    {
      "cell_type": "code",
      "source": [
        "p = img_copy[25,70,:]\n",
        "print(p)\n",
        "q = np.array([0,0,1])\n",
        "print(q)\n",
        "p = p +q\n",
        "print(p)"
      ],
      "metadata": {
        "id": "MEmrJD9c-XhX",
        "outputId": "1ec75b0a-a49e-4ff0-b109-d327b12b3305",
        "colab": {
          "base_uri": "https://localhost:8080/"
        }
      },
      "execution_count": 65,
      "outputs": [
        {
          "output_type": "stream",
          "name": "stdout",
          "text": [
            "[130 139 230]\n",
            "[0 0 1]\n",
            "[130 139 231]\n"
          ]
        }
      ]
    },
    {
      "cell_type": "code",
      "source": [
        "x = np.array([20,55,35])\n",
        "y = np.array([60,45,30])"
      ],
      "metadata": {
        "id": "nKVu0XNOgPb5"
      },
      "execution_count": null,
      "outputs": []
    },
    {
      "cell_type": "code",
      "source": [
        "# x = np.array([255.])\n",
        "x = np.array([np.nan,np.nan,0])\n",
        "print(x)\n",
        "# x = x.astype(int)\n",
        "# print(x)\n",
        "# print(np.nan)\n",
        "if np.isnan(x).all():\n",
        "  print(\"True\")\n",
        "else:\n",
        "  print(\"False\")"
      ],
      "metadata": {
        "id": "GZaSG6QR-bQ0",
        "outputId": "16ee75d3-de61-414c-ba8c-9dc1239030c1",
        "colab": {
          "base_uri": "https://localhost:8080/"
        }
      },
      "execution_count": null,
      "outputs": [
        {
          "output_type": "stream",
          "name": "stdout",
          "text": [
            "[nan nan  0.]\n",
            "False\n"
          ]
        }
      ]
    },
    {
      "cell_type": "code",
      "source": [
        "order = 2\n",
        "\n",
        "img_copy = img_copy.astype(float)\n",
        "\n",
        "#baris\n",
        "baris = img_copy.shape[0]*order\n",
        "# print(f\"baris = {baris}\")\n",
        "\n",
        "#\n",
        "kolom = img_copy.shape[1]*order\n",
        "# print(f\"kolom = {kolom}\")\n",
        "\n",
        "#Matriks Image Upsample (img_us)\n",
        "# img_us = np.zeros(shape=(baris,kolom,3),dtype=np.uint8)\n",
        "img_us = np.zeros(shape=(baris,kolom,3),dtype=float)\n",
        "img_us[:] = np.nan\n",
        "print(img_copy.shape,\"==>\",img_us.shape)\n",
        "# print(img_us)\n",
        "\n",
        "for i in range(0,img_copy.shape[0]):\n",
        "  for j in range(0,img_copy.shape[1]):\n",
        "    img_us[i*order][j*order] = img_copy[i][j]\n",
        "\n",
        "# print(img_us[0][1])\n",
        "# img_us[0][1] = 255\n",
        "# print(img_us[0][1])\n",
        "# img_us = img_us.astype(int)\n",
        "# print(img_us[0][1])\n",
        "\n",
        "for i in range(0,img_us.shape[0]):\n",
        "  for j in range(0,img_us.shape[1]):\n",
        "    if np.isnan(img_us[i][j][0]).all():\n",
        "      if i==0 or i==img_us.shape[0] or j==0 or j==img_us.shape[1]:\n",
        "        img_us[i][j] = 255\n",
        "      else:\n",
        "        img_us[i][j] = 255\n",
        "\n",
        "img_us = img_us.astype(int)\n",
        "\n",
        "print(img_us)\n",
        "plt.imshow(img_us)\n",
        "\n",
        "# img_us[0][0] = 12\n",
        "# print(img_us[0][0])"
      ],
      "metadata": {
        "id": "O47scjSh2LYh"
      },
      "execution_count": null,
      "outputs": []
    },
    {
      "cell_type": "markdown",
      "source": [
        "####Nearest Neighbor"
      ],
      "metadata": {
        "id": "drwtxbZGhTxx"
      }
    },
    {
      "cell_type": "code",
      "source": [
        "def up_NN(img_copy,baris_baru,kolom_baru,size):\n",
        "  img_copy = img_copy.astype(int)\n",
        "\n",
        "  baris_lama, kolom_lama, c = img_copy.shape\n",
        "  # print(baris_lama,kolom_lama,c)\n",
        "\n",
        "  # baris_baru = baris_lama*order\n",
        "  # kolom_baru = kolom_lama*order\n",
        "\n",
        "  img_us = np.zeros(shape=(baris_baru,kolom_baru,c))\n",
        "\n",
        "  k_baris = (baris_lama)/(baris_baru) if baris_baru != 0 else 0\n",
        "  k_kolom = (kolom_lama)/(kolom_baru) if kolom_baru != 0 else 0\n",
        "\n",
        "  for i in range(baris_baru):\n",
        "    for j in range(kolom_baru):\n",
        "\n",
        "      #pemetaan koordinat baru ke lama (koordinat lama = koordinat baru * skala)\n",
        "      x = i*k_baris\n",
        "      y = j*k_kolom\n",
        "\n",
        "      #4-Neighborhood dari (x,y)\n",
        "      x1 = math.floor(x)\n",
        "      x2 = min(baris_lama - 1, math.ceil(x))\n",
        "      y1 = math.floor(y)\n",
        "      y2 = min(kolom_lama - 1, math.ceil(y))\n",
        "\n",
        "      if (x2 == x1) and (y2 == y1):\n",
        "        q = img_copy[int(x), int(y), :]\n",
        "      elif (x2 == x1):\n",
        "        # q1 = img_copy[int(x), int(y1), :]\n",
        "        # q2 = img_copy[int(x), int(y2), :]\n",
        "        for k in range(c):\n",
        "          q[k] = min(img_copy[int(x), int(y1), k],img_copy[int(x), int(y2), k])\n",
        "      elif (y2 == y1):\n",
        "        # q1 = img_copy[int(x1), int(y), :]\n",
        "        # q2 = img_copy[int(x2), int(y), :]\n",
        "        for k in range(c):\n",
        "          q[k] = min(img_copy[int(x1), int(y), k],img_copy[int(x2), int(y), k])\n",
        "      else:\n",
        "        v1 = img_copy[x1, y1, :]\n",
        "        v2 = img_copy[x2, y1, :]\n",
        "        v3 = img_copy[x1, y2, :]\n",
        "        v4 = img_copy[x2, y2, :]\n",
        "        for k in range(c):\n",
        "          q[k] = min(v1[k],v2[k],v3[k],v4[k])\n",
        "\n",
        "      img_us[i,j,:] = q\n",
        "\n",
        "  img_us = img_us.astype(np.uint8)\n",
        "  fig, axs = plt.subplots(1, 2, figsize=(size, size))\n",
        "  axs[0].imshow(img_copy)\n",
        "  axs[0].set_title(f\"Before, shape, {img_copy.shape}\")\n",
        "  axs[1].imshow(img_us)\n",
        "  axs[1].set_title(f\"After, shape {img_us.shape}\")\n",
        "\n",
        "  # fig.suptitle(f\"Upsample({mode})\", fontsize=16)\n",
        "  plt.tight_layout()\n",
        "  plt.subplots_adjust(top=1.45)\n",
        "  plt.show()\n",
        "\n",
        "  return img_us"
      ],
      "metadata": {
        "id": "k8W2DNk-hTWk"
      },
      "execution_count": 71,
      "outputs": []
    },
    {
      "cell_type": "markdown",
      "source": [
        "####Bilinear"
      ],
      "metadata": {
        "id": "BkL_OT-Sb3Ft"
      }
    },
    {
      "cell_type": "code",
      "source": [
        "def up_Bilinear(img_copy,baris_baru,kolom_baru,size):\n",
        "  img_copy = img_copy.astype(int)\n",
        "\n",
        "  baris_lama, kolom_lama, c = img_copy.shape\n",
        "  # print(baris_lama,kolom_lama,c)\n",
        "\n",
        "  # baris_baru = baris_lama*order\n",
        "  # kolom_baru = kolom_lama*order\n",
        "\n",
        "  img_us = np.zeros(shape=(baris_baru,kolom_baru,c))\n",
        "\n",
        "  k_baris = (baris_lama)/(baris_baru) if baris_baru != 0 else 0\n",
        "  k_kolom = (kolom_lama)/(kolom_baru) if kolom_baru != 0 else 0\n",
        "\n",
        "  for i in range(baris_baru):\n",
        "    for j in range(kolom_baru):\n",
        "\n",
        "      #pemetaan koordinat baru ke lama (koordinat lama = koordinat baru * skala)\n",
        "      x = i*k_baris\n",
        "      y = j*k_kolom\n",
        "\n",
        "      #4-Neighborhood dari (x,y)\n",
        "      x1 = math.floor(x)\n",
        "      x2 = min(baris_lama - 1, math.ceil(x))\n",
        "      y1 = math.floor(y)\n",
        "      y2 = min(kolom_lama - 1, math.ceil(y))\n",
        "\n",
        "      if (x2 == x1) and (y2 == y1):\n",
        "        q = img_copy[int(x), int(y), :]\n",
        "      elif (x2 == x1):\n",
        "        q1 = img_copy[int(x), int(y1), :]\n",
        "        q2 = img_copy[int(x), int(y2), :]\n",
        "        q = q1 * (y2 - y) + q2 * (y - y1)\n",
        "      elif (y2 == y1):\n",
        "        q1 = img_copy[int(x1), int(y), :]\n",
        "        q2 = img_copy[int(x2), int(y), :]\n",
        "        q = (q1 * (x2 - x)) + (q2\t * (x - x1))\n",
        "      else:\n",
        "        v1 = img_copy[x1, y1, :]\n",
        "        v2 = img_copy[x2, y1, :]\n",
        "        v3 = img_copy[x1, y2, :]\n",
        "        v4 = img_copy[x2, y2, :]\n",
        "\n",
        "        q1 = v1 * (x2 - x) + v2 * (x - x1)\n",
        "        q2 = v3 * (x2 - x) + v4 * (x - x1)\n",
        "        q = q1 * (y2 - y) + q2 * (y - y1)\n",
        "\n",
        "      img_us[i,j,:] = q\n",
        "\n",
        "  img_us = img_us.astype(np.uint8)\n",
        "  fig, axs = plt.subplots(1, 2, figsize=(size, size))\n",
        "  axs[0].imshow(img_copy)\n",
        "  axs[0].set_title(f\"Before, shape, {img_copy.shape}\")\n",
        "  axs[1].imshow(img_us)\n",
        "  axs[1].set_title(f\"After, shape {img_us.shape}\")\n",
        "\n",
        "  # fig.suptitle(f\"Upsample({mode})\", fontsize=16)\n",
        "  plt.tight_layout()\n",
        "  plt.subplots_adjust(top=1.45)\n",
        "  plt.show()\n",
        "\n",
        "  return img_us"
      ],
      "metadata": {
        "id": "SIGyzqwAMtVu"
      },
      "execution_count": 42,
      "outputs": []
    },
    {
      "cell_type": "markdown",
      "source": [
        "####Bicubic"
      ],
      "metadata": {
        "id": "FH6F1kcusxzU"
      }
    },
    {
      "cell_type": "code",
      "source": [
        "def up_Bilinear(img_copy,baris_baru,kolom_baru,size):\n",
        "  img_copy = img_copy.astype(int)\n",
        "\n",
        "  baris_lama, kolom_lama, c = img_copy.shape\n",
        "  print(baris_lama,kolom_lama,c)\n",
        "\n",
        "  # baris_baru = baris_lama*order\n",
        "  # kolom_baru = kolom_lama*order\n",
        "\n",
        "  img_us = np.zeros(shape=(baris_baru,kolom_baru,c))\n",
        "\n",
        "  k_baris = (baris_lama)/(baris_baru) if baris_baru != 0 else 0\n",
        "  k_kolom = (kolom_lama)/(kolom_baru) if kolom_baru != 0 else 0\n",
        "\n",
        "  for i in range(baris_baru):\n",
        "    for j in range(kolom_baru):\n",
        "\n",
        "      #pemetaan koordinat baru ke lama (koordinat lama = koordinat baru * skala)\n",
        "      x = i*k_baris\n",
        "      y = j*k_kolom\n",
        "\n",
        "      #4-Neighborhood dari (x,y)\n",
        "      x1 = math.floor(x)\n",
        "      x2 = min(baris_lama - 1, math.ceil(x))\n",
        "      y1 = math.floor(y)\n",
        "      y2 = min(kolom_lama - 1, math.ceil(y))\n",
        "\n",
        "      if (x2 == x1) and (y2 == y1):\n",
        "        q = img_copy[int(x), int(y), :]\n",
        "      elif (x2 == x1):\n",
        "        q1 = img_copy[int(x), int(y1), :]\n",
        "        q2 = img_copy[int(x), int(y2), :]\n",
        "        q = q1 * (y2 - y) + q2 * (y - y1)\n",
        "      elif (y2 == y1):\n",
        "        q1 = img_copy[int(x1), int(y), :]\n",
        "        q2 = img_copy[int(x2), int(y), :]\n",
        "        q = (q1 * (x2 - x)) + (q2\t * (x - x1))\n",
        "      else:\n",
        "        v1 = img_copy[x1, y1, :]\n",
        "        v2 = img_copy[x2, y1, :]\n",
        "        v3 = img_copy[x1, y2, :]\n",
        "        v4 = img_copy[x2, y2, :]\n",
        "\n",
        "        q1 = v1 * (x2 - x) + v2 * (x - x1)\n",
        "        q2 = v3 * (x2 - x) + v4 * (x - x1)\n",
        "        q = q1 * (y2 - y) + q2 * (y - y1)\n",
        "\n",
        "      img_us[i,j,:] = q\n",
        "\n",
        "  img_us = img_us.astype(np.uint8)\n",
        "  fig, axs = plt.subplots(1, 2, figsize=(size, size))\n",
        "  axs[0].imshow(img_copy)\n",
        "  axs[0].set_title(f\"Before, shape, {img_copy.shape}\")\n",
        "  axs[1].imshow(img_us)\n",
        "  axs[1].set_title(f\"After, shape {img_us.shape}\")\n",
        "\n",
        "  # fig.suptitle(f\"Upsample({mode})\", fontsize=16)\n",
        "  plt.tight_layout()\n",
        "  plt.subplots_adjust(top=1.45)\n",
        "  plt.show()\n",
        "\n",
        "  return img_us"
      ],
      "metadata": {
        "id": "hnTByYyzsxTv"
      },
      "execution_count": null,
      "outputs": []
    },
    {
      "cell_type": "markdown",
      "source": [
        "##main()=================================================================================================================="
      ],
      "metadata": {
        "id": "2TAXF7BcKBP5"
      }
    },
    {
      "cell_type": "code",
      "source": [
        "# img_path = '/content/PCD/PCD_Assignment01/grid.jpg'\n",
        "# img_path = '/content/PCD/PCD_Assignment01/grid01.jpg'\n",
        "# img_path = '/content/PCD/PCD_Assignment01/grid02.jpg'\n",
        "# img_path = '/content/PCD/PCD_Assignment01/4x4.jpg'\n",
        "# img_path = '/content/PCD/PCD_Assignment01/8x8.jpg'\n",
        "# img_path = '/content/PCD/PCD_Assignment01/8x8white.jpg'\n",
        "img_path = '/content/PCD/PCD_Assignment01/16x16.jpg'\n",
        "# img_path = '/content/PCD/PCD_Assignment01/64x64.jpg'\n",
        "# img_path = '/content/PCD/PCD_Assignment01/128x128.jpg'\n",
        "# img_path = '/content/PCD/PCD_Assignment01/color01.jpg'\n",
        "# img_path = '/content/PCD/PCD_Assignment01/color02.jpg'\n",
        "# img_path = '/content/PCD/PCD_Assignment01/clouds.jpg'\n",
        "# img_path = '/content/PCD/PCD_Assignment01/mountain.jpg'\n",
        "# img_path = '/content/thunder16x16.jpg'\n",
        "\n",
        "img,img_copy = Acquire(img_path,10)\n",
        "# print(img[0][0],img_copy[-1][-1])"
      ],
      "metadata": {
        "colab": {
          "base_uri": "https://localhost:8080/",
          "height": 533
        },
        "id": "wRhXImsnU7_0",
        "outputId": "d3b113cc-6f8e-4882-8b5e-acf8a91b05b5"
      },
      "execution_count": 80,
      "outputs": [
        {
          "output_type": "display_data",
          "data": {
            "text/plain": [
              "<Figure size 1000x1000 with 2 Axes>"
            ],
            "image/png": "[encoded data removed]"
          },
          "metadata": {}
        }
      ]
    },
    {
      "cell_type": "code",
      "source": [
        "# DownSample(img_copy,order,size)\n",
        "# Decimate(img_copy,order,mode,size)\n",
        "# up_Bilinear(img_copy,baris_baru,kolom_baru,size)\n",
        "# up_NN(img_copy,baris_baru,kolom_baru,size)\n",
        "\n",
        "# img_ds = DownSample(img_copy,1,8)\n",
        "\n",
        "img_dc = Decimate(img_copy,8,8,10)\n",
        "\n",
        "# B = up_Bilinear(img_copy,700,700,10)\n",
        "\n",
        "# B = up_NN(img_copy,600,600,10)"
      ],
      "metadata": {
        "id": "DuRVKz6QJ_4o",
        "outputId": "2a6152d1-1533-4008-d4c9-e8d827c4a949",
        "colab": {
          "base_uri": "https://localhost:8080/",
          "height": 537
        }
      },
      "execution_count": 88,
      "outputs": [
        {
          "output_type": "display_data",
          "data": {
            "text/plain": [
              "<Figure size 1000x1000 with 2 Axes>"
            ],
            "image/png": "[encoded data removed]"
          },
          "metadata": {}
        }
      ]
    },
    {
      "cell_type": "markdown",
      "source": [
        "##junk=================================================================================================================="
      ],
      "metadata": {
        "id": "PihBCOx9pfyZ"
      }
    },
    {
      "cell_type": "code",
      "source": [
        "def Upsample(img_copy,order,mode,size):\n",
        "  #baris\n",
        "  baris = img_copy.shape[0]*order\n",
        "  # print(f\"baris = {baris}\")\n",
        "\n",
        "  #kolom\n",
        "  kolom = img_copy.shape[1]*order\n",
        "  # print(f\"kolom = {kolom}\")\n",
        "\n",
        "  #Matriks Image Upsample (img_us)\n",
        "  # img_us = np.zeros(shape=(baris,kolom,3),dtype=np.uint8)\n",
        "  img_us = np.zeros(shape=(baris,kolom,3),dtype=int)\n",
        "  img_copy = img_copy.astype(int)\n",
        "  print(img_copy.shape,\"==>\",img_us.shape)\n",
        "  # print(img_us)\n",
        "\n",
        "  for i in range(0,img_copy.shape[0]):\n",
        "    for j in range(0,img_copy.shape[1]):\n",
        "      img_us[i*order][j*order] = img_copy[i][j]\n",
        "\n",
        "  #Upsampling\n",
        "  match mode:\n",
        "\n",
        "    case 0:#Nearest Neighbor (NN)\n",
        "      mode = \"Nearest Neighbor (NN)\"\n",
        "      for h in range(0,img_copy.shape[0]):\n",
        "        for i in range(0,img_copy.shape[1]):\n",
        "          for j in range(h*order,(h+1)*order):\n",
        "            for k in range(i*order,(i+1)*order):\n",
        "              img_us[j][k] = img_copy[h][i]\n",
        "              # img_us[j][k][0] = min(img_us[h][i][0],img_copy[j][k][0])\n",
        "              # img_us[j][k][1] = min(img_us[h][i][1],img_copy[j][k][1])\n",
        "              # img_us[j][k][2] = min(img_us[h][i][2],img_copy[j][k][2])\n",
        "\n",
        "    case 1:#Bilinear\n",
        "      mode = \"Bilinear\"\n",
        "      temp = [[],[],[]]\n",
        "\n",
        "      for h in range(0,img_dc.shape[0]):\n",
        "        for i in range(0,img_dc.shape[1]):\n",
        "          for j in range(h*div,(h+1)*div):\n",
        "            for k in range(i*div,(i+1)*div):\n",
        "              temp[0].append(img_copy[j][k][0])\n",
        "              temp[1].append(img_copy[j][k][1])\n",
        "              temp[2].append(img_copy[j][k][2])\n",
        "          img_dc[h][i][0] = st.median(temp[0])\n",
        "          img_dc[h][i][1] = st.median(temp[1])\n",
        "          img_dc[h][i][2] = st.median(temp[2])\n",
        "          temp = [[],[],[]]\n",
        "      img_dc = img_dc.astype(np.uint8)\n",
        "\n",
        "    case 2:#Bicubic\n",
        "      mode = \"Bicubic\"\n",
        "      for h in range(0,img_dc.shape[0]):\n",
        "        for i in range(0,img_dc.shape[1]):\n",
        "          for j in range(h*div,(h+1)*div):\n",
        "            for k in range(i*div,(i+1)*div):\n",
        "              img_dc[h][i] += img_copy[j][k]\n",
        "              # print(f\"B[{h}][{i}]<==A[{j}][{k}]\")\n",
        "              # print(\"A:\",img_copy[j][k])\n",
        "              # print(\"B:\\n\",img_dc)\n",
        "          img_dc[h][i] = np.round(img_dc[h][i]/(div*div))\n",
        "      # print(img_dc)\n",
        "      img_dc = img_dc.astype(np.uint8)\n",
        "\n",
        "  fig, axs = plt.subplots(1, 2, figsize=(size, size))\n",
        "  axs[0].imshow(img_copy)\n",
        "  axs[0].set_title(f\"Before, shape, {img_copy.shape}\")\n",
        "  axs[1].imshow(img_us)\n",
        "  axs[1].set_title(f\"After, shape {img_us.shape}\")\n",
        "\n",
        "  fig.suptitle(f\"Upsample({mode})\", fontsize=16)\n",
        "  plt.tight_layout()\n",
        "  plt.subplots_adjust(top=1.45)\n",
        "  plt.show()\n",
        "\n",
        "  return img_us\n",
        "\n",
        "#Upsample(img_copy,order,mode,size)\n",
        "# A = Upsample(img_copy,10,0,14)"
      ],
      "metadata": {
        "id": "tDBlZTHa6apd"
      },
      "execution_count": 10,
      "outputs": []
    },
    {
      "cell_type": "code",
      "source": [
        "# img2 = mpimg.imread(img02_path)\n",
        "# plt.imshow(img2)\n",
        "# plt.axis('off')\n",
        "# plt.show()"
      ],
      "metadata": {
        "id": "ikLBjsGuIUoB"
      },
      "execution_count": null,
      "outputs": []
    },
    {
      "cell_type": "code",
      "source": [
        "A = np.random.randint(0, 10, size=(8, 8))\n",
        "print(A)\n",
        "\n",
        "B = np.zeros(shape=(2,2))\n",
        "print(B)\n",
        "\n",
        "div = 2**2\n",
        "\n",
        "for h in range(0,B.shape[0]):\n",
        "  for i in range(0,B.shape[1]):\n",
        "    for j in range(h*div,(h+1)*div):\n",
        "      for k in range(i*div,(i+1)*div):\n",
        "        print(f\"B[{h}][{i}]<==A[{j}][{k}]\")\n",
        "        print(\"A:\",A[j][k])\n",
        "        B[h][i] += A[j][k]\n",
        "        print(\"B:\\n\",B)\n",
        "    B[h][i] = round((B[h][i])/div)\n",
        "\n",
        "print(type(B[0][0]))\n"
      ],
      "metadata": {
        "id": "hhONPTbsWxZH"
      },
      "execution_count": null,
      "outputs": []
    },
    {
      "cell_type": "code",
      "source": [
        "# print(img02_copy[-1][-1])\n",
        "print(MDS)\n",
        "print(\"===============================\")\n",
        "M = np.array([1,2,3])\n",
        "print(M.shape)\n",
        "print(M)\n",
        "M = M.reshape(1,3)\n",
        "print(M.shape)\n",
        "print(M)\n",
        "print(\"===============================\")\n",
        "print(MDS[0].shape)\n",
        "# MDS = np.append(M_DS,M)\n",
        "MDS[0] = np.concatenate((MDS[0],M),axis=1)\n",
        "# C = np.concatenate((M,MDS[0][0]),axis=0)\n",
        "print(MDS[0][0].shape)\n",
        "print(MDS)\n"
      ],
      "metadata": {
        "id": "CsPIE6S3Zb0G"
      },
      "execution_count": null,
      "outputs": []
    },
    {
      "cell_type": "code",
      "source": [
        "# pd.Series(img01.flatten()).plot(kind=\"hist\",\n",
        "#                                bins=25,\n",
        "#                                title='Pixel Values')\n",
        "# plt.show()\n",
        "\n",
        "flat = img02.flatten()\n",
        "# print(flat.shape)\n",
        "# print(flat)\n",
        "\n",
        "A = []\n",
        "\n",
        "for i in range(len(flat)):\n",
        "  if i%3==0:\n",
        "    A.append(int(flat[i]))\n",
        "\n",
        "A = np.array(A)\n",
        "print(A[0].dtype)\n",
        "\n",
        "# pd.Series(img02.flatten()).plot(kind=\"hist\",\n",
        "#                                bins=25,\n",
        "#                                title='Pixel Values')\n",
        "# plt.show()"
      ],
      "metadata": {
        "colab": {
          "base_uri": "https://localhost:8080/"
        },
        "id": "KfoAsaACMtXP",
        "outputId": "28ee06cc-9d58-4431-fde0-1b30646be2a6"
      },
      "execution_count": null,
      "outputs": [
        {
          "output_type": "stream",
          "name": "stdout",
          "text": [
            "int64\n"
          ]
        }
      ]
    },
    {
      "cell_type": "code",
      "source": [
        "A = np.zeros( (2, 3, 5) )\n",
        "print(\"A = {}\\n\".format(A))\n",
        "## 1rst term => depth\n",
        "## 2 other terms => (i,j)\n",
        "\n",
        "## basic 2D array\n",
        "B = np.ones( (1,3, 5) )\n",
        "print(\"B = {}\\n\".format(B))\n",
        "\n",
        "## 2D array reshaped into 3D one prior to be concatenated\n",
        "# Bprime = B.reshape(1,3,5)\n",
        "# print(\"Bprime = {}\\n\".format(Bprime))\n",
        "\n",
        "## C is created and suppoed to be A expanded by B\n",
        "# C = np.concatenate( (A, Bprime) )\n",
        "C = np.concatenate( (A, B), axis = 0)\n",
        "print(\"C = {}\\n\".format(C))"
      ],
      "metadata": {
        "id": "PgRnEsEEpQgy"
      },
      "execution_count": null,
      "outputs": []
    },
    {
      "cell_type": "code",
      "source": [
        "# length = len(flat)/3\n",
        "# length = int(length)\n",
        "\n",
        "# empty02 = np.zeros(shape=(length),dtype=np.uint8)\n",
        "# print(empty02)"
      ],
      "metadata": {
        "id": "Ui8JJWXApfiT"
      },
      "execution_count": null,
      "outputs": []
    }
  ]
}
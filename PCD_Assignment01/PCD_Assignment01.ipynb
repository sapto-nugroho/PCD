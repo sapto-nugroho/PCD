{
  "nbformat": 4,
  "nbformat_minor": 0,
  "metadata": {
    "colab": {
      "provenance": [],
      "authorship_tag": "ABX9TyM9euju7WRmyEl4FdXNkGrv",
      "include_colab_link": true
    },
    "kernelspec": {
      "name": "python3",
      "display_name": "Python 3"
    },
    "language_info": {
      "name": "python"
    }
  },
  "cells": [
    {
      "cell_type": "markdown",
      "metadata": {
        "id": "view-in-github",
        "colab_type": "text"
      },
      "source": [
        "<a href=\"https://colab.research.google.com/github/sapto-nugroho/PCD/blob/main/PCD_Assignment01/PCD_Assignment01.ipynb\" target=\"_parent\"><img src=\"https://colab.research.google.com/assets/colab-badge.svg\" alt=\"Open In Colab\"/></a>"
      ]
    },
    {
      "cell_type": "markdown",
      "source": [
        "#\n",
        "##Nama  : Sapto Nugroho\n",
        "##NIU   : 565712"
      ],
      "metadata": {
        "id": "-Mf4H5vN-N9N"
      }
    },
    {
      "cell_type": "markdown",
      "source": [
        "###git clone"
      ],
      "metadata": {
        "id": "I0IANH0HDN7p"
      }
    },
    {
      "cell_type": "code",
      "source": [
        "!ls\n",
        "!git clone https://github.com/sapto-nugroho/PCD.git\n",
        "!ls"
      ],
      "metadata": {
        "id": "zd-wWmlqNua8",
        "collapsed": true,
        "colab": {
          "base_uri": "https://localhost:8080/"
        },
        "outputId": "3e84139b-c896-4d20-8829-809bdfb613c1"
      },
      "execution_count": 1,
      "outputs": [
        {
          "output_type": "stream",
          "name": "stdout",
          "text": [
            "sample_data\n",
            "Cloning into 'PCD'...\n",
            "remote: Enumerating objects: 188, done.\u001b[K\n",
            "remote: Counting objects: 100% (188/188), done.\u001b[K\n",
            "remote: Compressing objects: 100% (176/176), done.\u001b[K\n",
            "remote: Total 188 (delta 63), reused 42 (delta 9), pack-reused 0 (from 0)\u001b[K\n",
            "Receiving objects: 100% (188/188), 5.40 MiB | 9.41 MiB/s, done.\n",
            "Resolving deltas: 100% (63/63), done.\n",
            "PCD  sample_data\n"
          ]
        }
      ]
    },
    {
      "cell_type": "markdown",
      "source": [
        "##function================================================================================================================"
      ],
      "metadata": {
        "id": "AjZwhFE151Hk"
      }
    },
    {
      "cell_type": "markdown",
      "source": [
        "###Import"
      ],
      "metadata": {
        "id": "DfUwEHGwH0Dc"
      }
    },
    {
      "cell_type": "code",
      "source": [
        "import matplotlib.pyplot as plt\n",
        "import numpy as np\n",
        "import math\n",
        "import statistics as st\n",
        "import pdb\n",
        "from scipy.interpolate import CubicSpline\n"
      ],
      "metadata": {
        "id": "kcLVe3bLG_F9"
      },
      "execution_count": 2,
      "outputs": []
    },
    {
      "cell_type": "code",
      "source": [
        "f = np.arange(0,4,0.5)\n",
        "# print(f)\n",
        "\n",
        "plt.plot(f,np.ones(len(f)),'o')\n",
        "# plt.plot(f,np.linspace(0,1,10),'o')\n",
        "plt.plot(xs, ys_RGB[0][3], 'o', label='data points')\n",
        "plt.plot(temp_xs[0,3], temp_ys[0,3], label='cubic spline interpolation')\n",
        "plt.show()"
      ],
      "metadata": {
        "id": "5eG05wxcp3He"
      },
      "execution_count": null,
      "outputs": []
    },
    {
      "cell_type": "code",
      "source": [],
      "metadata": {
        "id": "opoEIHmaJOyB"
      },
      "execution_count": 296,
      "outputs": []
    },
    {
      "cell_type": "markdown",
      "source": [
        "###Image Acquisition"
      ],
      "metadata": {
        "id": "DglraIlqWYau"
      }
    },
    {
      "cell_type": "code",
      "source": [
        "def Acquire(src,size):\n",
        "  #Image and Copy\n",
        "  img = plt.imread(src)\n",
        "  img_copy = img.copy()\n",
        "\n",
        "  #Plot Image dan Copy\n",
        "  fig, axs = plt.subplots(1, 2, figsize=(size, size))\n",
        "  axs[0].imshow(img)\n",
        "  axs[0].set_title(f\"Original, shape, {img.shape}\")\n",
        "  axs[1].imshow(img_copy)\n",
        "  axs[1].set_title(f\"Copy, shape {img_copy.shape}\")\n",
        "  plt.tight_layout()\n",
        "  plt.show()\n",
        "\n",
        "  return img, img_copy\n"
      ],
      "metadata": {
        "id": "IcYZmgYYh_zQ"
      },
      "execution_count": 4,
      "outputs": []
    },
    {
      "cell_type": "markdown",
      "source": [
        "###Downsampling"
      ],
      "metadata": {
        "id": "PjnsGm7QW7pG"
      }
    },
    {
      "cell_type": "code",
      "source": [
        "def DownSample(img_copy,order,size):\n",
        "  div = 2**order\n",
        "\n",
        "  #baris\n",
        "  baris = img_copy.shape[0]//div\n",
        "  print(f\"baris = {baris}, sisa baris = {img_copy.shape[0]%div}\")\n",
        "\n",
        "  #kolom\n",
        "  kolom = img_copy.shape[1]//div\n",
        "  print(f\"kolom = {kolom}, sisa kolom = {img_copy.shape[1]%div}\")\n",
        "\n",
        "  #Matriks Image DownSample (img_ds)\n",
        "  img_ds = np.zeros(shape=(baris,kolom,3),dtype=np.uint8)\n",
        "  print(img_copy.shape,\"==>\",img_ds.shape)\n",
        "  #print(img_ds)\n",
        "\n",
        "  #DownSampling\n",
        "  for j in range(0,img_ds.shape[0]):\n",
        "    # print(\"J= \",j,j*div)\n",
        "    for i in range(0,img_ds.shape[1]):\n",
        "      # print(i, i*div)\n",
        "      img_ds[j][i] = img_copy[j*div][i*div]\n",
        "\n",
        "  fig, axs = plt.subplots(1, 2, figsize=(size, size))\n",
        "  axs[0].imshow(img_copy)\n",
        "  axs[0].set_title(f\"Before, shape, {img_copy.shape}\")\n",
        "  axs[1].imshow(img_ds)\n",
        "  axs[1].set_title(f\"After, shape {img_ds.shape}\")\n",
        "  fig.suptitle(\"Downsampling\", fontsize=16)\n",
        "  plt.tight_layout()\n",
        "  plt.show()\n",
        "\n",
        "  return img_ds\n"
      ],
      "metadata": {
        "id": "CxPeCV6bj6Ea"
      },
      "execution_count": 7,
      "outputs": []
    },
    {
      "cell_type": "markdown",
      "source": [
        "###Decimation"
      ],
      "metadata": {
        "id": "GxkzXPyMRQzF"
      }
    },
    {
      "cell_type": "code",
      "source": [
        "#new Decimate\n",
        "def Decimate(mode,img_copy,baris_baru,kolom_baru,size):\n",
        "\n",
        "  img_copy = img_copy.astype(int)\n",
        "  baris_lama, kolom_lama, c = img_copy.shape\n",
        "\n",
        "  #Matriks Image Decimation (img_dc)\n",
        "  img_dc = np.zeros(shape=(baris_baru,kolom_baru,3),dtype=int)\n",
        "\n",
        "  k_baris = (baris_lama - 1)/(baris_baru) if baris_baru != 0 else 0\n",
        "  k_kolom = (kolom_lama - 1)/(kolom_baru) if kolom_baru != 0 else 0\n",
        "\n",
        "  match mode:\n",
        "    case 'MAX':\n",
        "      mode = \"Max\"\n",
        "      for i in range(baris_baru):\n",
        "        for j in range(kolom_baru):\n",
        "\n",
        "          x1 = math.ceil(i*k_baris)\n",
        "          x2 = math.floor((i+1)*k_baris)\n",
        "          y1 = math.ceil(j*k_kolom)\n",
        "          y2 = math.floor((j+1)*k_kolom)\n",
        "          dx = x2-x1+1\n",
        "          dy = y2-y1+1\n",
        "\n",
        "          q = np.array([0,0,0])\n",
        "          if (x2 == x1) and (y2 == y1):\n",
        "            img_dc[i,j,:] = img_copy[x1, y1,:]\n",
        "\n",
        "          elif (x2 == x1):\n",
        "            for k in range(y1,y2+1):\n",
        "              img_dc[i,j,0] = max(img_dc[i,j,0],img_copy[x1,k,0])\n",
        "              img_dc[i,j,1] = max(img_dc[i,j,1],img_copy[x1,k,1])\n",
        "              img_dc[i,j,2] = max(img_dc[i,j,2],img_copy[x1,k,2])\n",
        "\n",
        "          elif (y2 == y1):\n",
        "            for k in range(x1,x2+1):\n",
        "              img_dc[i,j,0] = max(img_dc[i,j,0],img_copy[k,y1,0])\n",
        "              img_dc[i,j,1] = max(img_dc[i,j,1],img_copy[k,y1,1])\n",
        "              img_dc[i,j,2] = max(img_dc[i,j,2],img_copy[k,y1,2])\n",
        "\n",
        "          else:\n",
        "            for k in range(x1,x2+1):\n",
        "              for l in range(y1,y2+1):\n",
        "                img_dc[i,j,0] = max(img_dc[i,j,0],img_copy[k, l,0])\n",
        "                img_dc[i,j,1] = max(img_dc[i,j,1],img_copy[k, l,1])\n",
        "                img_dc[i,j,2] = max(img_dc[i,j,2],img_copy[k, l,2])\n",
        "\n",
        "    case 'MEDIAN':\n",
        "      mode = \"Median\"\n",
        "      temp = [[],[],[]]\n",
        "      for i in range(baris_baru):\n",
        "        for j in range(kolom_baru):\n",
        "\n",
        "          x1 = math.ceil(i*k_baris)\n",
        "          x2 = math.floor((i+1)*k_baris)\n",
        "          y1 = math.ceil(j*k_kolom)\n",
        "          y2 = math.floor((j+1)*k_kolom)\n",
        "          dx = x2-x1+1\n",
        "          dy = y2-y1+1\n",
        "\n",
        "          q = np.array([0,0,0])\n",
        "          if (x2 == x1) and (y2 == y1):\n",
        "            img_dc[i,j,0] = img_copy[x1, y1,0]\n",
        "            img_dc[i,j,1] = img_copy[x1, y1,1]\n",
        "            img_dc[i,j,2] = img_copy[x1, y1,2]\n",
        "\n",
        "          elif (x2 == x1):\n",
        "            for k in range(y1,y2+1):\n",
        "              temp[0].append(img_copy[x1,k,0])\n",
        "              temp[1].append(img_copy[x1,k,1])\n",
        "              temp[2].append(img_copy[x1,k,2])\n",
        "\n",
        "          elif (y2 == y1):\n",
        "            for k in range(x1,x2+1):\n",
        "              temp[0].append(img_copy[k,y1,0])\n",
        "              temp[1].append(img_copy[k,y1,1])\n",
        "              temp[2].append(img_copy[k,y1,2])\n",
        "\n",
        "          else:\n",
        "            for k in range(x1,x2+1):\n",
        "              for l in range(y1,y2+1):\n",
        "                temp[0].append(img_copy[k,l,0])\n",
        "                temp[1].append(img_copy[k,l,1])\n",
        "                temp[2].append(img_copy[k,l,2])\n",
        "\n",
        "          img_dc[i,j,0] = st.median(temp[0])\n",
        "          img_dc[i,j,1] = st.median(temp[1])\n",
        "          img_dc[i,j,2] = st.median(temp[2])\n",
        "          temp = [[],[],[]]\n",
        "\n",
        "    case 'MEAN':\n",
        "      mode = \"Mean\"\n",
        "      for i in range(baris_baru):\n",
        "        for j in range(kolom_baru):\n",
        "\n",
        "          x1 = math.ceil(i*k_baris)\n",
        "          x2 = math.floor((i+1)*k_baris)\n",
        "          y1 = math.ceil(j*k_kolom)\n",
        "          y2 = math.floor((j+1)*k_kolom)\n",
        "          dx = x2-x1+1\n",
        "          dy = y2-y1+1\n",
        "          # pdb.set_trace()\n",
        "\n",
        "          q = np.array([0,0,0])\n",
        "          if (x2 == x1) and (y2 == y1):\n",
        "            img_dc[i,j,0] = img_copy[x1, y1,0]\n",
        "            img_dc[i,j,1] = img_copy[x1, y1,1]\n",
        "            img_dc[i,j,2] = img_copy[x1, y1,2]\n",
        "\n",
        "          elif (x2 == x1):\n",
        "            for k in range(y1,y2+1):\n",
        "              img_dc[i,j,:] += img_copy[x1, k,:]\n",
        "            img_dc[i,j,:] = np.round(img_dc[i,j,:]/(dx*dy))\n",
        "\n",
        "          elif (y2 == y1):\n",
        "            for k in range(x1,x2+1):\n",
        "              img_dc[i,j,:] += img_copy[k, y1,:]\n",
        "            img_dc[i,j,:] = np.round(img_dc[i,j,:]/(dx*dy))\n",
        "\n",
        "          else:\n",
        "            for k in range(x1,x2+1):\n",
        "              for l in range(y1,y2+1):\n",
        "                img_dc[i,j,:] += img_copy[k, l,:]\n",
        "            img_dc[i,j,:] = np.round(img_dc[i,j,:]/(dx*dy))\n",
        "            # pdb.set_trace()\n",
        "\n",
        "          # img_dc[i,j,:] = q1\n",
        "\n",
        "  img_dc = img_dc.astype(np.uint8)\n",
        "\n",
        "  fig, axs = plt.subplots(1, 2, figsize=(size, size))\n",
        "  axs[0].imshow(img_copy)\n",
        "  axs[0].set_title(f\"Before, shape, {img_copy.shape}\")\n",
        "  axs[1].imshow(img_dc)\n",
        "  axs[1].set_title(f\"After, shape {img_dc.shape}\")\n",
        "\n",
        "  # fig.suptitle(f\"Upsample({mode})\", fontsize=16)\n",
        "  plt.tight_layout()\n",
        "  plt.subplots_adjust(top=1.45)\n",
        "  plt.show()\n",
        "\n",
        "  return img_dc\n"
      ],
      "metadata": {
        "id": "cGMf-eOrb95b"
      },
      "execution_count": 8,
      "outputs": []
    },
    {
      "cell_type": "markdown",
      "source": [
        "###Upsampling"
      ],
      "metadata": {
        "id": "2qlwxuyj6eId"
      }
    },
    {
      "cell_type": "markdown",
      "source": [
        "####Nearest Neighbor"
      ],
      "metadata": {
        "id": "drwtxbZGhTxx"
      }
    },
    {
      "cell_type": "code",
      "source": [
        "def up_NN(img_copy,baris_baru,kolom_baru,size):\n",
        "  img_copy = img_copy.astype(int)\n",
        "\n",
        "  baris_lama, kolom_lama, c = img_copy.shape\n",
        "  # print(baris_lama,kolom_lama,c)\n",
        "\n",
        "  # baris_baru = baris_lama*order\n",
        "  # kolom_baru = kolom_lama*order\n",
        "\n",
        "  img_us = np.zeros(shape=(baris_baru,kolom_baru,c))\n",
        "\n",
        "  k_baris = (baris_lama)/(baris_baru) if baris_baru != 0 else 0\n",
        "  k_kolom = (kolom_lama)/(kolom_baru) if kolom_baru != 0 else 0\n",
        "\n",
        "  for i in range(baris_baru):\n",
        "    for j in range(kolom_baru):\n",
        "\n",
        "      #pemetaan koordinat baru ke lama (koordinat lama = koordinat baru * skala)\n",
        "      x = i*k_baris\n",
        "      y = j*k_kolom\n",
        "\n",
        "      #4-Neighborhood dari (x,y)\n",
        "      x1 = math.floor(x)\n",
        "      x2 = min(baris_lama - 1, math.ceil(x))\n",
        "      y1 = math.floor(y)\n",
        "      y2 = min(kolom_lama - 1, math.ceil(y))\n",
        "\n",
        "      if (x2 == x1) and (y2 == y1):\n",
        "        q = img_copy[int(x), int(y), :]\n",
        "      elif (x2 == x1):\n",
        "        for k in range(c):\n",
        "          q[k] = min(img_copy[int(x), int(y1), k],img_copy[int(x), int(y2), k])\n",
        "      elif (y2 == y1):\n",
        "\n",
        "        for k in range(c):\n",
        "          q[k] = min(img_copy[int(x1), int(y), k],img_copy[int(x2), int(y), k])\n",
        "      else:\n",
        "        v1 = img_copy[x1, y1, :]\n",
        "        v2 = img_copy[x2, y1, :]\n",
        "        v3 = img_copy[x1, y2, :]\n",
        "        v4 = img_copy[x2, y2, :]\n",
        "        for k in range(c):\n",
        "          q[k] = min(v1[k],v2[k],v3[k],v4[k])\n",
        "\n",
        "      img_us[i,j,:] = q\n",
        "\n",
        "  img_us = img_us.astype(np.uint8)\n",
        "  fig, axs = plt.subplots(1, 2, figsize=(size, size))\n",
        "  axs[0].imshow(img_copy)\n",
        "  axs[0].set_title(f\"Before, shape, {img_copy.shape}\")\n",
        "  axs[1].imshow(img_us)\n",
        "  axs[1].set_title(f\"After, shape {img_us.shape}\")\n",
        "\n",
        "  # fig.suptitle(f\"Upsample({mode})\", fontsize=16)\n",
        "  plt.tight_layout()\n",
        "  plt.subplots_adjust(top=1.45)\n",
        "  plt.show()\n",
        "\n",
        "  return img_us"
      ],
      "metadata": {
        "id": "k8W2DNk-hTWk"
      },
      "execution_count": null,
      "outputs": []
    },
    {
      "cell_type": "markdown",
      "source": [
        "####Bilinear"
      ],
      "metadata": {
        "id": "BkL_OT-Sb3Ft"
      }
    },
    {
      "cell_type": "code",
      "source": [
        "def up_Bilinear(img_copy,baris_baru,kolom_baru,size):\n",
        "\n",
        "  img_copy = img_copy.astype(int)\n",
        "\n",
        "  baris_lama, kolom_lama, c = img_copy.shape\n",
        "  # print(baris_lama,kolom_lama,c)\n",
        "\n",
        "  img_us = np.zeros(shape=(baris_baru,kolom_baru,c))\n",
        "\n",
        "  k_baris = (baris_lama)/(baris_baru) if baris_baru != 0 else 0\n",
        "  k_kolom = (kolom_lama)/(kolom_baru) if kolom_baru != 0 else 0\n",
        "\n",
        "  for i in range(baris_baru):\n",
        "    for j in range(kolom_baru):\n",
        "\n",
        "      #pemetaan koordinat baru ke lama (koordinat lama = koordinat baru * skala)\n",
        "      x = i*k_baris\n",
        "      y = j*k_kolom\n",
        "\n",
        "      #4-Neighborhood dari (x,y)\n",
        "      x1 = math.floor(x)\n",
        "      x2 = min(baris_lama - 1, math.ceil(x))\n",
        "      y1 = math.floor(y)\n",
        "      y2 = min(kolom_lama - 1, math.ceil(y))\n",
        "\n",
        "      if (x2 == x1) and (y2 == y1):\n",
        "        q = img_copy[int(x), int(y), :]\n",
        "      elif (x2 == x1):\n",
        "        q1 = img_copy[int(x), int(y1), :]\n",
        "        q2 = img_copy[int(x), int(y2), :]\n",
        "        q = q1 * (y2 - y) + q2 * (y - y1)\n",
        "      elif (y2 == y1):\n",
        "        q1 = img_copy[int(x1), int(y), :]\n",
        "        q2 = img_copy[int(x2), int(y), :]\n",
        "        q = (q1 * (x2 - x)) + (q2\t * (x - x1))\n",
        "      else:\n",
        "        v1 = img_copy[x1, y1, :]\n",
        "        v2 = img_copy[x2, y1, :]\n",
        "        v3 = img_copy[x1, y2, :]\n",
        "        v4 = img_copy[x2, y2, :]\n",
        "\n",
        "        q1 = v1 * (x2 - x) + v2 * (x - x1)\n",
        "        q2 = v3 * (x2 - x) + v4 * (x - x1)\n",
        "        q = q1 * (y2 - y) + q2 * (y - y1)\n",
        "\n",
        "      img_us[i,j,:] = q\n",
        "\n",
        "  img_us = img_us.astype(np.uint8)\n",
        "  fig, axs = plt.subplots(1, 2, figsize=(size, size))\n",
        "  axs[0].imshow(img_copy)\n",
        "  axs[0].set_title(f\"Before, shape, {img_copy.shape}\")\n",
        "  axs[1].imshow(img_us)\n",
        "  axs[1].set_title(f\"After, shape {img_us.shape}\")\n",
        "\n",
        "  # fig.suptitle(f\"Upsample({mode})\", fontsize=16)\n",
        "  plt.tight_layout()\n",
        "  plt.subplots_adjust(top=1.45)\n",
        "  plt.show()\n",
        "\n",
        "  return img_us"
      ],
      "metadata": {
        "id": "SIGyzqwAMtVu"
      },
      "execution_count": null,
      "outputs": []
    },
    {
      "cell_type": "markdown",
      "source": [
        "####Bicubic"
      ],
      "metadata": {
        "id": "FH6F1kcusxzU"
      }
    },
    {
      "cell_type": "code",
      "source": [
        "def up_Bicubic(img_copy,baris_baru,kolom_baru,size):\n",
        "\n",
        "  img_copy = img_copy.astype(int)\n",
        "  baris_lama, kolom_lama, c = img_copy.shape\n",
        "  # print(img_copy)\n",
        "\n",
        "  img_us = np.zeros(shape=(baris_baru,kolom_baru,c), dtype=int)\n",
        "  # print(img_us)\n",
        "\n",
        "  k_baris = (baris_lama)/(baris_baru) if baris_baru != 0 else 0\n",
        "  k_kolom = (kolom_lama)/(kolom_baru) if kolom_baru != 0 else 0\n",
        "  k1 = 10\n",
        "\n",
        "  #ys_RGB[channel][baris_lama][kolom_lama]\n",
        "  ys_RGB = []\n",
        "  for i in range(c):\n",
        "    ys_RGB.append(img_copy[:,:,i])\n",
        "\n",
        "  temp_xs = []\n",
        "  temp_ys = []\n",
        "\n",
        "  #Divide And Conquer (kolom kemudian baris)\n",
        "\n",
        "  for h in range(c):#iterasi channel (RGB)\n",
        "    for i in range(len(ys_RGB[h][:])):#iterasi kolom RGB\n",
        "\n",
        "      #xs       = x-axis bc interpolate\n",
        "      #ys_RGB[channel][baris]  = y-axis bc interpolate\n",
        "      #len(xs) = len(ys_RGB[channel][baris]) = len(kolom_lama)\n",
        "      xs = np.arange(0,len(ys_RGB[h][i]))\n",
        "\n",
        "      #kolom wise\n",
        "      cs = CubicSpline(xs, ys_RGB[h][i],bc_type='natural')\n",
        "\n",
        "      # sample = 4*k*k1\n",
        "      sample = int(len(ys_RGB[h][i])*10*(int(1/(k_kolom))))\n",
        "\n",
        "      # new_xs = np.linspace(0,len(r)-1,(len(r)-1)*10)\n",
        "      new_xs = np.linspace(0,len(ys_RGB[h][i]),sample)\n",
        "      new_ys = cs(new_xs)\n",
        "      new_ys = new_ys.astype(int)\n",
        "\n",
        "      # for i in range(c):\n",
        "      ys2 = new_ys.copy()\n",
        "\n",
        "      for i in range(len(ys2)):\n",
        "        if ys2[i] > 255:\n",
        "          new_ys[i] = new_ys[i-1]\n",
        "        elif ys2[i] < 0:\n",
        "          new_ys[i] = new_ys[i-1]\n",
        "\n",
        "      temp_ys.append(new_ys)\n",
        "      temp_xs.append(new_xs)\n",
        "\n",
        "  #temp_ys[channel,baris,kolom(sample)]\n",
        "  temp_ys = np.array(temp_ys)\n",
        "  temp_ys = temp_ys.reshape(c,len(ys_RGB[0][:]),sample)\n",
        "\n",
        "  #temp_xs[channel,baris,kolom(sample)]\n",
        "  temp_xs = np.array(temp_xs)\n",
        "  temp_xs = temp_xs.reshape(c,len(ys_RGB[0][:]),sample)\n",
        "\n",
        "  for h in range(c):#iterasi channel\n",
        "    for i in range(int(len(img_us[:,0,0])/(1/k_kolom))):\n",
        "      for j in range(len(img_us[0,:,0])):\n",
        "        img_us[i*2,j,h] = temp_ys[h,i,j*k1]\n",
        "\n",
        "  # print(img_us)\n",
        "  # print(temp_ys)\n",
        "  #==============================================================================\n",
        "\n",
        "  ys1 = np.zeros(shape=(c,baris_baru,kolom_lama),dtype=int)\n",
        "\n",
        "  for h in range(c):\n",
        "    for i in range(kolom_baru):\n",
        "      for j in range(baris_lama):\n",
        "        ys1[h,i,j] = temp_ys[h,j,i*k1]\n",
        "\n",
        "  # pdb.set_trace()\n",
        "  # print(ys1[0])\n",
        "  # print(ys1)\n",
        "\n",
        "  # ys1_RGB = []\n",
        "  # for i in range(c):\n",
        "  #   ys1_RGB.append(ys1[:,:,i])\n",
        "\n",
        "  temp_xs1 = []\n",
        "  temp_ys1 = []\n",
        "\n",
        "  #Divide And Conquer (kolom kemudian baris)\n",
        "\n",
        "  for h in range(c):#iterasi channel (RGB)\n",
        "    for i in range(len(ys1[h][:])):#iterasi kolom RGB\n",
        "\n",
        "      #xs1       = x-axis bc interpolate\n",
        "      #ys1[channel,baris,kolom]  = y-axis bc interpolate\n",
        "      #len(xs) = len(ys1[channel,baris,:]) = len(baris_lama)\n",
        "      # xs1 = np.arange(0,len(ys1[h][i]))\n",
        "      xs1 = np.arange(0,len(ys1[h][i]))\n",
        "\n",
        "      #baris wise\n",
        "      cs2 = CubicSpline(xs, ys1[h,i,:],bc_type='natural')\n",
        "\n",
        "      # sample = 4*k*k1\n",
        "      sample = int(len(ys1[h][i])*k1*(int(1/(k_baris))))\n",
        "      # new_xs1 = np.linspace(0,len(r)-1,(len(r)-1)*10)\n",
        "      new_xs1 = np.linspace(0,len(ys1[h][i]),sample)\n",
        "      new_ys1 = cs2(new_xs1)\n",
        "      new_ys1 = new_ys.astype(int)\n",
        "\n",
        "      # for i in range(c):\n",
        "      ys3 = new_ys1.copy()\n",
        "\n",
        "      for i in range(len(ys3)):\n",
        "        if ys3[i] > 255:\n",
        "          new_ys1[i] = new_ys1[i-1]\n",
        "        elif ys3[i] < 0:\n",
        "          new_ys1[i] = new_ys1[i-1]\n",
        "\n",
        "      temp_ys1.append(new_ys1)\n",
        "      temp_xs1.append(new_xs1)\n",
        "\n",
        "  #temp_ys[channel,baris,kolom(sample)]\n",
        "  temp_ys1 = np.array(temp_ys1)\n",
        "  temp_ys1 = temp_ys1.reshape(c,len(ys1[0,:]),sample)\n",
        "\n",
        "  #temp_xs[channel,baris,kolom(sample)]\n",
        "  temp_xs1 = np.array(temp_xs1)\n",
        "  temp_xs1 = temp_xs1.reshape(c,len(ys1[0,:]),sample)\n",
        "\n",
        "  for h in range(c):#iterasi channel\n",
        "    for i in range(1,int(len(img_us[:,0,0])/(1/k_baris))):\n",
        "      for j in range(len(img_us[0,:,0])):\n",
        "        img_us[i,j,h] = temp_ys1[h,i,j*k1]\n",
        "\n",
        "  # print(img_us[0,:,:])\n",
        "  # print(img_us[:,0,1])\n",
        "  # print(img_us)\n",
        "\n",
        "\n",
        "  #==============================================================================\n",
        "  #PLOT\n",
        "  img_us = img_us.astype(np.uint8)\n",
        "  fig, axs = plt.subplots(1, 2, figsize=(size, size))\n",
        "  axs[0].imshow(img_copy)\n",
        "  axs[0].set_title(f\"Before, shape, {img_copy.shape}\")\n",
        "  axs[1].imshow(img_us)\n",
        "  axs[1].set_title(f\"After, shape {img_us.shape}\")\n",
        "\n",
        "  # fig.suptitle(f\"Upsample({mode})\", fontsize=16)\n",
        "  plt.tight_layout()\n",
        "  plt.subplots_adjust(top=1.45)\n",
        "  plt.show()\n",
        "\n",
        "  return img_us"
      ],
      "metadata": {
        "id": "Jli_shA0Blx7"
      },
      "execution_count": 298,
      "outputs": []
    },
    {
      "cell_type": "markdown",
      "source": [
        "##main()=================================================================================================================="
      ],
      "metadata": {
        "id": "2TAXF7BcKBP5"
      }
    },
    {
      "cell_type": "code",
      "source": [
        "# img_path = '/content/PCD/PCD_Assignment01/grid.jpg'\n",
        "# img_path = '/content/PCD/PCD_Assignment01/grid01.jpg'\n",
        "# img_path = '/content/PCD/PCD_Assignment01/grid02.jpg'\n",
        "# img_path = '/content/PCD/PCD_Assignment01/2x2.jpg'\n",
        "# img_path = '/content/PCD/PCD_Assignment01/4x4.jpg'\n",
        "img_path = '/content/PCD/PCD_Assignment01/4x4color.jpg'\n",
        "# img_path = '/content/PCD/PCD_Assignment01/8x8color.jpg'\n",
        "# img_path = '/content/PCD/PCD_Assignment01/8x8white.jpg'\n",
        "# img_path = '/content/PCD/PCD_Assignment01/16x16.jpg'\n",
        "# img_path = '/content/PCD/PCD_Assignment01/64x64.jpg'\n",
        "# img_path = '/content/PCD/PCD_Assignment01/128x128.jpg'\n",
        "# img_path = '/content/PCD/PCD_Assignment01/color01.jpg'\n",
        "# img_path = '/content/PCD/PCD_Assignment01/color02.jpg'\n",
        "# img_path = '/content/PCD/PCD_Assignment01/clouds.jpg'\n",
        "# img_path = '/content/PCD/PCD_Assignment01/mountain.jpg'\n",
        "# img_path = '/content/thunder16x16.jpg'\n",
        "\n",
        "img,img_copy = Acquire(img_path,10)\n",
        "# print(img[0][0],img_copy[-1][-1])"
      ],
      "metadata": {
        "colab": {
          "base_uri": "https://localhost:8080/",
          "height": 506
        },
        "id": "wRhXImsnU7_0",
        "outputId": "d5c8daf1-919b-4c52-a1b2-28c674bd2c57"
      },
      "execution_count": 297,
      "outputs": [
        {
          "output_type": "display_data",
          "data": {
            "text/plain": [
              "<Figure size 1000x1000 with 2 Axes>"
            ],
            "image/png": "[encoded data removed]"
          },
          "metadata": {}
        }
      ]
    },
    {
      "cell_type": "code",
      "source": [
        "# DownSample(img_copy,order,size)\n",
        "# Decimate(mode,img_copy,order,baris_baru,kolom_baru,size)\n",
        "# up_Bilinear(img_copy,baris_baru,kolom_baru,size)\n",
        "# up_NN(img_copy,baris_baru,kolom_baru,size)\n",
        "# up_Bicubic(img_copy,baris_baru,kolom_baru,size)\n",
        "\n",
        "# img_ds = DownSample(img_copy,1,8)\n",
        "\n",
        "# img_dc = Decimate('MEAN',img_copy,2,2,10)\n",
        "\n",
        "# img_us = up_NN(img_copy,600,600,10)\n",
        "\n",
        "# img_us = up_Bilinear(img_copy,700,700,10)\n",
        "\n",
        "img_us = up_Bicubic(img_copy,8,8,10)"
      ],
      "metadata": {
        "id": "DuRVKz6QJ_4o",
        "outputId": "f53f0c01-3d50-49be-ebe4-7eb728e38c92",
        "colab": {
          "base_uri": "https://localhost:8080/",
          "height": 524
        }
      },
      "execution_count": 302,
      "outputs": [
        {
          "output_type": "display_data",
          "data": {
            "text/plain": [
              "<Figure size 1000x1000 with 2 Axes>"
            ],
            "image/png": "[encoded data removed]"
          },
          "metadata": {}
        }
      ]
    },
    {
      "cell_type": "markdown",
      "source": [
        "##junk=================================================================================================================="
      ],
      "metadata": {
        "id": "PihBCOx9pfyZ"
      }
    },
    {
      "cell_type": "code",
      "source": [
        "def up_Bicubic(img_copy,baris_baru,kolom_baru,size):\n",
        "\n",
        "  img_copy = img_copy.astype(int)\n",
        "\n",
        "  baris_lama, kolom_lama, c = img_copy.shape\n",
        "  print(baris_lama,kolom_lama,c)\n",
        "\n",
        "  img_us = np.zeros(shape=(baris_baru,kolom_baru,c))\n",
        "\n",
        "  k_baris = (baris_lama)/(baris_baru) if baris_baru != 0 else 0\n",
        "  k_kolom = (kolom_lama)/(kolom_baru) if kolom_baru != 0 else 0\n",
        "\n",
        "  for i in range(baris_baru):\n",
        "    for j in range(kolom_baru):\n",
        "\n",
        "      #pemetaan koordinat baru ke lama (koordinat lama = koordinat baru * skala)\n",
        "      x = i*k_baris\n",
        "      y = j*k_kolom\n",
        "\n",
        "      #4-Neighborhood dari (x,y)\n",
        "      x1 = math.floor(x)\n",
        "      x2 = min(baris_lama - 1, math.ceil(x))\n",
        "      y1 = math.floor(y)\n",
        "      y2 = min(kolom_lama - 1, math.ceil(y))\n",
        "\n",
        "      if (x2 == x1) and (y2 == y1):\n",
        "        q = img_copy[int(x), int(y), :]\n",
        "      elif (x2 == x1):\n",
        "        q1 = img_copy[int(x), int(y1), :]\n",
        "        q2 = img_copy[int(x), int(y2), :]\n",
        "        q = q1 * (y2 - y) + q2 * (y - y1)\n",
        "      elif (y2 == y1):\n",
        "        q1 = img_copy[int(x1), int(y), :]\n",
        "        q2 = img_copy[int(x2), int(y), :]\n",
        "        q = (q1 * (x2 - x)) + (q2\t * (x - x1))\n",
        "      else:\n",
        "        v1 = img_copy[x1, y1, :]\n",
        "        v2 = img_copy[x2, y1, :]\n",
        "        v3 = img_copy[x1, y2, :]\n",
        "        v4 = img_copy[x2, y2, :]\n",
        "\n",
        "        q1 = v1 * (x2 - x) + v2 * (x - x1)\n",
        "        q2 = v3 * (x2 - x) + v4 * (x - x1)\n",
        "        q = q1 * (y2 - y) + q2 * (y - y1)\n",
        "\n",
        "      img_us[i,j,:] = q\n",
        "\n",
        "  img_us = img_us.astype(np.uint8)\n",
        "  fig, axs = plt.subplots(1, 2, figsize=(size, size))\n",
        "  axs[0].imshow(img_copy)\n",
        "  axs[0].set_title(f\"Before, shape, {img_copy.shape}\")\n",
        "  axs[1].imshow(img_us)\n",
        "  axs[1].set_title(f\"After, shape {img_us.shape}\")\n",
        "\n",
        "  # fig.suptitle(f\"Upsample({mode})\", fontsize=16)\n",
        "  plt.tight_layout()\n",
        "  plt.subplots_adjust(top=1.45)\n",
        "  plt.show()\n",
        "\n",
        "  return img_us"
      ],
      "metadata": {
        "id": "kSuYCG08BpYh"
      },
      "execution_count": null,
      "outputs": []
    },
    {
      "cell_type": "code",
      "source": [
        "img_copy = img_copy.astype(int)\n",
        "baris_lama, kolom_lama, c = img_copy.shape\n",
        "# print(img_copy)\n",
        "\n",
        "baris_baru = 8\n",
        "kolom_baru = 8\n",
        "\n",
        "img_us = np.zeros(shape=(baris_baru,kolom_baru,c))\n",
        "# print(img_us)\n",
        "\n",
        "k_baris = (baris_lama)/(baris_baru) if baris_baru != 0 else 0\n",
        "k_kolom = (kolom_lama)/(kolom_baru) if kolom_baru != 0 else 0\n",
        "\n",
        "RGB = []\n",
        "\n",
        "for i in range(c):\n",
        "  RGB.append(img_copy[:,:,i])\n",
        "\n",
        "# r = img_copy[:,:,0]\n",
        "# g = img_copy[:,:,1]\n",
        "# b = img_copy[:,:,2]\n",
        "# print(r)\n",
        "# print(r[0,:])\n",
        "# print(r[:,0])\n",
        "# print(g)\n",
        "# print(b)\n",
        "\n",
        "# RGB = np.array([r,g,b])\n",
        "# print(RGB[0,0,:])\n",
        "\n",
        "xs = np.arange(0,len(r))\n",
        "print(xs)\n",
        "\n",
        "cs = CubicSpline(xs, RGB[0][0],bc_type='natural')#kolom wise\n",
        "\n",
        "# cs = CubicSpline(xs, RGB[0,0,:])\n",
        "# print(cs)\n",
        "\n",
        "# new_xs = np.linspace(0,len(r)-1,(len(r)-1)*10)\n",
        "new_xs = np.linspace(0,len(r),(len(r))*10*2)\n",
        "new_cs = cs(new_xs)\n",
        "new_cs = new_cs.astype(int)\n",
        "print(new_cs)\n",
        "# print(new_cs.shape)\n",
        "print(len(new_cs))\n",
        "# print(new_cs[0].type)\n",
        "\n",
        "# for i in range(c):\n",
        "cs1 = new_cs.copy()\n",
        "# print(cs1)\n",
        "\n",
        "for i in range(len(cs1)):\n",
        "  if cs1[i] > 255:\n",
        "    new_cs[i] = new_cs[i-1]\n",
        "  elif cs1[i] < 0:\n",
        "    new_cs[i] = new_cs[i-1]\n",
        "\n",
        "print(new_cs)\n",
        "\n",
        "f = np.arange(0,4,0.5)\n",
        "# f = np.linspace(0,4,4*2)\n",
        "# print(f)\n",
        "\n",
        "plt.plot(f,np.ones(len(f)),'o')\n",
        "# plt.plot(f,np.linspace(0,1,10),'o')\n",
        "plt.plot(xs, RGB[0][0], 'o', label='data points')\n",
        "plt.plot(new_xs, new_cs, label='cubic spline interpolation')\n",
        "plt.show()"
      ],
      "metadata": {
        "id": "wTRvmkvYbtCR"
      },
      "execution_count": null,
      "outputs": []
    },
    {
      "cell_type": "code",
      "source": [
        "print(img_copy)\n",
        "# print(img_copy[:,:,0])\n",
        "\n",
        "ys = img_copy[:,:,0].reshape(16) #nilai RGB\n",
        "print(ys)\n",
        "xs = np.arange(0,16) #koordinat\n",
        "print(xs)\n",
        "\n",
        "cs = CubicSpline(xs, ys)\n",
        "# cs = CubicSpline(xs, ys,bc_type='natural')\n",
        "\n",
        "new_xs = np.linspace(0,16,48)\n",
        "new_cs = cs(new_xs)\n",
        "\n",
        "print(new_cs)\n",
        "\n",
        "plt.plot(xs, ys, 'o', label='data points')\n",
        "plt.plot(new_xs, new_cs, label='cubic spline interpolation')\n",
        "plt.show()\n"
      ],
      "metadata": {
        "id": "VSb37LL3aLlS"
      },
      "execution_count": null,
      "outputs": []
    },
    {
      "cell_type": "code",
      "source": [
        "#scipy\n",
        "\n",
        "# xs = np.linspace(0, 2 * np.pi, num=10)\n",
        "xs = np.linspace(0,10,10)\n",
        "# xs = np.arange(0,10)\n",
        "ys = np.sin(xs)\n",
        "cs = CubicSpline(xs, ys)\n",
        "\n",
        "new_xs = np.linspace(0,10,100)\n",
        "# new_xs = np.arange(0,10,0.1)\n",
        "new_cs = cs(new_xs)\n",
        "\n",
        "# print(newarr)\n",
        "# print(interp_func(xs))\n",
        "# plt.plot(interp_func(xs))\n",
        "\n",
        "plt.plot(xs, ys, 'o', label='data points')\n",
        "plt.plot(new_xs, np.sin(new_xs), label='true sine wave')\n",
        "plt.plot(new_xs, new_cs, label='cubic spline interpolation')\n",
        "plt.legend()\n",
        "plt.xlabel('x')\n",
        "plt.ylabel('y')\n",
        "plt.title('Cubic Spline Interpolation of Sine Wave')\n",
        "plt.grid(True)\n",
        "plt.show()"
      ],
      "metadata": {
        "id": "_CB-Bc7lbViW"
      },
      "execution_count": null,
      "outputs": []
    },
    {
      "cell_type": "code",
      "source": [
        "baris_lama = 5\n",
        "kolom_lama = 4\n",
        "\n",
        "baris_baru = 2\n",
        "kolom_baru = 2\n",
        "k_baris = (baris_lama - 1)/(baris_baru)\n",
        "k_kolom = (kolom_lama - 1)/(kolom_baru)\n",
        "\n",
        "for i in range(baris_baru):\n",
        "    for j in range(kolom_baru):\n",
        "      # print(f\"i={i}, j={j}\")\n",
        "      # print(\"==============\")\n",
        "      x1 = math.ceil(i*k_baris)\n",
        "      x2 = math.floor((i+1)*k_baris)\n",
        "      y1 = math.ceil(j*k_kolom)\n",
        "      y2 = math.floor((j+1)*k_kolom)\n",
        "\n",
        "      print(f\"baris: {x1}-{x2}  kolom: {y1}-{y2}\")"
      ],
      "metadata": {
        "colab": {
          "base_uri": "https://localhost:8080/"
        },
        "id": "mbVMfkA-0C2P",
        "outputId": "f6d38b81-b3ce-49cf-dfdf-8db7d021943e"
      },
      "execution_count": null,
      "outputs": [
        {
          "output_type": "stream",
          "name": "stdout",
          "text": [
            "baris: 0-2  kolom: 0-1\n",
            "baris: 0-2  kolom: 2-3\n",
            "baris: 2-4  kolom: 0-1\n",
            "baris: 2-4  kolom: 2-3\n"
          ]
        }
      ]
    },
    {
      "cell_type": "code",
      "source": [
        "def Upsample(img_copy,order,mode,size):\n",
        "  #baris\n",
        "  baris = img_copy.shape[0]*order\n",
        "  # print(f\"baris = {baris}\")\n",
        "\n",
        "  #kolom\n",
        "  kolom = img_copy.shape[1]*order\n",
        "  # print(f\"kolom = {kolom}\")\n",
        "\n",
        "  #Matriks Image Upsample (img_us)\n",
        "  # img_us = np.zeros(shape=(baris,kolom,3),dtype=np.uint8)\n",
        "  img_us = np.zeros(shape=(baris,kolom,3),dtype=int)\n",
        "  img_copy = img_copy.astype(int)\n",
        "  print(img_copy.shape,\"==>\",img_us.shape)\n",
        "  # print(img_us)\n",
        "\n",
        "  for i in range(0,img_copy.shape[0]):\n",
        "    for j in range(0,img_copy.shape[1]):\n",
        "      img_us[i*order][j*order] = img_copy[i][j]\n",
        "\n",
        "  #Upsampling\n",
        "  match mode:\n",
        "\n",
        "    case 0:#Nearest Neighbor (NN)\n",
        "      mode = \"Nearest Neighbor (NN)\"\n",
        "      for h in range(0,img_copy.shape[0]):\n",
        "        for i in range(0,img_copy.shape[1]):\n",
        "          for j in range(h*order,(h+1)*order):\n",
        "            for k in range(i*order,(i+1)*order):\n",
        "              img_us[j][k] = img_copy[h][i]\n",
        "              # img_us[j][k][0] = min(img_us[h][i][0],img_copy[j][k][0])\n",
        "              # img_us[j][k][1] = min(img_us[h][i][1],img_copy[j][k][1])\n",
        "              # img_us[j][k][2] = min(img_us[h][i][2],img_copy[j][k][2])\n",
        "\n",
        "    case 1:#Bilinear\n",
        "      mode = \"Bilinear\"\n",
        "      temp = [[],[],[]]\n",
        "\n",
        "      for h in range(0,img_dc.shape[0]):\n",
        "        for i in range(0,img_dc.shape[1]):\n",
        "          for j in range(h*div,(h+1)*div):\n",
        "            for k in range(i*div,(i+1)*div):\n",
        "              temp[0].append(img_copy[j][k][0])\n",
        "              temp[1].append(img_copy[j][k][1])\n",
        "              temp[2].append(img_copy[j][k][2])\n",
        "          img_dc[h][i][0] = st.median(temp[0])\n",
        "          img_dc[h][i][1] = st.median(temp[1])\n",
        "          img_dc[h][i][2] = st.median(temp[2])\n",
        "          temp = [[],[],[]]\n",
        "      img_dc = img_dc.astype(np.uint8)\n",
        "\n",
        "    case 2:#Bicubic\n",
        "      mode = \"Bicubic\"\n",
        "      for h in range(0,img_dc.shape[0]):\n",
        "        for i in range(0,img_dc.shape[1]):\n",
        "          for j in range(h*div,(h+1)*div):\n",
        "            for k in range(i*div,(i+1)*div):\n",
        "              img_dc[h][i] += img_copy[j][k]\n",
        "              # print(f\"B[{h}][{i}]<==A[{j}][{k}]\")\n",
        "              # print(\"A:\",img_copy[j][k])\n",
        "              # print(\"B:\\n\",img_dc)\n",
        "          img_dc[h][i] = np.round(img_dc[h][i]/(div*div))\n",
        "      # print(img_dc)\n",
        "      img_dc = img_dc.astype(np.uint8)\n",
        "\n",
        "  fig, axs = plt.subplots(1, 2, figsize=(size, size))\n",
        "  axs[0].imshow(img_copy)\n",
        "  axs[0].set_title(f\"Before, shape, {img_copy.shape}\")\n",
        "  axs[1].imshow(img_us)\n",
        "  axs[1].set_title(f\"After, shape {img_us.shape}\")\n",
        "\n",
        "  fig.suptitle(f\"Upsample({mode})\", fontsize=16)\n",
        "  plt.tight_layout()\n",
        "  plt.subplots_adjust(top=1.45)\n",
        "  plt.show()\n",
        "\n",
        "  return img_us\n",
        "\n",
        "#Upsample(img_copy,order,mode,size)\n",
        "# A = Upsample(img_copy,10,0,14)"
      ],
      "metadata": {
        "id": "tDBlZTHa6apd"
      },
      "execution_count": null,
      "outputs": []
    },
    {
      "cell_type": "code",
      "source": [
        "# img2 = mpimg.imread(img02_path)\n",
        "# plt.imshow(img2)\n",
        "# plt.axis('off')\n",
        "# plt.show()"
      ],
      "metadata": {
        "id": "ikLBjsGuIUoB"
      },
      "execution_count": null,
      "outputs": []
    },
    {
      "cell_type": "code",
      "source": [
        "A = np.random.randint(0, 10, size=(8, 8))\n",
        "print(A)\n",
        "\n",
        "B = np.zeros(shape=(2,2))\n",
        "print(B)\n",
        "\n",
        "div = 2**2\n",
        "\n",
        "for h in range(0,B.shape[0]):\n",
        "  for i in range(0,B.shape[1]):\n",
        "    for j in range(h*div,(h+1)*div):\n",
        "      for k in range(i*div,(i+1)*div):\n",
        "        print(f\"B[{h}][{i}]<==A[{j}][{k}]\")\n",
        "        print(\"A:\",A[j][k])\n",
        "        B[h][i] += A[j][k]\n",
        "        print(\"B:\\n\",B)\n",
        "    B[h][i] = round((B[h][i])/div)\n",
        "\n",
        "print(type(B[0][0]))\n"
      ],
      "metadata": {
        "id": "hhONPTbsWxZH"
      },
      "execution_count": null,
      "outputs": []
    },
    {
      "cell_type": "code",
      "source": [
        "# print(img02_copy[-1][-1])\n",
        "print(MDS)\n",
        "print(\"===============================\")\n",
        "M = np.array([1,2,3])\n",
        "print(M.shape)\n",
        "print(M)\n",
        "M = M.reshape(1,3)\n",
        "print(M.shape)\n",
        "print(M)\n",
        "print(\"===============================\")\n",
        "print(MDS[0].shape)\n",
        "# MDS = np.append(M_DS,M)\n",
        "MDS[0] = np.concatenate((MDS[0],M),axis=1)\n",
        "# C = np.concatenate((M,MDS[0][0]),axis=0)\n",
        "print(MDS[0][0].shape)\n",
        "print(MDS)\n"
      ],
      "metadata": {
        "id": "CsPIE6S3Zb0G"
      },
      "execution_count": null,
      "outputs": []
    },
    {
      "cell_type": "code",
      "source": [
        "# pd.Series(img01.flatten()).plot(kind=\"hist\",\n",
        "#                                bins=25,\n",
        "#                                title='Pixel Values')\n",
        "# plt.show()\n",
        "\n",
        "flat = img02.flatten()\n",
        "# print(flat.shape)\n",
        "# print(flat)\n",
        "\n",
        "A = []\n",
        "\n",
        "for i in range(len(flat)):\n",
        "  if i%3==0:\n",
        "    A.append(int(flat[i]))\n",
        "\n",
        "A = np.array(A)\n",
        "print(A[0].dtype)\n",
        "\n",
        "# pd.Series(img02.flatten()).plot(kind=\"hist\",\n",
        "#                                bins=25,\n",
        "#                                title='Pixel Values')\n",
        "# plt.show()"
      ],
      "metadata": {
        "colab": {
          "base_uri": "https://localhost:8080/"
        },
        "id": "KfoAsaACMtXP",
        "outputId": "28ee06cc-9d58-4431-fde0-1b30646be2a6"
      },
      "execution_count": null,
      "outputs": [
        {
          "output_type": "stream",
          "name": "stdout",
          "text": [
            "int64\n"
          ]
        }
      ]
    },
    {
      "cell_type": "code",
      "source": [
        "A = np.zeros( (2, 3, 5) )\n",
        "print(\"A = {}\\n\".format(A))\n",
        "## 1rst term => depth\n",
        "## 2 other terms => (i,j)\n",
        "\n",
        "## basic 2D array\n",
        "B = np.ones( (1,3, 5) )\n",
        "print(\"B = {}\\n\".format(B))\n",
        "\n",
        "## 2D array reshaped into 3D one prior to be concatenated\n",
        "# Bprime = B.reshape(1,3,5)\n",
        "# print(\"Bprime = {}\\n\".format(Bprime))\n",
        "\n",
        "## C is created and suppoed to be A expanded by B\n",
        "# C = np.concatenate( (A, Bprime) )\n",
        "C = np.concatenate( (A, B), axis = 0)\n",
        "print(\"C = {}\\n\".format(C))"
      ],
      "metadata": {
        "id": "PgRnEsEEpQgy"
      },
      "execution_count": null,
      "outputs": []
    },
    {
      "cell_type": "code",
      "source": [
        "# length = len(flat)/3\n",
        "# length = int(length)\n",
        "\n",
        "# empty02 = np.zeros(shape=(length),dtype=np.uint8)\n",
        "# print(empty02)"
      ],
      "metadata": {
        "id": "Ui8JJWXApfiT"
      },
      "execution_count": null,
      "outputs": []
    },
    {
      "cell_type": "markdown",
      "source": [
        "###oldDecimation"
      ],
      "metadata": {
        "id": "WJV2ny3BDU35"
      }
    },
    {
      "cell_type": "code",
      "source": [
        "# def Decimate(img_copy,order,mode,size):\n",
        "#   div = 2**order\n",
        "\n",
        "#   #baris\n",
        "#   baris = img_copy.shape[0]//div\n",
        "#   print(f\"baris = {baris}, sisa baris = {img_copy.shape[0]%div}\")\n",
        "\n",
        "#   #kolom\n",
        "#   kolom = img_copy.shape[1]//div\n",
        "#   print(f\"kolom = {kolom}, sisa kolom = {img_copy.shape[1]%div}\")\n",
        "\n",
        "#   #Matriks Image Decimation (img_dc)\n",
        "#   # img_dc = np.zeros(shape=(baris,kolom,3),dtype=np.uint8)\n",
        "#   img_dc = np.zeros(shape=(baris,kolom,3),dtype=int)\n",
        "#   print(img_copy.shape,\"==>\",img_dc.shape)\n",
        "#   # print(img_dc)\n",
        "\n",
        "#   #Decimation\n",
        "#   match mode:\n",
        "\n",
        "#     case 0:#Max\n",
        "#       mode = \"Max\"\n",
        "#       for h in range(0,img_dc.shape[0]):\n",
        "#         for i in range(0,img_dc.shape[1]):\n",
        "#           for j in range(h*div,(h+1)*div):\n",
        "#             for k in range(i*div,(i+1)*div):\n",
        "#               img_dc[h][i][0] = max(img_dc[h][i][0],img_copy[j][k][0])\n",
        "#               img_dc[h][i][1] = max(img_dc[h][i][1],img_copy[j][k][1])\n",
        "#               img_dc[h][i][2] = max(img_dc[h][i][2],img_copy[j][k][2])\n",
        "\n",
        "#     case 1:#Median\n",
        "#       mode = \"Median\"\n",
        "#       temp = [[],[],[]]\n",
        "#       img_copy = img_copy.astype(int)\n",
        "#       for h in range(0,img_dc.shape[0]):\n",
        "#         for i in range(0,img_dc.shape[1]):\n",
        "#           for j in range(h*div,(h+1)*div):\n",
        "#             for k in range(i*div,(i+1)*div):\n",
        "#               temp[0].append(img_copy[j][k][0])\n",
        "#               temp[1].append(img_copy[j][k][1])\n",
        "#               temp[2].append(img_copy[j][k][2])\n",
        "#           img_dc[h][i][0] = st.median(temp[0])\n",
        "#           img_dc[h][i][1] = st.median(temp[1])\n",
        "#           img_dc[h][i][2] = st.median(temp[2])\n",
        "#           temp = [[],[],[]]\n",
        "#       img_dc = img_dc.astype(np.uint8)\n",
        "\n",
        "#     case 2:#Mean\n",
        "#       mode = \"Mean\"\n",
        "#       for h in range(0,img_dc.shape[0]):\n",
        "#         for i in range(0,img_dc.shape[1]):\n",
        "#           for j in range(h*div,(h+1)*div):\n",
        "#             for k in range(i*div,(i+1)*div):\n",
        "#               img_dc[h][i] += img_copy[j][k]\n",
        "#               # print(f\"B[{h}][{i}]<==A[{j}][{k}]\")\n",
        "#               # print(\"A:\",img_copy[j][k])\n",
        "#               # print(\"B:\\n\",img_dc)\n",
        "#           img_dc[h][i] = np.round(img_dc[h][i]/(div*div))\n",
        "#       # print(img_dc)\n",
        "#       img_dc = img_dc.astype(np.uint8)\n",
        "\n",
        "\n",
        "\n",
        "#   fig, axs = plt.subplots(1, 2, figsize=(size, size))\n",
        "#   axs[0].imshow(img_copy)\n",
        "#   axs[0].set_title(f\"Before, shape, {img_copy.shape}\")\n",
        "#   axs[1].imshow(img_dc)\n",
        "#   axs[1].set_title(f\"After, shape {img_dc.shape}\")\n",
        "\n",
        "#   fig.suptitle(f\"Decimation({mode})\", fontsize=16)\n",
        "#   plt.tight_layout()\n",
        "#   plt.subplots_adjust(top=1.45)\n",
        "#   plt.show()\n",
        "\n",
        "#   return img_dc\n"
      ],
      "metadata": {
        "id": "M7eU-TFkDSjS"
      },
      "execution_count": null,
      "outputs": []
    }
  ]
}
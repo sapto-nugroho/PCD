{
  "nbformat": 4,
  "nbformat_minor": 0,
  "metadata": {
    "colab": {
      "provenance": [],
      "authorship_tag": "ABX9TyNVDUZpWy27dJrMgc8fOJ87",
      "include_colab_link": true
    },
    "kernelspec": {
      "name": "python3",
      "display_name": "Python 3"
    },
    "language_info": {
      "name": "python"
    }
  },
  "cells": [
    {
      "cell_type": "markdown",
      "metadata": {
        "id": "view-in-github",
        "colab_type": "text"
      },
      "source": [
        "<a href=\"https://colab.research.google.com/github/sapto-nugroho/PCD/blob/main/PCD_Assignment01/PCD_Assignment01.ipynb\" target=\"_parent\"><img src=\"https://colab.research.google.com/assets/colab-badge.svg\" alt=\"Open In Colab\"/></a>"
      ]
    },
    {
      "cell_type": "markdown",
      "source": [
        "#\n",
        "##Nama  : Sapto Nugroho\n",
        "##NIU   : 565712"
      ],
      "metadata": {
        "id": "-Mf4H5vN-N9N"
      }
    },
    {
      "cell_type": "code",
      "source": [
        "!ls"
      ],
      "metadata": {
        "id": "qa9jTzbRS150",
        "outputId": "84b7fdd8-70de-4e87-ca44-16e5c87d6dc3",
        "colab": {
          "base_uri": "https://localhost:8080/"
        }
      },
      "execution_count": 7,
      "outputs": [
        {
          "output_type": "stream",
          "name": "stdout",
          "text": [
            "128x128.jpg  4x4.jpg\t8x8.jpg     grid02.jpg\tPCD_Assignment01.ipynb\n",
            "16x16.jpg    64x64.jpg\tgrid01.jpg  grid.jpg\n"
          ]
        }
      ]
    },
    {
      "cell_type": "code",
      "source": [
        "!git clone https://github.com/sapto-nugroho/PCD.git"
      ],
      "metadata": {
        "id": "zd-wWmlqNua8"
      },
      "execution_count": null,
      "outputs": []
    },
    {
      "cell_type": "code",
      "source": [
        "!git pull origin main"
      ],
      "metadata": {
        "id": "M6RbSSTTSvtF"
      },
      "execution_count": null,
      "outputs": []
    },
    {
      "cell_type": "code",
      "source": [
        "import cv2\n",
        "import pandas as pd\n",
        "import numpy as np\n",
        "# import matplotlib.pylab as plt\n",
        "import matplotlib.pyplot as plt\n",
        "import matplotlib.image as mpimg\n",
        "from PIL import Image"
      ],
      "metadata": {
        "id": "kcLVe3bLG_F9"
      },
      "execution_count": 8,
      "outputs": []
    },
    {
      "cell_type": "markdown",
      "source": [
        "###Image Acquisition"
      ],
      "metadata": {
        "id": "DglraIlqWYau"
      }
    },
    {
      "cell_type": "code",
      "source": [
        "##Image 1\n",
        "# img01_path = '/content/PCD/PCD_Assignment01/grid01.jpg'\n",
        "\n",
        "# img1 = mpimg.imread(img01_path)\n",
        "# plt.imshow(img1)\n",
        "# plt.axis('off')\n",
        "# plt.show()\n",
        "\n",
        "# img01 = plt.imread(img01_path)\n",
        "# print(img01.shape)\n",
        "# print(img01[1][1])\n",
        "# print(img01.flatten())\n",
        "\n",
        "\n",
        "#Image 2\n",
        "img02_path = '/content/PCD/PCD_Assignment01/grid02.jpg'\n",
        "\n",
        "# img2 = mpimg.imread(img02_path)\n",
        "# plt.imshow(img2)\n",
        "# plt.axis('off')\n",
        "# plt.show()\n",
        "\n",
        "img02 = plt.imread(img02_path)\n",
        "plt.imshow(img02)\n",
        "print(img02.shape)\n",
        "print(img02)\n"
      ],
      "metadata": {
        "colab": {
          "base_uri": "https://localhost:8080/",
          "height": 951
        },
        "id": "r-WKgu5bDVcb",
        "outputId": "5695f894-c01f-4895-bc0c-d8daa05926c1"
      },
      "execution_count": 29,
      "outputs": [
        {
          "output_type": "stream",
          "name": "stdout",
          "text": [
            "(5, 5, 3)\n",
            "[[[  2   2   2]\n",
            "  [ 41  41  41]\n",
            "  [ 12  12  12]\n",
            "  [143 143 143]\n",
            "  [ 61  61  61]]\n",
            "\n",
            " [[ 79  79  79]\n",
            "  [144 144 144]\n",
            "  [255 255 255]\n",
            "  [105 105 105]\n",
            "  [255 255 255]]\n",
            "\n",
            " [[255 255 255]\n",
            "  [ 56  56  56]\n",
            "  [ 35  35  35]\n",
            "  [255 255 255]\n",
            "  [252 252 252]]\n",
            "\n",
            " [[191 191 191]\n",
            "  [255 255 255]\n",
            "  [255 255 255]\n",
            "  [  1   1   1]\n",
            "  [192 192 192]]\n",
            "\n",
            " [[ 31  31  31]\n",
            "  [255 255 255]\n",
            "  [104 104 104]\n",
            "  [252 252 252]\n",
            "  [255 255 255]]]\n"
          ]
        },
        {
          "output_type": "display_data",
          "data": {
            "text/plain": [
              "<Figure size 640x480 with 1 Axes>"
            ],
            "image/png": "[encoded data removed]"
          },
          "metadata": {}
        }
      ]
    },
    {
      "cell_type": "markdown",
      "source": [
        "###Downsampling"
      ],
      "metadata": {
        "id": "PjnsGm7QW7pG"
      }
    },
    {
      "cell_type": "code",
      "source": [
        "img02_copy = img02.copy()\n",
        "img02_copy[0][0][0] = 255\n",
        "img02_copy[0][0][1] = 255\n",
        "img02_copy[0][0][2] = 255\n",
        "plt.imshow(img02_copy)\n",
        "# img02_copy.shape\n",
        "# print(img02_copy)"
      ],
      "metadata": {
        "id": "K02omoNANK6m",
        "outputId": "1dc6ae61-1902-4293-ba0e-ad93b26a4ff7",
        "colab": {
          "base_uri": "https://localhost:8080/",
          "height": 447
        }
      },
      "execution_count": 88,
      "outputs": [
        {
          "output_type": "execute_result",
          "data": {
            "text/plain": [
              "<matplotlib.image.AxesImage at 0x7bc94b7bdd00>"
            ]
          },
          "metadata": {},
          "execution_count": 88
        },
        {
          "output_type": "display_data",
          "data": {
            "text/plain": [
              "<Figure size 640x480 with 1 Axes>"
            ],
            "image/png": "[encoded data removed]"
          },
          "metadata": {}
        }
      ]
    },
    {
      "cell_type": "code",
      "source": [
        "#baris\n",
        "div = 2\n",
        "baris = img02_copy.shape[0]//div\n",
        "print(baris)\n",
        "print(\"sisa baris\", img02_copy.shape[0]%2)\n",
        "\n",
        "#kolom\n",
        "kolom = img02_copy.shape[1]//div\n",
        "print(kolom)\n",
        "print(\"sisa kolom\",img02_copy.shape[1]%2)\n",
        "\n",
        "#template matriks downsample\n",
        "M_DS = np.zeros(shape=(baris,kolom,3),dtype=np.uint8)\n",
        "print(M_DS)\n",
        "\n",
        "for j in range(0,M_DS.shape[1]):\n",
        "  # print(j)\n",
        "  for i in range(0,M_DS.shape[0]):\n",
        "    # print(i)\n",
        "    M_DS[j][i] = img02_copy[j*div][i*div]\n",
        "    # print(img02_copy)\n",
        "print(M_DS)\n",
        "plt.imshow(M_DS)"
      ],
      "metadata": {
        "id": "rWUaJkAPVMZl",
        "outputId": "4a2dc743-aa38-488c-bb90-6d40f3207255",
        "colab": {
          "base_uri": "https://localhost:8080/",
          "height": 695
        }
      },
      "execution_count": 91,
      "outputs": [
        {
          "output_type": "stream",
          "name": "stdout",
          "text": [
            "2\n",
            "sisa baris 1\n",
            "2\n",
            "sisa kolom 1\n",
            "[[[0 0 0]\n",
            "  [0 0 0]]\n",
            "\n",
            " [[0 0 0]\n",
            "  [0 0 0]]]\n",
            "[[[255 255 255]\n",
            "  [ 12  12  12]]\n",
            "\n",
            " [[255 255 255]\n",
            "  [ 35  35  35]]]\n"
          ]
        },
        {
          "output_type": "execute_result",
          "data": {
            "text/plain": [
              "<matplotlib.image.AxesImage at 0x7bc94b57f3b0>"
            ]
          },
          "metadata": {},
          "execution_count": 91
        },
        {
          "output_type": "display_data",
          "data": {
            "text/plain": [
              "<Figure size 640x480 with 1 Axes>"
            ],
            "image/png": "[encoded data removed]"
          },
          "metadata": {}
        }
      ]
    },
    {
      "cell_type": "code",
      "source": [
        "print(M_DS[0][0])\n",
        "M_DS[0][0] = img02_copy[0][0]\n",
        "print(M_DS[0][0])"
      ],
      "metadata": {
        "id": "CsPIE6S3Zb0G",
        "outputId": "df69a114-d421-4ce1-aa0b-6f2147386589",
        "colab": {
          "base_uri": "https://localhost:8080/"
        }
      },
      "execution_count": 79,
      "outputs": [
        {
          "output_type": "stream",
          "name": "stdout",
          "text": [
            "[0 0 0]\n",
            "[255 255 255]\n"
          ]
        }
      ]
    },
    {
      "cell_type": "code",
      "source": [
        "# pd.Series(img01.flatten()).plot(kind=\"hist\",\n",
        "#                                bins=25,\n",
        "#                                title='Pixel Values')\n",
        "# plt.show()\n",
        "\n",
        "flat = img02.flatten()\n",
        "# print(flat.shape)\n",
        "# print(flat)\n",
        "\n",
        "A = []\n",
        "\n",
        "for i in range(len(flat)):\n",
        "  if i%3==0:\n",
        "    A.append(int(flat[i]))\n",
        "\n",
        "A = np.array(A)\n",
        "print(A[0].dtype)\n",
        "\n",
        "# pd.Series(img02.flatten()).plot(kind=\"hist\",\n",
        "#                                bins=25,\n",
        "#                                title='Pixel Values')\n",
        "# plt.show()"
      ],
      "metadata": {
        "colab": {
          "base_uri": "https://localhost:8080/"
        },
        "id": "KfoAsaACMtXP",
        "outputId": "28ee06cc-9d58-4431-fde0-1b30646be2a6"
      },
      "execution_count": 49,
      "outputs": [
        {
          "output_type": "stream",
          "name": "stdout",
          "text": [
            "int64\n"
          ]
        }
      ]
    },
    {
      "cell_type": "code",
      "source": [
        "#commit ke-12"
      ],
      "metadata": {
        "id": "2Pc6owG3I5hW"
      },
      "execution_count": null,
      "outputs": []
    },
    {
      "cell_type": "markdown",
      "source": [
        "##junk"
      ],
      "metadata": {
        "id": "PihBCOx9pfyZ"
      }
    },
    {
      "cell_type": "code",
      "source": [
        "# length = len(flat)/3\n",
        "# length = int(length)\n",
        "\n",
        "# empty02 = np.zeros(shape=(length),dtype=np.uint8)\n",
        "# print(empty02)"
      ],
      "metadata": {
        "id": "Ui8JJWXApfiT"
      },
      "execution_count": null,
      "outputs": []
    }
  ]
}
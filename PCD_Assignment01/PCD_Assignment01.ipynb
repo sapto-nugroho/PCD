{
  "nbformat": 4,
  "nbformat_minor": 0,
  "metadata": {
    "colab": {
      "provenance": [],
      "authorship_tag": "ABX9TyNjoIBEugyIYFAoTutPgjZK",
      "include_colab_link": true
    },
    "kernelspec": {
      "name": "python3",
      "display_name": "Python 3"
    },
    "language_info": {
      "name": "python"
    }
  },
  "cells": [
    {
      "cell_type": "markdown",
      "metadata": {
        "id": "view-in-github",
        "colab_type": "text"
      },
      "source": [
        "<a href=\"https://colab.research.google.com/github/sapto-nugroho/PCD/blob/main/PCD_Assignment01/PCD_Assignment01.ipynb\" target=\"_parent\"><img src=\"https://colab.research.google.com/assets/colab-badge.svg\" alt=\"Open In Colab\"/></a>"
      ]
    },
    {
      "cell_type": "markdown",
      "source": [
        "#\n",
        "##Nama  : Sapto Nugroho\n",
        "##NIU   : 565712"
      ],
      "metadata": {
        "id": "-Mf4H5vN-N9N"
      }
    },
    {
      "cell_type": "code",
      "execution_count": null,
      "metadata": {
        "id": "HEnyEx2c-HkH",
        "colab": {
          "base_uri": "https://localhost:8080/"
        },
        "outputId": "ad8084c5-f7af-46a6-93b1-a3d68f705d92"
      },
      "outputs": [
        {
          "output_type": "stream",
          "name": "stdout",
          "text": [
            "Mounted at /content/drive\n"
          ]
        }
      ],
      "source": [
        "from google.colab import drive\n",
        "drive.mount('/content/drive')"
      ]
    },
    {
      "cell_type": "code",
      "source": [
        "!git clone https://github.com/sapto-nugroho/PCD.git"
      ],
      "metadata": {
        "id": "zd-wWmlqNua8",
        "outputId": "d9e984dd-62b3-4e66-bdd1-f3437ae710fd",
        "colab": {
          "base_uri": "https://localhost:8080/"
        }
      },
      "execution_count": null,
      "outputs": [
        {
          "output_type": "stream",
          "name": "stdout",
          "text": [
            "Cloning into 'PCD'...\n",
            "remote: Enumerating objects: 36, done.\u001b[K\n",
            "remote: Counting objects: 100% (36/36), done.\u001b[K\n",
            "remote: Compressing objects: 100% (32/32), done.\u001b[K\n",
            "remote: Total 36 (delta 8), reused 12 (delta 1), pack-reused 0 (from 0)\u001b[K\n",
            "Receiving objects: 100% (36/36), 19.60 KiB | 19.60 MiB/s, done.\n",
            "Resolving deltas: 100% (8/8), done.\n"
          ]
        }
      ]
    },
    {
      "cell_type": "code",
      "source": [
        "import cv2\n",
        "import pandas as pd\n",
        "import numpy as np\n",
        "# import matplotlib.pylab as plt\n",
        "import matplotlib.pyplot as plt\n",
        "import matplotlib.image as mpimg\n",
        "from PIL import Image\n"
      ],
      "metadata": {
        "id": "kcLVe3bLG_F9"
      },
      "execution_count": null,
      "outputs": []
    },
    {
      "cell_type": "code",
      "source": [
        "##Image 1\n",
        "# img01_path = '/content/PCD/PCD_Assignment01/grid01.jpg'\n",
        "\n",
        "# img1 = mpimg.imread(img01_path)\n",
        "# plt.imshow(img1)\n",
        "# plt.axis('off')\n",
        "# plt.show()\n",
        "\n",
        "# img01 = plt.imread(img01_path)\n",
        "# print(img01.shape)\n",
        "# print(img01[1][1])\n",
        "# print(img01.flatten())\n",
        "\n",
        "\n",
        "#Image 2\n",
        "img02_path = '/content/PCD/PCD_Assignment01/grid02.jpg'\n",
        "\n",
        "img2 = mpimg.imread(img02_path)\n",
        "plt.imshow(img2)\n",
        "# plt.axis('off')\n",
        "# plt.show()\n",
        "\n",
        "img02 = plt.imread(img02_path)\n",
        "print(img02.shape)\n",
        "print(img02)\n"
      ],
      "metadata": {
        "colab": {
          "base_uri": "https://localhost:8080/",
          "height": 951
        },
        "id": "r-WKgu5bDVcb",
        "outputId": "04998091-ba74-424e-af8b-7f210e50f391"
      },
      "execution_count": null,
      "outputs": [
        {
          "output_type": "stream",
          "name": "stdout",
          "text": [
            "(5, 5, 3)\n",
            "[[[  2   2   2]\n",
            "  [ 41  41  41]\n",
            "  [ 12  12  12]\n",
            "  [143 143 143]\n",
            "  [ 61  61  61]]\n",
            "\n",
            " [[ 79  79  79]\n",
            "  [144 144 144]\n",
            "  [255 255 255]\n",
            "  [105 105 105]\n",
            "  [255 255 255]]\n",
            "\n",
            " [[255 255 255]\n",
            "  [ 56  56  56]\n",
            "  [ 35  35  35]\n",
            "  [255 255 255]\n",
            "  [252 252 252]]\n",
            "\n",
            " [[191 191 191]\n",
            "  [255 255 255]\n",
            "  [255 255 255]\n",
            "  [  1   1   1]\n",
            "  [192 192 192]]\n",
            "\n",
            " [[ 31  31  31]\n",
            "  [255 255 255]\n",
            "  [104 104 104]\n",
            "  [252 252 252]\n",
            "  [255 255 255]]]\n"
          ]
        },
        {
          "output_type": "display_data",
          "data": {
            "text/plain": [
              "<Figure size 640x480 with 1 Axes>"
            ],
            "image/png": "[encoded data removed]"
          },
          "metadata": {}
        }
      ]
    },
    {
      "cell_type": "code",
      "source": [
        "img02_copy = img02.copy()\n",
        "img02_copy[0][0][0] = 255\n",
        "img02_copy[0][0][1] = 255\n",
        "img02_copy[0][0][2] = 255\n",
        "plt.imshow(img02_copy)\n",
        "# img02_copy"
      ],
      "metadata": {
        "id": "K02omoNANK6m",
        "outputId": "9d732f3c-6ad9-4013-a577-97ea533c8d10",
        "colab": {
          "base_uri": "https://localhost:8080/",
          "height": 447
        }
      },
      "execution_count": null,
      "outputs": [
        {
          "output_type": "execute_result",
          "data": {
            "text/plain": [
              "<matplotlib.image.AxesImage at 0x7c1633b436b0>"
            ]
          },
          "metadata": {},
          "execution_count": 48
        },
        {
          "output_type": "display_data",
          "data": {
            "text/plain": [
              "<Figure size 640x480 with 1 Axes>"
            ],
            "image/png": "[encoded data removed]"
          },
          "metadata": {}
        }
      ]
    },
    {
      "cell_type": "code",
      "source": [
        "# pd.Series(img01.flatten()).plot(kind=\"hist\",\n",
        "#                                bins=25,\n",
        "#                                title='Pixel Values')\n",
        "# plt.show()\n",
        "\n",
        "flat = img02.flatten()\n",
        "# print(flat.shape)\n",
        "# print(flat)\n",
        "\n",
        "A = []\n",
        "\n",
        "for i in range(len(flat)):\n",
        "  if i%3==0:\n",
        "    A.append(int(flat[i]))\n",
        "\n",
        "A = np.array(A)\n",
        "print(A)\n",
        "\n",
        "# pd.Series(img02.flatten()).plot(kind=\"hist\",\n",
        "#                                bins=25,\n",
        "#                                title='Pixel Values')\n",
        "# plt.show()"
      ],
      "metadata": {
        "colab": {
          "base_uri": "https://localhost:8080/"
        },
        "id": "KfoAsaACMtXP",
        "outputId": "38243d45-8301-4c78-9b48-2351b230256f"
      },
      "execution_count": null,
      "outputs": [
        {
          "output_type": "stream",
          "name": "stdout",
          "text": [
            "[  2  41  12 143  61  79 144 255 105 255 255  56  35 255 252 191 255 255\n",
            "   1 192  31 255 104 252 255]\n"
          ]
        }
      ]
    },
    {
      "cell_type": "code",
      "source": [
        "#commit ke-11"
      ],
      "metadata": {
        "id": "2Pc6owG3I5hW"
      },
      "execution_count": null,
      "outputs": []
    },
    {
      "cell_type": "markdown",
      "source": [
        "##junk"
      ],
      "metadata": {
        "id": "PihBCOx9pfyZ"
      }
    },
    {
      "cell_type": "code",
      "source": [
        "# length = len(flat)/3\n",
        "# length = int(length)\n",
        "\n",
        "# empty02 = np.zeros(shape=(length),dtype=np.uint8)\n",
        "# print(empty02)"
      ],
      "metadata": {
        "id": "Ui8JJWXApfiT"
      },
      "execution_count": null,
      "outputs": []
    }
  ]
}